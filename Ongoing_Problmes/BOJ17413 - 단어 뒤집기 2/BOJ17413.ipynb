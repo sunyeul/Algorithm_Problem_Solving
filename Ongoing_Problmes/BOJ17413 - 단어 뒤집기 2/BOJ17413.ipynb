{
 "cells": [
  {
   "cell_type": "markdown",
   "metadata": {},
   "source": [
    "# 17413번 : 단어 뒤집기 2"
   ]
  },
  {
   "cell_type": "markdown",
   "metadata": {},
   "source": [
    "## 문제\n",
    "문자열 S가 주어졌을 때, 이 문자열에서 단어만 뒤집으려고 한다.\n",
    "\n",
    "먼저, 문자열 S는 아래와과 같은 규칙을 지킨다.\n",
    "\n",
    "1. 알파벳 소문자('a'-'z'), 숫자('0'-'9'), 공백(' '), 특수 문자('<', '>')로만 이루어져 있다.\n",
    "2. 문자열의 시작과 끝은 공백이 아니다.\n",
    "3. '<'와 '>'가 문자열에 있는 경우 번갈아가면서 등장하며, '<'이 먼저 등장한다. 또, 두 문자의 개수는 같다.\n",
    "\n",
    "태그는 '<'로 시작해서 '>'로 끝나는 길이가 3 이상인 부분 문자열이고, '<'와 '>' 사이에는 알파벳 소문자와 공백만 있다. 단어는 알파벳 소문자와 숫자로 이루어진 부분 문자열이고, 연속하는 두 단어는 공백 하나로 구분한다. 태그는 단어가 아니며, 태그와 단어 사이에는 공백이 없다."
   ]
  },
  {
   "cell_type": "code",
   "execution_count": null,
   "metadata": {},
   "outputs": [],
   "source": [
    "from collections import deque\n",
    "def BOJ_17413():\n",
    "    S = input()\n",
    "    stack = deque()\n",
    "\n",
    "    switch=False\n",
    "    res=\"\"\n",
    "    for s in S:\n",
    "        if s == \"<\":\n",
    "            switch = True\n",
    "            while stack:\n",
    "                res+=stack.pop()\n",
    "        if switch:\n",
    "            res+=s\n",
    "        else:\n",
    "            if s!= \" \":\n",
    "                stack.append(s)\n",
    "            else:\n",
    "                while stack:\n",
    "                    res+=stack.pop()\n",
    "                res+=\" \"\n",
    "        if s == \">\":\n",
    "            switch = False\n",
    "    while stack:\n",
    "        res+=stack.pop()\n",
    "    print(res)\n",
    "BOJ_17413()"
   ]
  },
  {
   "cell_type": "code",
   "execution_count": null,
   "metadata": {},
   "outputs": [],
   "source": []
  }
 ],
 "metadata": {
  "kernelspec": {
   "display_name": "Python 3",
   "language": "python",
   "name": "python3"
  },
  "language_info": {
   "codemirror_mode": {
    "name": "ipython",
    "version": 3
   },
   "file_extension": ".py",
   "mimetype": "text/x-python",
   "name": "python",
   "nbconvert_exporter": "python",
   "pygments_lexer": "ipython3",
   "version": "3.6.10"
  }
 },
 "nbformat": 4,
 "nbformat_minor": 4
}
