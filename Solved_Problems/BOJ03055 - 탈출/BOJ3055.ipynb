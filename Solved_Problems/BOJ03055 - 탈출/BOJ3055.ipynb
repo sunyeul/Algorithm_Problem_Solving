{
 "cells": [
  {
   "cell_type": "code",
   "execution_count": 17,
   "metadata": {},
   "outputs": [
    {
     "name": "stdout",
     "output_type": "stream",
     "text": [
      "6\n"
     ]
    }
   ],
   "source": [
    "f = open(\"input.in\")\n",
    "input = f.readline\n",
    "\n",
    "def BOJ3055():\n",
    "    R, C = map(int, input().split())\n",
    "    forest = []\n",
    "    animal = set([])\n",
    "    water = set([])\n",
    "\n",
    "    for i in range(R):\n",
    "        row = list(input().strip())\n",
    "        for j in range(C):\n",
    "            if row[j] == 'S':\n",
    "                animal.add((i,j))\n",
    "            if row[j] == '*':\n",
    "                water.add((i,j))\n",
    "        forest.append(row)\n",
    "    move = [[-1,0],[1,0],[0,-1],[0,1]]\n",
    "    \n",
    "    cnt = 0\n",
    "    while animal:\n",
    "        water, prev_water = set([]), water\n",
    "        for i, j in prev_water:\n",
    "            for di, dj in move:\n",
    "                ii, jj = i+di, j+dj\n",
    "                if not (0 <= ii < R and 0 <= jj < C):\n",
    "                    continue\n",
    "                if forest[ii][jj] == '.':\n",
    "                    forest[ii][jj] = '*'\n",
    "                    water.add((ii,jj))\n",
    "\n",
    "        animal, prev_animal = set([]), animal\n",
    "        for i, j in prev_animal:\n",
    "            for di, dj in move:\n",
    "                ii, jj = i+di, j+dj\n",
    "                if not (0 <= ii < R and 0 <= jj < C):\n",
    "                    continue\n",
    "                if forest[ii][jj] == 'D':\n",
    "                    print(cnt+1)\n",
    "                    return\n",
    "                if forest[ii][jj] == '.':\n",
    "                    forest[ii][jj] = 'S'\n",
    "                    animal.add((ii,jj))\n",
    "        cnt += 1\n",
    "    print('KAKTUS')\n",
    "    return\n",
    "BOJ3055()"
   ]
  },
  {
   "cell_type": "code",
   "execution_count": null,
   "metadata": {},
   "outputs": [],
   "source": []
  }
 ],
 "metadata": {
  "kernelspec": {
   "display_name": "Python 3",
   "language": "python",
   "name": "python3"
  },
  "language_info": {
   "codemirror_mode": {
    "name": "ipython",
    "version": 3
   },
   "file_extension": ".py",
   "mimetype": "text/x-python",
   "name": "python",
   "nbconvert_exporter": "python",
   "pygments_lexer": "ipython3",
   "version": "3.7.7"
  }
 },
 "nbformat": 4,
 "nbformat_minor": 4
}
