{
 "cells": [
  {
   "cell_type": "code",
   "execution_count": 243,
   "metadata": {},
   "outputs": [],
   "source": [
    "f = open('input.in')\n",
    "input = f.readline"
   ]
  },
  {
   "cell_type": "code",
   "execution_count": 248,
   "metadata": {},
   "outputs": [
    {
     "name": "stdout",
     "output_type": "stream",
     "text": [
      "3 5 7\n",
      "7 10 7\n",
      "5 7 7\n",
      "15\n"
     ]
    }
   ],
   "source": [
    "from collections import Counter\n",
    "f = open('input.in')\n",
    "input = f.readline\n",
    "def BOJ_2805():\n",
    "    N, M = map(int, input().split())\n",
    "\n",
    "    tree = list(map(int,input().split()))\n",
    "    cnt = Counter(tree)\n",
    "    \n",
    "    highest = max(tree)\n",
    "    low = highest - M if highest > M else 0\n",
    "    high = highest\n",
    "    \n",
    "    while low <= high:\n",
    "        mid = (low + high) // 2\n",
    "        lower = sum([(t - mid - 1) * cnt[t] for t in cnt if mid <= t - 1])\n",
    "        upper = sum([(t - mid) * cnt[t] for t in cnt if mid <= t])\n",
    "        if lower < M <= upper:\n",
    "            break\n",
    "        elif M <= lower:\n",
    "            low = mid + 1\n",
    "        else:\n",
    "            high = mid - 1\n",
    "    print(mid)\n",
    "BOJ_2805()"
   ]
  },
  {
   "cell_type": "code",
   "execution_count": null,
   "metadata": {},
   "outputs": [],
   "source": []
  }
 ],
 "metadata": {
  "kernelspec": {
   "display_name": "Python 3",
   "language": "python",
   "name": "python3"
  },
  "language_info": {
   "codemirror_mode": {
    "name": "ipython",
    "version": 3
   },
   "file_extension": ".py",
   "mimetype": "text/x-python",
   "name": "python",
   "nbconvert_exporter": "python",
   "pygments_lexer": "ipython3",
   "version": "3.6.10"
  }
 },
 "nbformat": 4,
 "nbformat_minor": 4
}
