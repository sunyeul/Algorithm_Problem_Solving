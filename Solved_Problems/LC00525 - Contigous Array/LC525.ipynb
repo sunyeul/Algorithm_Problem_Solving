{
 "cells": [
  {
   "cell_type": "code",
   "execution_count": 2,
   "metadata": {},
   "outputs": [],
   "source": [
    "from typing import List\n",
    "f = open(\"input.in\")\n",
    "input = f.readline"
   ]
  },
  {
   "cell_type": "code",
   "execution_count": 3,
   "metadata": {},
   "outputs": [],
   "source": [
    "nums = list(map(int, input().split()))"
   ]
  },
  {
   "cell_type": "markdown",
   "metadata": {},
   "source": [
    "## Approach #1 Brute Force (Time Limit Exceed)"
   ]
  },
  {
   "cell_type": "code",
   "execution_count": 11,
   "metadata": {},
   "outputs": [],
   "source": [
    "class Solution:\n",
    "    def findMaxLength(self, nums: List[int]) -> int:\n",
    "        n = len(nums)\n",
    "        maxlen = 0\n",
    "        for i in range(n):\n",
    "            zeroes, ones = 0, 0\n",
    "            for j in range(i,n):\n",
    "                if nums[j]==0:zeroes+=1\n",
    "                else:ones+=1\n",
    "                \n",
    "                if zeroes==ones:\n",
    "                    maxlen = max(maxlen, j+1-i)\n",
    "        return maxlen"
   ]
  },
  {
   "cell_type": "code",
   "execution_count": 12,
   "metadata": {},
   "outputs": [
    {
     "data": {
      "text/plain": [
       "6"
      ]
     },
     "execution_count": 12,
     "metadata": {},
     "output_type": "execute_result"
    }
   ],
   "source": [
    "Solution().findMaxLength(nums)"
   ]
  },
  {
   "cell_type": "markdown",
   "metadata": {},
   "source": [
    "## Approach #2 Using Extra Array"
   ]
  },
  {
   "cell_type": "code",
   "execution_count": 13,
   "metadata": {},
   "outputs": [],
   "source": [
    "class Solution:\n",
    "    def findMaxLength(self, nums: List[int]) -> int:\n",
    "        n = len(nums)\n",
    "        arr = [-2] * (2*n + 1)\n",
    "        arr[n] = -1\n",
    "        maxlen, count = 0, 0\n",
    "        for i in range(n):\n",
    "            count += -1 if nums[i]==0 else 1\n",
    "            if arr[count + n] >= -1:\n",
    "                maxlen = max(maxlen, i-arr[count + n])\n",
    "            else:\n",
    "                arr[count + n] = i\n",
    "        return maxlen"
   ]
  },
  {
   "cell_type": "code",
   "execution_count": 14,
   "metadata": {},
   "outputs": [
    {
     "data": {
      "text/plain": [
       "6"
      ]
     },
     "execution_count": 14,
     "metadata": {},
     "output_type": "execute_result"
    }
   ],
   "source": [
    "Solution().findMaxLength(nums)"
   ]
  },
  {
   "cell_type": "markdown",
   "metadata": {},
   "source": [
    "## Approach #3 Using HashMap"
   ]
  },
  {
   "cell_type": "code",
   "execution_count": 17,
   "metadata": {},
   "outputs": [],
   "source": [
    "class Solution:\n",
    "    def findMaxLength(self, nums: List[int]) -> int:\n",
    "        n = len(nums)\n",
    "        rel = {0:-1}\n",
    "        maxlen, count = 0, 0\n",
    "        for i in range(n):\n",
    "            count += -1 if nums[i]==0 else 1\n",
    "            if rel.get(count, -2) >= -1:\n",
    "                maxlen = max(maxlen, i-rel.get(count))\n",
    "            else:\n",
    "                rel[count] = i\n",
    "        return maxlen"
   ]
  },
  {
   "cell_type": "code",
   "execution_count": 18,
   "metadata": {},
   "outputs": [
    {
     "data": {
      "text/plain": [
       "6"
      ]
     },
     "execution_count": 18,
     "metadata": {},
     "output_type": "execute_result"
    }
   ],
   "source": [
    "Solution().findMaxLength(nums)"
   ]
  },
  {
   "cell_type": "code",
   "execution_count": null,
   "metadata": {},
   "outputs": [],
   "source": []
  }
 ],
 "metadata": {
  "kernelspec": {
   "display_name": "Python 3",
   "language": "python",
   "name": "python3"
  },
  "language_info": {
   "codemirror_mode": {
    "name": "ipython",
    "version": 3
   },
   "file_extension": ".py",
   "mimetype": "text/x-python",
   "name": "python",
   "nbconvert_exporter": "python",
   "pygments_lexer": "ipython3",
   "version": "3.7.6"
  }
 },
 "nbformat": 4,
 "nbformat_minor": 4
}
