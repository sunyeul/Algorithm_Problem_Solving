{
 "cells": [
  {
   "cell_type": "code",
   "execution_count": 83,
   "metadata": {},
   "outputs": [
    {
     "name": "stdin",
     "output_type": "stream",
     "text": [
      " 1000\n"
     ]
    },
    {
     "name": "stdout",
     "output_type": "stream",
     "text": [
      "7919\n"
     ]
    }
   ],
   "source": [
    "def BOJ_15965():\n",
    "    n=7369000\n",
    "    num=[1]*n\n",
    "    for i in range(3,int(n**.5)+1,2):\n",
    "        if num[i]:\n",
    "            num[i*i::2*i] = [0]*((n-1-i*i)//(2*i)+1)\n",
    "        else:continue\n",
    "    prime = [2]+[p for p in range(3,n,2) if num[p]]\n",
    "    k=int(input())-1\n",
    "    print(prime[k])\n",
    "BOJ_15965()"
   ]
  },
  {
   "cell_type": "code",
   "execution_count": null,
   "metadata": {},
   "outputs": [],
   "source": []
  }
 ],
 "metadata": {
  "kernelspec": {
   "display_name": "Python 3",
   "language": "python",
   "name": "python3"
  },
  "language_info": {
   "codemirror_mode": {
    "name": "ipython",
    "version": 3
   },
   "file_extension": ".py",
   "mimetype": "text/x-python",
   "name": "python",
   "nbconvert_exporter": "python",
   "pygments_lexer": "ipython3",
   "version": "3.6.10"
  }
 },
 "nbformat": 4,
 "nbformat_minor": 4
}
