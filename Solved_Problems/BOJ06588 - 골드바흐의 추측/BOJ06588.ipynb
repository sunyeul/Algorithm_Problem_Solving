{
 "cells": [
  {
   "cell_type": "code",
   "execution_count": 7,
   "metadata": {},
   "outputs": [],
   "source": [
    "f=open('input.in')\n",
    "input=f.readline"
   ]
  },
  {
   "cell_type": "code",
   "execution_count": 8,
   "metadata": {},
   "outputs": [
    {
     "name": "stdout",
     "output_type": "stream",
     "text": [
      "8 = 3 + 5\n",
      "20 = 3 + 17\n",
      "42 = 5 + 37\n"
     ]
    }
   ],
   "source": [
    "def BOJ_6588():\n",
    "    m=10**6\n",
    "    num=[1]*m\n",
    "    for i in range(3,int(m**.5)+1,2):\n",
    "        if num[i]:\n",
    "            num[i*i::2*i] = [0]*((m-1-i*i)//(2*i)+1)\n",
    "        else:continue\n",
    "    \n",
    "    while True:\n",
    "        n = int(input())\n",
    "        if n == 0:break\n",
    "        for a in range(3,m+1,2):\n",
    "            if num[a]:\n",
    "                b=n-a\n",
    "                if num[b]:\n",
    "                    print(n,\"=\",a,\"+\",b)\n",
    "                    break\n",
    "BOJ_6588()"
   ]
  },
  {
   "cell_type": "code",
   "execution_count": null,
   "metadata": {},
   "outputs": [],
   "source": []
  }
 ],
 "metadata": {
  "kernelspec": {
   "display_name": "Python 3",
   "language": "python",
   "name": "python3"
  },
  "language_info": {
   "codemirror_mode": {
    "name": "ipython",
    "version": 3
   },
   "file_extension": ".py",
   "mimetype": "text/x-python",
   "name": "python",
   "nbconvert_exporter": "python",
   "pygments_lexer": "ipython3",
   "version": "3.6.10"
  }
 },
 "nbformat": 4,
 "nbformat_minor": 4
}
