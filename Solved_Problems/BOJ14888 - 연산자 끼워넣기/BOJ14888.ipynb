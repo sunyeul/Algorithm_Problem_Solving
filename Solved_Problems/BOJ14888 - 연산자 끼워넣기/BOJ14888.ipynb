{
 "cells": [
  {
   "cell_type": "code",
   "execution_count": 1,
   "metadata": {},
   "outputs": [],
   "source": [
    "import sys\n",
    "f = open(\"input.in\")\n",
    "input = f.readline\n",
    "print = sys.stdout.write"
   ]
  },
  {
   "cell_type": "code",
   "execution_count": 2,
   "metadata": {},
   "outputs": [],
   "source": [
    "def f(n:int,nums:list, p, s, m, d):\n",
    "    if n == 1:\n",
    "        return nums\n",
    "    num = nums[-1]\n",
    "    res = []\n",
    "    if p>0:\n",
    "        tmp = f(n-1, nums[:-1], p-1, s, m, d)\n",
    "        for a in tmp:\n",
    "            res.append(a+num)\n",
    "    if s>0:\n",
    "        tmp = f(n-1, nums[:-1], p, s-1, m, d)\n",
    "        for a in tmp:\n",
    "            res.append(a-num)\n",
    "    if m>0:\n",
    "        tmp = f(n-1, nums[:-1], p, s, m-1, d)\n",
    "        for a in tmp:\n",
    "            res.append(a*num)\n",
    "    if d>0:\n",
    "        tmp = f(n-1, nums[:-1], p, s, m, d-1)\n",
    "        for a in tmp:\n",
    "            if a < 0:\n",
    "                res.append(-(-a//num))\n",
    "            else:\n",
    "                res.append(a//num)\n",
    "    return res"
   ]
  },
  {
   "cell_type": "code",
   "execution_count": 3,
   "metadata": {},
   "outputs": [
    {
     "name": "stdout",
     "output_type": "stream",
     "text": [
      "54\n",
      "-24"
     ]
    }
   ],
   "source": [
    "def BOJ14888():\n",
    "    n = int(input())\n",
    "    nums = list(map(int,input().split()))\n",
    "    p, s, m, d = map(int,input().split())\n",
    "\n",
    "    res = f(n, nums, p, s, m, d)\n",
    "    print('{}\\n{}'.format(max(res), min(res)))\n",
    "BOJ14888()"
   ]
  },
  {
   "cell_type": "code",
   "execution_count": null,
   "metadata": {},
   "outputs": [],
   "source": []
  }
 ],
 "metadata": {
  "kernelspec": {
   "display_name": "Python 3",
   "language": "python",
   "name": "python3"
  },
  "language_info": {
   "codemirror_mode": {
    "name": "ipython",
    "version": 3
   },
   "file_extension": ".py",
   "mimetype": "text/x-python",
   "name": "python",
   "nbconvert_exporter": "python",
   "pygments_lexer": "ipython3",
   "version": "3.6.10"
  }
 },
 "nbformat": 4,
 "nbformat_minor": 4
}
