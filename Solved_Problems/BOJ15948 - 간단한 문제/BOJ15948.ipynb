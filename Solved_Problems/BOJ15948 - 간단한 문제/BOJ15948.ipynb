{
 "cells": [
  {
   "cell_type": "code",
   "execution_count": 19,
   "metadata": {},
   "outputs": [],
   "source": [
    "import sys\n",
    "f = open('input.in')\n",
    "input = f.readline\n",
    "print = sys.stdout.write"
   ]
  },
  {
   "cell_type": "code",
   "execution_count": 21,
   "metadata": {},
   "outputs": [
    {
     "name": "stdout",
     "output_type": "stream",
     "text": [
      "81 1415 672"
     ]
    }
   ],
   "source": [
    "def BOJ15948():\n",
    "    n, m =map(int,input().split())\n",
    "    A = [0] + list(map(int,input().split()))\n",
    "    B = [0] * (m+1)\n",
    "\n",
    "    for i in range(m,0,-1):\n",
    "        if n % 2 == 0:\n",
    "            B[i] = (n + 2 ** i - 2) * A[i]\n",
    "            n//=2\n",
    "        else:\n",
    "            B[i] = n * A[i]\n",
    "            n = (n+1)//2\n",
    "\n",
    "    print(\" \".join(map(str,B[1:])))\n",
    "BOJ15948()"
   ]
  },
  {
   "cell_type": "code",
   "execution_count": null,
   "metadata": {},
   "outputs": [],
   "source": []
  }
 ],
 "metadata": {
  "kernelspec": {
   "display_name": "Python 3",
   "language": "python",
   "name": "python3"
  },
  "language_info": {
   "codemirror_mode": {
    "name": "ipython",
    "version": 3
   },
   "file_extension": ".py",
   "mimetype": "text/x-python",
   "name": "python",
   "nbconvert_exporter": "python",
   "pygments_lexer": "ipython3",
   "version": "3.6.10"
  }
 },
 "nbformat": 4,
 "nbformat_minor": 4
}
