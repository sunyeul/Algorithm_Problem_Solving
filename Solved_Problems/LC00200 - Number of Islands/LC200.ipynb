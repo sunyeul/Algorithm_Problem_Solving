{
 "cells": [
  {
   "cell_type": "markdown",
   "metadata": {},
   "source": [
    "# [LC200] Number of Islands\n",
    "\n",
    "## Problem\n",
    "\n",
    "Given a 2d grid map of <code>'1'</code>s (land) and <code>'0'</code>s (water), count the number of islands. An island is surrounded by water and is formed by connecting adjacent lands horizontally or vertically. You may assume all four edges of the grid are all surrounded by water.\n",
    "\n",
    "**Example 1:**\n",
    "```\n",
    "Input:\n",
    "11110\n",
    "11010\n",
    "11000\n",
    "00000\n",
    "\n",
    "Output: 1\n",
    "```\n",
    "\n",
    "**Example 2:**\n",
    "```\n",
    "Input:\n",
    "11000\n",
    "11000\n",
    "00100\n",
    "00011\n",
    "\n",
    "Output: 3\n",
    "```"
   ]
  },
  {
   "cell_type": "code",
   "execution_count": 20,
   "metadata": {},
   "outputs": [],
   "source": [
    "from typing import List\n",
    "\n",
    "f = open(\"input.in\")\n",
    "grid = []\n",
    "for row in f:\n",
    "    grid.append(list(row.strip()))"
   ]
  },
  {
   "cell_type": "code",
   "execution_count": 21,
   "metadata": {},
   "outputs": [
    {
     "name": "stdout",
     "output_type": "stream",
     "text": [
      "['1', '1', '1', '1', '0']\n",
      "['1', '1', '0', '1', '0']\n",
      "['1', '1', '0', '0', '0']\n",
      "['0', '0', '0', '0', '0']\n"
     ]
    }
   ],
   "source": [
    "print(*grid, sep=\"\\n\")"
   ]
  },
  {
   "cell_type": "code",
   "execution_count": 22,
   "metadata": {},
   "outputs": [],
   "source": [
    "class Solution:\n",
    "    def numIslands(self, grid: List[List[str]]) -> int:\n",
    "        n, m = len(grid), len(grid[0])\n",
    "        unvisited = set()\n",
    "        for i in range(n):\n",
    "            for j in range(m):\n",
    "                if grid[i][j] == \"1\":\n",
    "                    unvisited.add((i,j))\n",
    "        \n",
    "        def BFS(i,j):\n",
    "            connected = set((i,j))\n",
    "            stack = [(i,j)]\n",
    "            move = [(-1,0),(1,0),(0,-1),(0,1)]\n",
    "            while stack:\n",
    "                i, j = stack.pop()\n",
    "                for di, dj in move:\n",
    "                    ii, jj = i+di, j+dj\n",
    "                    if ii<0 or ii>=n or jj<0 or jj>=m:\n",
    "                        continue\n",
    "                    if (ii, jj) in connected:\n",
    "                        continue\n",
    "                    if grid[ii][jj] == \"1\":\n",
    "                        connected.add((ii,jj))\n",
    "                        stack.append((ii,jj))\n",
    "            return connected\n",
    "        \n",
    "        cnt = 0\n",
    "        while unvisited:\n",
    "            i,j = unvisited.pop()\n",
    "            connected = BFS(i,j)\n",
    "            unvisited -= connected\n",
    "            cnt += 1\n",
    "            \n",
    "        return cnt"
   ]
  },
  {
   "cell_type": "code",
   "execution_count": 23,
   "metadata": {},
   "outputs": [
    {
     "data": {
      "text/plain": [
       "1"
      ]
     },
     "execution_count": 23,
     "metadata": {},
     "output_type": "execute_result"
    }
   ],
   "source": [
    "Solution().numIslands(grid)"
   ]
  },
  {
   "cell_type": "code",
   "execution_count": null,
   "metadata": {},
   "outputs": [],
   "source": []
  }
 ],
 "metadata": {
  "kernelspec": {
   "display_name": "Python 3",
   "language": "python",
   "name": "python3"
  },
  "language_info": {
   "codemirror_mode": {
    "name": "ipython",
    "version": 3
   },
   "file_extension": ".py",
   "mimetype": "text/x-python",
   "name": "python",
   "nbconvert_exporter": "python",
   "pygments_lexer": "ipython3",
   "version": "3.7.6"
  }
 },
 "nbformat": 4,
 "nbformat_minor": 4
}
