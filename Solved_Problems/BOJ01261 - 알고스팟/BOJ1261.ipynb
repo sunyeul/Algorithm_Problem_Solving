{
 "cells": [
  {
   "cell_type": "code",
   "execution_count": 1,
   "metadata": {},
   "outputs": [
    {
     "name": "stdout",
     "output_type": "stream",
     "text": [
      "2\n"
     ]
    }
   ],
   "source": [
    "import sys\n",
    "from heapq import *\n",
    "f = open(\"input.in\")\n",
    "input = f.readline\n",
    "\n",
    "def BOJ1261():\n",
    "\n",
    "    m,n = map(int,input().split())\n",
    "    G = [input() for _ in range(n)]\n",
    "\n",
    "    inf = sys.maxsize\n",
    "    dist = [[inf]*m for _ in range(n)]\n",
    "    dist[0][0] = 0\n",
    "\n",
    "    visited = [[0]*m for _ in range(n)]\n",
    "    visited[0][0]=1\n",
    "\n",
    "    queue = [(0,0,0)]\n",
    "    move = [(-1,0),(1,0),(0,-1),(0,1)]\n",
    "    while queue:\n",
    "        cnt, x, y = heappop(queue)\n",
    "        if (x,y) == (n,m):\n",
    "            break\n",
    "        for dx, dy in move:\n",
    "            xx, yy = x+dx, y+dy\n",
    "            if xx<0 or xx>n-1 or yy<0 or yy>m-1:\n",
    "                continue\n",
    "\n",
    "            wall = int(G[xx][yy])\n",
    "            if visited[xx][yy] and cnt+wall >= dist[xx][yy]:\n",
    "                continue\n",
    "\n",
    "            visited[xx][yy] = 1\n",
    "            dist[xx][yy] = cnt+wall\n",
    "            heappush(queue,(dist[xx][yy], xx, yy))\n",
    "\n",
    "    print(dist[n-1][m-1])\n",
    "BOJ1261()"
   ]
  },
  {
   "cell_type": "code",
   "execution_count": null,
   "metadata": {},
   "outputs": [],
   "source": []
  }
 ],
 "metadata": {
  "kernelspec": {
   "display_name": "Python 3",
   "language": "python",
   "name": "python3"
  },
  "language_info": {
   "codemirror_mode": {
    "name": "ipython",
    "version": 3
   },
   "file_extension": ".py",
   "mimetype": "text/x-python",
   "name": "python",
   "nbconvert_exporter": "python",
   "pygments_lexer": "ipython3",
   "version": "3.7.6"
  }
 },
 "nbformat": 4,
 "nbformat_minor": 4
}
