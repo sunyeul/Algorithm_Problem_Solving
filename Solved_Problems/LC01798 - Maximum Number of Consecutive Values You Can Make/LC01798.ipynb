{
 "cells": [
  {
   "cell_type": "code",
   "execution_count": 2,
   "id": "extended-subdivision",
   "metadata": {},
   "outputs": [],
   "source": [
    "from typing import *"
   ]
  },
  {
   "cell_type": "code",
   "execution_count": 3,
   "id": "associate-christopher",
   "metadata": {},
   "outputs": [],
   "source": [
    "class Solution:\n",
    "    def getMaximumConsecutive(self, coins: List[int]) -> int:\n",
    "        coins = sorted(coins)\n",
    "        ans = 0\n",
    "        \n",
    "        for coin in coins:\n",
    "            if ans + 1 == coin:\n",
    "                ans += 1\n",
    "                ans = 2 * ans - 1\n",
    "            elif ans >= coin:\n",
    "                ans += coin\n",
    "            else:\n",
    "                break\n",
    "        \n",
    "        return ans + 1"
   ]
  }
 ],
 "metadata": {
  "kernelspec": {
   "display_name": "Python 3",
   "language": "python",
   "name": "python3"
  },
  "language_info": {
   "codemirror_mode": {
    "name": "ipython",
    "version": 3
   },
   "file_extension": ".py",
   "mimetype": "text/x-python",
   "name": "python",
   "nbconvert_exporter": "python",
   "pygments_lexer": "ipython3",
   "version": "3.9.1"
  }
 },
 "nbformat": 4,
 "nbformat_minor": 5
}
