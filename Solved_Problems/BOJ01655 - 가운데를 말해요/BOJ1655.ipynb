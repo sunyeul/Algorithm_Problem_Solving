{
 "cells": [
  {
   "cell_type": "code",
   "execution_count": 8,
   "metadata": {},
   "outputs": [],
   "source": [
    "f = open('input.in')\n",
    "input = f.readline"
   ]
  },
  {
   "cell_type": "code",
   "execution_count": 9,
   "metadata": {},
   "outputs": [
    {
     "name": "stdout",
     "output_type": "stream",
     "text": [
      "1\n",
      "1\n",
      "2\n",
      "2\n",
      "2\n",
      "2\n",
      "5\n"
     ]
    }
   ],
   "source": [
    "from heapq import *\n",
    "\n",
    "def BOJ_1655():\n",
    "    input()\n",
    "    left = [] # 왼쪽 max_heap\n",
    "    right = [] # 오른쪽 min_heap\n",
    "    for x in map(int,f):\n",
    "        if len(left)==0:\n",
    "            heappush(left, -x)\n",
    "        elif x < -left[0]:\n",
    "            heappush(left, -x)\n",
    "        elif -left[0] <= x:\n",
    "            heappush(right, x)\n",
    "            \n",
    "        if len(left) > len(right) + 1:\n",
    "            heappush(right, -heappop(left))\n",
    "        elif len(right) > len(left):\n",
    "            heappush(left, -heappop(right))\n",
    "        print(-left[0])\n",
    "BOJ_1655()"
   ]
  },
  {
   "cell_type": "code",
   "execution_count": null,
   "metadata": {},
   "outputs": [],
   "source": []
  }
 ],
 "metadata": {
  "kernelspec": {
   "display_name": "Python 3",
   "language": "python",
   "name": "python3"
  },
  "language_info": {
   "codemirror_mode": {
    "name": "ipython",
    "version": 3
   },
   "file_extension": ".py",
   "mimetype": "text/x-python",
   "name": "python",
   "nbconvert_exporter": "python",
   "pygments_lexer": "ipython3",
   "version": "3.6.10"
  }
 },
 "nbformat": 4,
 "nbformat_minor": 4
}
