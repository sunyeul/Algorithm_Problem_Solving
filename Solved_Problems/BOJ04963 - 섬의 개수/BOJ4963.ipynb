{
 "cells": [
  {
   "cell_type": "markdown",
   "metadata": {},
   "source": [
    "# [BOJ4963] 섬의 개수\n",
    "\n",
    "## 문제\n",
    "\n",
    "정사각형으로 이루어져 있는 섬과 바다 지도가 주어진다. 섬의 개수를 세는 프로그램을 작성하시오.\n",
    "\n",
    "<img src=\"https://www.acmicpc.net/upload/images/island.png\">\n",
    "\n",
    "한 정사각형과 가로, 세로 또는 대각선으로 연결되어 있는 사각형은 걸어갈 수 있는 사각형이다. \n",
    "\n",
    "두 정사각형이 같은 섬에 있으려면, 한 정사각형에서 다른 정사각형으로 걸어서 갈 수 있는 경로가 있어야 한다. 지도는 바다로 둘러쌓여 있으며, 지도 밖으로 나갈 수 없다."
   ]
  },
  {
   "cell_type": "code",
   "execution_count": 23,
   "metadata": {},
   "outputs": [
    {
     "name": "stdout",
     "output_type": "stream",
     "text": [
      "0\n",
      "1\n",
      "1\n",
      "3\n",
      "1\n",
      "9\n"
     ]
    }
   ],
   "source": [
    "def BFS(i,j,w,h, MAP):\n",
    "    connected = set([])\n",
    "    stack = [(i,j)]\n",
    "    move = [(-1,-1),(-1,0),(-1,1),(0,-1),(0,1),(1,-1),(1,0),(1,1)]\n",
    "    while stack:\n",
    "        i, j = stack.pop()\n",
    "        if (i,j) not in connected:\n",
    "            connected.add((i,j))\n",
    "            for (di,dj) in move:\n",
    "                if (0<=i+di<h) and (0<=j+dj<w) and MAP[i+di][j+dj] and ((i+di,j+dj) not in connected):\n",
    "                    stack.append((i+di,j+dj))\n",
    "    return connected\n",
    "\n",
    "def COUNT(w, h, MAP, func):\n",
    "    cnt = 0\n",
    "    unvisited = set([(i,j) for i in range(h) for j in range(w) if MAP[i][j]])\n",
    "    while unvisited:\n",
    "        i,j = unvisited.pop()\n",
    "        connected= func(i,j,w,h, MAP)\n",
    "        unvisited -= connected\n",
    "        cnt += 1\n",
    "    return cnt\n",
    "\n",
    "def making_MAP(w,h):\n",
    "    MAP = [[*map(int,input().split())] for _ in range(h)]\n",
    "    return MAP\n",
    "\n",
    "import sys\n",
    "f = open(\"input.in\")\n",
    "input = f.readline\n",
    "print = sys.stdout.write\n",
    "\n",
    "def BOJ4963():\n",
    "    while True:\n",
    "        w, h = map(int, input().split())\n",
    "        if w==0 and h==0:\n",
    "            return\n",
    "        MAP = making_MAP(w,h)\n",
    "        cnt = COUNT(w, h, MAP, BFS)\n",
    "        print(\"{}\\n\".format(cnt))\n",
    "BOJ4963()"
   ]
  },
  {
   "cell_type": "code",
   "execution_count": null,
   "metadata": {},
   "outputs": [],
   "source": []
  }
 ],
 "metadata": {
  "kernelspec": {
   "display_name": "Python 3",
   "language": "python",
   "name": "python3"
  },
  "language_info": {
   "codemirror_mode": {
    "name": "ipython",
    "version": 3
   },
   "file_extension": ".py",
   "mimetype": "text/x-python",
   "name": "python",
   "nbconvert_exporter": "python",
   "pygments_lexer": "ipython3",
   "version": "3.7.6"
  }
 },
 "nbformat": 4,
 "nbformat_minor": 4
}
