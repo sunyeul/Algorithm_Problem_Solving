{
 "cells": [
  {
   "cell_type": "code",
   "execution_count": 250,
   "metadata": {},
   "outputs": [],
   "source": [
    "f = open(\"input.in\")\n",
    "input = f.readline"
   ]
  },
  {
   "cell_type": "code",
   "execution_count": 251,
   "metadata": {},
   "outputs": [
    {
     "name": "stdout",
     "output_type": "stream",
     "text": [
      "45\n"
     ]
    }
   ],
   "source": [
    "def BOJ14501():\n",
    "    N = int(input())\n",
    "    dp = [0]*(N+1) # dp[i] : maximum revenue at i-th day\n",
    "    for i in range(N):\n",
    "        t, p = map(int,input().split())\n",
    "\n",
    "        if dp[i+1] < dp[i]:\n",
    "            dp[i+1] = dp[i]\n",
    "\n",
    "        if i+t <= N and dp[i+t] < dp[i]+p:\n",
    "            dp[i+t] = dp[i]+p\n",
    "    print(dp[N])\n",
    "BOJ14501()"
   ]
  },
  {
   "cell_type": "code",
   "execution_count": null,
   "metadata": {},
   "outputs": [],
   "source": []
  }
 ],
 "metadata": {
  "kernelspec": {
   "display_name": "Python 3",
   "language": "python",
   "name": "python3"
  },
  "language_info": {
   "codemirror_mode": {
    "name": "ipython",
    "version": 3
   },
   "file_extension": ".py",
   "mimetype": "text/x-python",
   "name": "python",
   "nbconvert_exporter": "python",
   "pygments_lexer": "ipython3",
   "version": "3.7.6"
  }
 },
 "nbformat": 4,
 "nbformat_minor": 4
}
