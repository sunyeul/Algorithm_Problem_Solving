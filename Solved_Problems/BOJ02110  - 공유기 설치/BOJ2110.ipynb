{
 "cells": [
  {
   "cell_type": "code",
   "execution_count": 241,
   "metadata": {},
   "outputs": [
    {
     "name": "stdout",
     "output_type": "stream",
     "text": [
      "6\n"
     ]
    }
   ],
   "source": [
    "f = open('input.in')\n",
    "input = f.readline\n",
    "\n",
    "def BOJ_2110():\n",
    "    N, C = map(int,input().split())\n",
    "\n",
    "    house = [int(input()) for _ in range(N)]\n",
    "    house.sort()\n",
    "\n",
    "    low, high = 1, (house[-1] - house[0])//(C-1) + 1\n",
    "\n",
    "    while low+1 < high:\n",
    "        mid = (low + high) // 2\n",
    "        t, cnt = house[0]+mid, 1\n",
    "        for h in house:\n",
    "            if h >= t:\n",
    "                t = h + mid\n",
    "                cnt += 1\n",
    "            if cnt == C:\n",
    "                break\n",
    "        low,high=(mid,high) if cnt >= C else (low,mid)\n",
    "    print(low)\n",
    "BOJ_2110()"
   ]
  },
  {
   "cell_type": "code",
   "execution_count": null,
   "metadata": {},
   "outputs": [],
   "source": []
  }
 ],
 "metadata": {
  "kernelspec": {
   "display_name": "Python 3",
   "language": "python",
   "name": "python3"
  },
  "language_info": {
   "codemirror_mode": {
    "name": "ipython",
    "version": 3
   },
   "file_extension": ".py",
   "mimetype": "text/x-python",
   "name": "python",
   "nbconvert_exporter": "python",
   "pygments_lexer": "ipython3",
   "version": "3.6.10"
  }
 },
 "nbformat": 4,
 "nbformat_minor": 4
}
