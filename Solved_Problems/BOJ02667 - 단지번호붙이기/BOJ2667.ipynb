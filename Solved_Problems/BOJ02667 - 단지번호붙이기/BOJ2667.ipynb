{
 "cells": [
  {
   "cell_type": "markdown",
   "metadata": {},
   "source": [
    "# [BOJ2667] 단지번호붙이기\n",
    "\n",
    "## 문제\n",
    "\n",
    "<그림 1>과 같이 정사각형 모양의 지도가 있다. 1은 집이 있는 곳을, 0은 집이 없는 곳을 나타낸다. 철수는 이 지도를 가지고 연결된 집들의 모임인 단지를 정의하고, 단지에 번호를 붙이려 한다. 여기서 연결되었다는 것은 어떤 집이 좌우, 혹은 아래위로 다른 집이 있는 경우를 말한다. 대각선상에 집이 있는 경우는 연결된 것이 아니다. <그림 2>는 <그림 1>을 단지별로 번호를 붙인 것이다. 지도를 입력하여 단지수를 출력하고, 각 단지에 속하는 집의 수를 오름차순으로 정렬하여 출력하는 프로그램을 작성하시오.\n",
    "\n",
    "<img src=\"https://www.acmicpc.net/upload/images/ITVH9w1Gf6eCRdThfkegBUSOKd.png\">"
   ]
  },
  {
   "cell_type": "code",
   "execution_count": 9,
   "metadata": {},
   "outputs": [
    {
     "name": "stdout",
     "output_type": "stream",
     "text": [
      "37\n",
      "8\n",
      "9"
     ]
    }
   ],
   "source": [
    "import sys\n",
    "f = open(\"input.in\")\n",
    "input = f.readline\n",
    "print = sys.stdout.write\n",
    "\n",
    "def BOJ2667():\n",
    "    n = int(input())\n",
    "    unvisited = set([])\n",
    "    for i in range(n):\n",
    "        row = input()\n",
    "        for j in range(n):\n",
    "            if row[j] == \"1\":\n",
    "                unvisited.add(i+j*1j)\n",
    "\n",
    "    cnt = 0\n",
    "    size = []\n",
    "    move = [-1,1,-1j,1j]\n",
    "\n",
    "    while unvisited:\n",
    "        start = unvisited.pop()\n",
    "        stack = [start]\n",
    "        tmp_size = 1\n",
    "        while stack:\n",
    "            c = stack.pop()\n",
    "            if c in unvisited:\n",
    "                tmp_size += 1\n",
    "            unvisited -= {c}\n",
    "            for dc in move:\n",
    "                cc = c + dc\n",
    "                if cc.real<0 or cc.real>n-1 or cc.imag<0 or cc.imag>n-1:\n",
    "                    continue\n",
    "                if cc not in unvisited:\n",
    "                    continue\n",
    "                stack.append(cc)\n",
    "        cnt += 1\n",
    "        size.append(tmp_size)\n",
    "    size.sort()\n",
    "\n",
    "    print(\"{}\\n\".format(cnt))\n",
    "    print(\"\\n\".join(map(str,size)))\n",
    "BOJ2667()"
   ]
  },
  {
   "cell_type": "code",
   "execution_count": null,
   "metadata": {},
   "outputs": [],
   "source": []
  },
  {
   "cell_type": "code",
   "execution_count": null,
   "metadata": {},
   "outputs": [],
   "source": []
  }
 ],
 "metadata": {
  "kernelspec": {
   "display_name": "Python 3",
   "language": "python",
   "name": "python3"
  },
  "language_info": {
   "codemirror_mode": {
    "name": "ipython",
    "version": 3
   },
   "file_extension": ".py",
   "mimetype": "text/x-python",
   "name": "python",
   "nbconvert_exporter": "python",
   "pygments_lexer": "ipython3",
   "version": "3.7.6"
  }
 },
 "nbformat": 4,
 "nbformat_minor": 4
}
