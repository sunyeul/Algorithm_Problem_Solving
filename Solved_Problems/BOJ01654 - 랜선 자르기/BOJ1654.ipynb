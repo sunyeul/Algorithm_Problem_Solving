{
 "cells": [
  {
   "cell_type": "code",
   "execution_count": 47,
   "metadata": {},
   "outputs": [],
   "source": [
    "f = open('input.in')\n",
    "input = f.readline"
   ]
  },
  {
   "cell_type": "code",
   "execution_count": 48,
   "metadata": {},
   "outputs": [
    {
     "name": "stdout",
     "output_type": "stream",
     "text": [
      "200\n"
     ]
    }
   ],
   "source": [
    "def BOJ_1654():\n",
    "    K, N = map(int,input().split())\n",
    "    cable = [int(input()) for _ in range(K)]\n",
    "    low, high = 1, sum(cable)//N*2\n",
    "    ans = 0\n",
    "    while low <= high:\n",
    "        mid = (low + high) // 2\n",
    "        n= sum([c//mid for c in cable])\n",
    "        if n >= N:\n",
    "            ans = mid if mid > ans else ans\n",
    "            low = mid + 1\n",
    "        elif n < N:\n",
    "            high = mid - 1\n",
    "    print(ans)\n",
    "BOJ_1654()"
   ]
  },
  {
   "cell_type": "code",
   "execution_count": 32,
   "metadata": {},
   "outputs": [
    {
     "data": {
      "text/plain": [
       "462"
      ]
     },
     "execution_count": 32,
     "metadata": {},
     "output_type": "execute_result"
    }
   ],
   "source": [
    "sum(cable)//N*2"
   ]
  },
  {
   "cell_type": "code",
   "execution_count": null,
   "metadata": {},
   "outputs": [],
   "source": []
  }
 ],
 "metadata": {
  "kernelspec": {
   "display_name": "Python 3",
   "language": "python",
   "name": "python3"
  },
  "language_info": {
   "codemirror_mode": {
    "name": "ipython",
    "version": 3
   },
   "file_extension": ".py",
   "mimetype": "text/x-python",
   "name": "python",
   "nbconvert_exporter": "python",
   "pygments_lexer": "ipython3",
   "version": "3.6.10"
  }
 },
 "nbformat": 4,
 "nbformat_minor": 4
}
