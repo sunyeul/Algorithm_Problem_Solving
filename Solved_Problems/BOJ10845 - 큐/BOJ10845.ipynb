{
 "cells": [
  {
   "cell_type": "code",
   "execution_count": 23,
   "metadata": {},
   "outputs": [],
   "source": [
    "f = open('input.in')\n",
    "input = f.readline"
   ]
  },
  {
   "cell_type": "code",
   "execution_count": 24,
   "metadata": {},
   "outputs": [],
   "source": [
    "def push(queue, x):\n",
    "    return queue.insert(0,int(x))\n",
    "\n",
    "def pop(queue):\n",
    "    if len(queue)>0:\n",
    "        return print(queue.pop())\n",
    "    else:\n",
    "        return print(-1)\n",
    "def size(queue):\n",
    "    return print(len(queue))\n",
    "def empty(queue):\n",
    "    if len(queue)>0:\n",
    "        return print(0)\n",
    "    else:\n",
    "        return print(1)\n",
    "def front(queue):\n",
    "    if len(queue)>0:\n",
    "        return print(queue[-1])\n",
    "    else:\n",
    "        return print(-1)\n",
    "def back(queue):\n",
    "    if len(queue)>0:\n",
    "        return print(queue[0])\n",
    "    else:\n",
    "        return print(-1)"
   ]
  },
  {
   "cell_type": "code",
   "execution_count": 25,
   "metadata": {},
   "outputs": [
    {
     "name": "stdout",
     "output_type": "stream",
     "text": [
      "1\n",
      "2\n",
      "2\n",
      "0\n",
      "1\n",
      "2\n",
      "-1\n",
      "0\n",
      "1\n",
      "-1\n",
      "0\n",
      "3\n"
     ]
    }
   ],
   "source": [
    "def BOJ_10845():\n",
    "    n=int(input())\n",
    "    queue=[]\n",
    "    for _ in range(n):\n",
    "        cmd = input().split()\n",
    "        if cmd[0]=='push':\n",
    "            push(queue, int(cmd[1]))\n",
    "        elif cmd[0]==\"pop\":\n",
    "            pop(queue)\n",
    "        elif cmd[0]=='size':\n",
    "            size(queue)\n",
    "        elif cmd[0]=='empty':\n",
    "            empty(queue)\n",
    "        elif cmd[0]=='front':\n",
    "            front(queue)\n",
    "        elif cmd[0]=='back':\n",
    "            back(queue)\n",
    "BOJ_10845()"
   ]
  },
  {
   "cell_type": "code",
   "execution_count": null,
   "metadata": {},
   "outputs": [],
   "source": []
  }
 ],
 "metadata": {
  "kernelspec": {
   "display_name": "Python 3",
   "language": "python",
   "name": "python3"
  },
  "language_info": {
   "codemirror_mode": {
    "name": "ipython",
    "version": 3
   },
   "file_extension": ".py",
   "mimetype": "text/x-python",
   "name": "python",
   "nbconvert_exporter": "python",
   "pygments_lexer": "ipython3",
   "version": "3.6.10"
  }
 },
 "nbformat": 4,
 "nbformat_minor": 4
}
