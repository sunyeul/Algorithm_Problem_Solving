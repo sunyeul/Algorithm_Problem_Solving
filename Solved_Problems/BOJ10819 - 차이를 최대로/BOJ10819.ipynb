{
 "cells": [
  {
   "cell_type": "code",
   "execution_count": 27,
   "metadata": {},
   "outputs": [],
   "source": [
    "import sys\n",
    "f = open(\"input.in\")\n",
    "input = f.readline\n",
    "print = sys.stdout.write\n",
    "\n",
    "from itertools import permutations"
   ]
  },
  {
   "cell_type": "code",
   "execution_count": 28,
   "metadata": {},
   "outputs": [],
   "source": [
    "def calc(arr):\n",
    "    res=0\n",
    "    tmp = arr[0]\n",
    "    for a in arr[1:]:\n",
    "        res += abs(a - tmp)\n",
    "        tmp = a\n",
    "    return res"
   ]
  },
  {
   "cell_type": "code",
   "execution_count": 29,
   "metadata": {},
   "outputs": [
    {
     "name": "stdout",
     "output_type": "stream",
     "text": [
      "62"
     ]
    }
   ],
   "source": [
    "def BOJ10819():\n",
    "    n = int(input())\n",
    "    A = list(map(int,input().split()))\n",
    "    ans = 0\n",
    "    for i in permutations(A):\n",
    "        tmp = calc(i)\n",
    "        if tmp>ans:\n",
    "            ans = tmp\n",
    "    print(\"{}\".format(ans))\n",
    "BOJ10819()"
   ]
  },
  {
   "cell_type": "code",
   "execution_count": null,
   "metadata": {},
   "outputs": [],
   "source": []
  }
 ],
 "metadata": {
  "kernelspec": {
   "display_name": "Python 3",
   "language": "python",
   "name": "python3"
  },
  "language_info": {
   "codemirror_mode": {
    "name": "ipython",
    "version": 3
   },
   "file_extension": ".py",
   "mimetype": "text/x-python",
   "name": "python",
   "nbconvert_exporter": "python",
   "pygments_lexer": "ipython3",
   "version": "3.6.10"
  }
 },
 "nbformat": 4,
 "nbformat_minor": 4
}
