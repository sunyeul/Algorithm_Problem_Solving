{
 "cells": [
  {
   "cell_type": "code",
   "execution_count": 5,
   "metadata": {},
   "outputs": [],
   "source": [
    "f = open(\"input.in\")\n",
    "input = f.readline"
   ]
  },
  {
   "cell_type": "code",
   "execution_count": 6,
   "metadata": {},
   "outputs": [
    {
     "name": "stdout",
     "output_type": "stream",
     "text": [
      "100\n"
     ]
    }
   ],
   "source": [
    "from collections import defaultdict, deque\n",
    "\n",
    "def BOJ2261():\n",
    "    n = int(input())\n",
    "    pts = []\n",
    "    for _ in range(n):\n",
    "        x,y = map(int,input().split())\n",
    "        pts.append(x + y*1j)\n",
    "    pts = sorted(pts, key=lambda x: x.real)\n",
    "\n",
    "    min_ = min(abs(pts[i + 1] - pts[i]) for i in range(len(pts) - 1))\n",
    "    if min_ in [0,1]:\n",
    "        return print(round(min_**2))\n",
    "\n",
    "    group = [int(p.imag // min_) for p in pts]\n",
    "\n",
    "    candidate = defaultdict(deque)\n",
    "    start = 0\n",
    "    for idx, p1 in enumerate(pts):\n",
    "        while min_ <= p1.real - pts[start].real:\n",
    "            i = candidate[group[start]].popleft()\n",
    "            assert start == i, (start, i)\n",
    "            start += 1\n",
    "\n",
    "        for k in range(group[idx] - 1, group[idx] + 2):\n",
    "            if k not in candidate:\n",
    "                continue\n",
    "            for i in candidate[k]:\n",
    "                min_ = min(min_, abs(pts[i] - p1))\n",
    "        candidate[group[idx]].append(idx)\n",
    "    print(round(min_**2))\n",
    "BOJ2261()"
   ]
  },
  {
   "cell_type": "code",
   "execution_count": null,
   "metadata": {},
   "outputs": [],
   "source": []
  }
 ],
 "metadata": {
  "kernelspec": {
   "display_name": "Python 3",
   "language": "python",
   "name": "python3"
  },
  "language_info": {
   "codemirror_mode": {
    "name": "ipython",
    "version": 3
   },
   "file_extension": ".py",
   "mimetype": "text/x-python",
   "name": "python",
   "nbconvert_exporter": "python",
   "pygments_lexer": "ipython3",
   "version": "3.6.10"
  }
 },
 "nbformat": 4,
 "nbformat_minor": 4
}
