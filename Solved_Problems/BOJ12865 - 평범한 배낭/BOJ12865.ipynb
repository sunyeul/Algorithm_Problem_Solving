{
 "cells": [
  {
   "cell_type": "code",
   "execution_count": 17,
   "metadata": {},
   "outputs": [],
   "source": [
    "f = open('input.in')\n",
    "input = f.readline"
   ]
  },
  {
   "cell_type": "code",
   "execution_count": 18,
   "metadata": {},
   "outputs": [
    {
     "name": "stdout",
     "output_type": "stream",
     "text": [
      "[0, -1, -1, -1, -1, -1, 13, -1]\n",
      "[0, -1, -1, -1, 8, -1, 13, -1]\n",
      "[0, -1, -1, 6, 8, -1, 13, 14]\n",
      "[0, -1, -1, 6, 8, 12, 13, 14]\n"
     ]
    }
   ],
   "source": [
    "def BOJ_12865():\n",
    "    n, k = map(int,input().split())\n",
    "    dp = [0] + [-1] * k\n",
    "    for _ in range(n):\n",
    "        w, v = map(int, input().split())\n",
    "        for j in range(k, w-1, -1):\n",
    "            if dp[j-w] == -1:\n",
    "                continue\n",
    "            dp[j] = max(dp[j], dp[j-w] + v)\n",
    "    print(max(dp))\n",
    "\n",
    "BOJ_12865()"
   ]
  },
  {
   "cell_type": "code",
   "execution_count": null,
   "metadata": {},
   "outputs": [],
   "source": []
  }
 ],
 "metadata": {
  "kernelspec": {
   "display_name": "Python 3",
   "language": "python",
   "name": "python3"
  },
  "language_info": {
   "codemirror_mode": {
    "name": "ipython",
    "version": 3
   },
   "file_extension": ".py",
   "mimetype": "text/x-python",
   "name": "python",
   "nbconvert_exporter": "python",
   "pygments_lexer": "ipython3",
   "version": "3.6.10"
  }
 },
 "nbformat": 4,
 "nbformat_minor": 4
}
