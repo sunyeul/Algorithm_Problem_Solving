{
 "cells": [
  {
   "cell_type": "code",
   "execution_count": 18,
   "metadata": {},
   "outputs": [],
   "source": [
    "f=open('input.in')\n",
    "input=f.readline"
   ]
  },
  {
   "cell_type": "code",
   "execution_count": 19,
   "metadata": {},
   "outputs": [],
   "source": [
    "def GCD(a,b):\n",
    "    if a%b==0:\n",
    "        return b\n",
    "    elif b%a==0:\n",
    "        return a\n",
    "    else:\n",
    "        return GCD(min(a,b),abs(b-a))\n",
    "\n",
    "for _ in range(int(input())):\n",
    "    num = list(map(int,input().split()))\n",
    "    n=num.pop(0)\n",
    "    res=0\n",
    "    for i in range(n-1):\n",
    "        a=num[i]\n",
    "        for j in range(i+1,n):\n",
    "            b=num[j]\n",
    "            res+= GCD(a,b)\n",
    "    print(res)"
   ]
  },
  {
   "cell_type": "code",
   "execution_count": null,
   "metadata": {},
   "outputs": [],
   "source": []
  }
 ],
 "metadata": {
  "kernelspec": {
   "display_name": "Python 3",
   "language": "python",
   "name": "python3"
  },
  "language_info": {
   "codemirror_mode": {
    "name": "ipython",
    "version": 3
   },
   "file_extension": ".py",
   "mimetype": "text/x-python",
   "name": "python",
   "nbconvert_exporter": "python",
   "pygments_lexer": "ipython3",
   "version": "3.6.10"
  }
 },
 "nbformat": 4,
 "nbformat_minor": 4
}
