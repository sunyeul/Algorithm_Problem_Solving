{
 "cells": [
  {
   "cell_type": "code",
   "execution_count": 156,
   "metadata": {},
   "outputs": [],
   "source": [
    "import sys\n",
    "f = open(\"input.in\")\n",
    "input = f.readline\n",
    "print = sys.stdout.write"
   ]
  },
  {
   "cell_type": "code",
   "execution_count": 157,
   "metadata": {},
   "outputs": [],
   "source": [
    "def f(n:int,nums:list, ops:list):\n",
    "    if n == 1:\n",
    "        return nums\n",
    "    num = nums[-1]\n",
    "    res = []\n",
    "    if ops[0]>0:\n",
    "        tmp = f(n-1, nums[:-1], [ops[i] if i != 0 else ops[i]-1 for i in range(4) ])\n",
    "        for a in tmp:\n",
    "            res.append(a+num)\n",
    "    if ops[1]>0:\n",
    "        tmp = f(n-1, nums[:-1], [ops[i] if i != 1 else ops[i]-1 for i in range(4) ])\n",
    "        for a in tmp:\n",
    "            res.append(a-num)\n",
    "    if ops[2]>0:\n",
    "        tmp = f(n-1, nums[:-1], [ops[i] if i != 2 else ops[i]-1 for i in range(4) ])\n",
    "        for a in tmp:\n",
    "            res.append(a*num)\n",
    "    if ops[3]>0:\n",
    "        tmp = f(n-1, nums[:-1], [ops[i] if i != 3 else ops[i]-1 for i in range(4) ])\n",
    "        for a in tmp:\n",
    "            if a < 0:\n",
    "                res.append(-(-a//num))\n",
    "            else:\n",
    "                res.append(a//num)\n",
    "    return res"
   ]
  },
  {
   "cell_type": "code",
   "execution_count": 158,
   "metadata": {},
   "outputs": [
    {
     "name": "stdout",
     "output_type": "stream",
     "text": [
      "54\n",
      "-24"
     ]
    }
   ],
   "source": [
    "def BOJ14888():\n",
    "    n = int(input())\n",
    "    nums = list(map(int,input().split()))\n",
    "    ops = list(map(int,input().split()))\n",
    "\n",
    "    res = f(n, nums, ops)\n",
    "    print('{}\\n{}'.format(max(res), min(res)))\n",
    "BOJ14888()"
   ]
  }
 ],
 "metadata": {
  "kernelspec": {
   "display_name": "Python 3",
   "language": "python",
   "name": "python3"
  },
  "language_info": {
   "codemirror_mode": {
    "name": "ipython",
    "version": 3
   },
   "file_extension": ".py",
   "mimetype": "text/x-python",
   "name": "python",
   "nbconvert_exporter": "python",
   "pygments_lexer": "ipython3",
   "version": "3.7.6"
  }
 },
 "nbformat": 4,
 "nbformat_minor": 4
}
