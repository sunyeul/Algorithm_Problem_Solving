{
 "cells": [
  {
   "cell_type": "code",
   "execution_count": 18,
   "metadata": {},
   "outputs": [],
   "source": [
    "import networkx as nx\n",
    "import matplotlib.pyplot as plt\n",
    "import sys\n",
    "from heapq import *\n",
    "f = open('input.in')\n",
    "input = f.readline"
   ]
  },
  {
   "cell_type": "code",
   "execution_count": 19,
   "metadata": {},
   "outputs": [],
   "source": [
    "FG = nx.DiGraph()"
   ]
  },
  {
   "cell_type": "code",
   "execution_count": 20,
   "metadata": {},
   "outputs": [
    {
     "name": "stdout",
     "output_type": "stream",
     "text": [
      "V:5\n",
      "E:6\n",
      "K:1\n",
      "G:[{}, {2: 2, 3: 3}, {3: 4, 4: 5}, {4: 6}, {}, {1: 1}]\n"
     ]
    }
   ],
   "source": [
    "V, E = map(int, input().split())\n",
    "K = int(input())\n",
    "print(\"V:{}\\nE:{}\\nK:{}\".format(V,E,K))\n",
    "\n",
    "G = [dict() for _ in range(V+1)]\n",
    "for _ in range(E):\n",
    "    u,v,w = map(int, input().split())\n",
    "    FG.add_weighted_edges_from([(u,v,w)])\n",
    "    if v in G[u]:\n",
    "        G[u][v] = min(G[u][v], w)\n",
    "    else:\n",
    "        G[u][v] = w\n",
    "    \n",
    "print(\"G:{}\".format(G))"
   ]
  },
  {
   "cell_type": "code",
   "execution_count": 24,
   "metadata": {},
   "outputs": [
    {
     "data": {
      "image/png": "[encoded data removed]",
      "text/plain": [
       "<Figure size 432x288 with 1 Axes>"
      ]
     },
     "metadata": {},
     "output_type": "display_data"
    }
   ],
   "source": [
    "nx.draw(FG, with_labels=True)\n",
    "plt.show()"
   ]
  },
  {
   "cell_type": "markdown",
   "metadata": {},
   "source": [
    "### Dijkstra algorithm 1"
   ]
  },
  {
   "cell_type": "code",
   "execution_count": 27,
   "metadata": {},
   "outputs": [
    {
     "name": "stdout",
     "output_type": "stream",
     "text": [
      "0\n",
      "2\n",
      "3\n",
      "7\n",
      "INF\n"
     ]
    }
   ],
   "source": [
    "# distance from K\n",
    "inf = sys.maxsize\n",
    "dist = [inf for _ in range(V+1)]\n",
    "dist[K] = 0\n",
    "\n",
    "# priority queue\n",
    "pq = [(0,K)]\n",
    "while pq:\n",
    "    d1, v1 = heappop(pq)\n",
    "    for v2, w2 in G[v1].items():\n",
    "        if dist[v1]+w2 < dist[v2]:\n",
    "            dist[v2] = dist[v1]+w2\n",
    "            heappush(pq, (dist[v2],v2))\n",
    "\n",
    "for i in dist[1:]:\n",
    "    print(i if i < inf else 'INF')"
   ]
  },
  {
   "cell_type": "markdown",
   "metadata": {},
   "source": [
    "### Dijkstra algorithm 2"
   ]
  },
  {
   "cell_type": "code",
   "execution_count": 8,
   "metadata": {},
   "outputs": [
    {
     "name": "stdout",
     "output_type": "stream",
     "text": [
      "0\n",
      "2\n",
      "3\n",
      "7\n",
      "INF\n"
     ]
    }
   ],
   "source": [
    "# distance from K\n",
    "dist = [-1 for _ in range(V+1)]\n",
    "\n",
    "# priority queue\n",
    "pq = [(0,K)]\n",
    "while pq:\n",
    "    d1, v1 = heappop(pq)\n",
    "    if dist[v1] != -1:\n",
    "        continue\n",
    "    dist[v1] = d1\n",
    "    for v2, d2 in G[v1].items():\n",
    "        heappush(pq, (dist[v1]+d2,v2))\n",
    "\n",
    "for i in dist[1:]:\n",
    "    print('INF' if i == -1 else i)"
   ]
  },
  {
   "cell_type": "code",
   "execution_count": null,
   "metadata": {},
   "outputs": [],
   "source": []
  }
 ],
 "metadata": {
  "kernelspec": {
   "display_name": "Python 3",
   "language": "python",
   "name": "python3"
  },
  "language_info": {
   "codemirror_mode": {
    "name": "ipython",
    "version": 3
   },
   "file_extension": ".py",
   "mimetype": "text/x-python",
   "name": "python",
   "nbconvert_exporter": "python",
   "pygments_lexer": "ipython3",
   "version": "3.6.10"
  }
 },
 "nbformat": 4,
 "nbformat_minor": 4
}
