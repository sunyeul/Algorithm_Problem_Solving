{
 "cells": [
  {
   "cell_type": "markdown",
   "metadata": {},
   "source": [
    "# [PG42841] 숫자 야구\n",
    "\n",
    "## 문제\n",
    "\n",
    "숫자 야구 게임이란 2명이 서로가 생각한 숫자를 맞추는 게임입니다.\n",
    "\n",
    "각자 서로 다른 1~9까지 3자리 임의의 숫자를 정한 뒤 서로에게 3자리의 숫자를 불러서 결과를 확인합니다. 그리고 그 결과를 토대로 상대가 정한 숫자를 예상한 뒤 맞힙니다.\n",
    "\n",
    "```\n",
    "* 숫자는 맞지만, 위치가 틀렸을 때는 볼\n",
    "* 숫자와 위치가 모두 맞을 때는 스트라이크\n",
    "* 숫자와 위치가 모두 틀렸을 때는 아웃\n",
    "```\n",
    "\n",
    "예를 들어, 아래의 경우가 있으면\n",
    "\n",
    "```\n",
    "A : 123\n",
    "B : 1스트라이크 1볼.\n",
    "A : 356\n",
    "B : 1스트라이크 0볼.\n",
    "A : 327\n",
    "B : 2스트라이크 0볼.\n",
    "A : 489\n",
    "B : 0스트라이크 1볼.\n",
    "```\n",
    "\n",
    "이때 가능한 답은 324와 328 두 가지입니다.\n",
    "\n",
    "질문한 세 자리의 수, 스트라이크의 수, 볼의 수를 담은 2차원 배열 baseball이 매개변수로 주어질 때, 가능한 답의 개수를 return 하도록 solution 함수를 작성해주세요.\n",
    "\n",
    "## 제한사항\n",
    "\n",
    "* 질문의 수는 1 이상 100 이하의 자연수입니다.\n",
    "* baseball의 각 행은 [세 자리의 수, 스트라이크의 수, 볼의 수] 를 담고 있습니다.\n",
    "\n",
    "## 입출력 예\n",
    "\n",
    "```\n",
    "Input:\n",
    "[[123, 1, 1], [356, 1, 0], [327, 2, 0], [489, 0, 1]]\n",
    "Output:\n",
    "2\n",
    "```"
   ]
  },
  {
   "cell_type": "code",
   "execution_count": 1,
   "metadata": {},
   "outputs": [],
   "source": [
    "baseball = [[123, 1, 1], [356, 1, 0], [327, 2, 0], [489, 0, 1]]"
   ]
  },
  {
   "cell_type": "code",
   "execution_count": 7,
   "metadata": {},
   "outputs": [
    {
     "data": {
      "text/plain": [
       "{2}"
      ]
     },
     "execution_count": 7,
     "metadata": {},
     "output_type": "execute_result"
    }
   ],
   "source": [
    "set([1,2]).intersection(set([2,3]))"
   ]
  },
  {
   "cell_type": "code",
   "execution_count": 40,
   "metadata": {},
   "outputs": [],
   "source": [
    "from itertools import permutations"
   ]
  },
  {
   "cell_type": "code",
   "execution_count": 44,
   "metadata": {},
   "outputs": [
    {
     "data": {
      "text/plain": [
       "<map at 0x1b76bcc7088>"
      ]
     },
     "execution_count": 44,
     "metadata": {},
     "output_type": "execute_result"
    }
   ],
   "source": []
  },
  {
   "cell_type": "code",
   "execution_count": 37,
   "metadata": {},
   "outputs": [],
   "source": [
    "def stk_bll(cnd, num):\n",
    "    s, b = 0, 0\n",
    "    for i in range(3):\n",
    "        if cnd[i] not in num:\n",
    "            continue\n",
    "        if cnd[i] == num[i]:\n",
    "            s+=1\n",
    "        else:\n",
    "            b+=1\n",
    "    return [s,b]"
   ]
  },
  {
   "cell_type": "code",
   "execution_count": 45,
   "metadata": {},
   "outputs": [],
   "source": [
    "def solution(baseball):\n",
    "    answer = 0\n",
    "    nums = [str(row[0]) for row in baseball]\n",
    "    rcd = [[row[1], row[2]] for row in baseball]\n",
    "    print(nums, rcd)\n",
    "    candidates = map(''.join, permutations([str(i) for i in range(1,10)],3))\n",
    "    for cnd in candidates:\n",
    "        if [stk_bll(cnd, num) for num in nums] == rcd:\n",
    "            print(cnd)\n",
    "            answer += 1\n",
    "    return answer"
   ]
  },
  {
   "cell_type": "code",
   "execution_count": 46,
   "metadata": {},
   "outputs": [
    {
     "name": "stdout",
     "output_type": "stream",
     "text": [
      "['123', '356', '327', '489'] [[1, 1], [1, 0], [2, 0], [0, 1]]\n",
      "324\n",
      "328\n"
     ]
    },
    {
     "data": {
      "text/plain": [
       "2"
      ]
     },
     "execution_count": 46,
     "metadata": {},
     "output_type": "execute_result"
    }
   ],
   "source": [
    "solution(baseball)"
   ]
  },
  {
   "cell_type": "code",
   "execution_count": null,
   "metadata": {},
   "outputs": [],
   "source": []
  }
 ],
 "metadata": {
  "kernelspec": {
   "display_name": "Python 3",
   "language": "python",
   "name": "python3"
  },
  "language_info": {
   "codemirror_mode": {
    "name": "ipython",
    "version": 3
   },
   "file_extension": ".py",
   "mimetype": "text/x-python",
   "name": "python",
   "nbconvert_exporter": "python",
   "pygments_lexer": "ipython3",
   "version": "3.7.7"
  }
 },
 "nbformat": 4,
 "nbformat_minor": 4
}
