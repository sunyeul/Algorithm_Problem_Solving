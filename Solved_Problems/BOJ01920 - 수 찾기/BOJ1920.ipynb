{
 "cells": [
  {
   "cell_type": "code",
   "execution_count": 25,
   "metadata": {},
   "outputs": [],
   "source": [
    "f = open(\"input.in\")\n",
    "input = f.readline"
   ]
  },
  {
   "cell_type": "code",
   "execution_count": 8,
   "metadata": {},
   "outputs": [
    {
     "name": "stdout",
     "output_type": "stream",
     "text": [
      "1\n",
      "1\n",
      "0\n",
      "0\n",
      "1\n"
     ]
    }
   ],
   "source": [
    "def BinarySearch(arr,val,low,high):\n",
    "    if low>high:\n",
    "        return 0\n",
    "    else:\n",
    "        mid=int((low+high)/2)\n",
    "        if val<arr[mid]:\n",
    "            return BinarySearch(arr,val,low,mid-1)\n",
    "        elif val>arr[mid]:\n",
    "            return BinarySearch(arr,val,mid+1,high)\n",
    "        else:\n",
    "            return 1\n",
    "        \n",
    "def BOJ_1920():\n",
    "    n=int(input())\n",
    "    A=list(map(int,input().split()))\n",
    "    A.sort()\n",
    "\n",
    "    m=int(input())\n",
    "    for i in input().split():\n",
    "        print(BinarySearch(A,int(i),0,n-1))\n",
    "BOJ_1920()"
   ]
  },
  {
   "cell_type": "code",
   "execution_count": 26,
   "metadata": {},
   "outputs": [
    {
     "name": "stdout",
     "output_type": "stream",
     "text": [
      "1\n",
      "1\n",
      "0\n",
      "0\n",
      "1\n",
      "\n"
     ]
    }
   ],
   "source": [
    "def BOJ_1920():\n",
    "    n,A,m = input(),set(input().split()),input()\n",
    "    res=\"\"\n",
    "    for i in input().split():\n",
    "        res += \"1\\n\" if i in A else \"0\\n\"\n",
    "    print(res)\n",
    "BOJ_1920()"
   ]
  },
  {
   "cell_type": "code",
   "execution_count": 19,
   "metadata": {},
   "outputs": [
    {
     "data": {
      "text/plain": [
       "True"
      ]
     },
     "execution_count": 19,
     "metadata": {},
     "output_type": "execute_result"
    }
   ],
   "source": [
    "\"1\" in \"4 1 5 2 3\""
   ]
  },
  {
   "cell_type": "code",
   "execution_count": null,
   "metadata": {},
   "outputs": [],
   "source": []
  }
 ],
 "metadata": {
  "kernelspec": {
   "display_name": "Python 3",
   "language": "python",
   "name": "python3"
  },
  "language_info": {
   "codemirror_mode": {
    "name": "ipython",
    "version": 3
   },
   "file_extension": ".py",
   "mimetype": "text/x-python",
   "name": "python",
   "nbconvert_exporter": "python",
   "pygments_lexer": "ipython3",
   "version": "3.6.10"
  }
 },
 "nbformat": 4,
 "nbformat_minor": 4
}
