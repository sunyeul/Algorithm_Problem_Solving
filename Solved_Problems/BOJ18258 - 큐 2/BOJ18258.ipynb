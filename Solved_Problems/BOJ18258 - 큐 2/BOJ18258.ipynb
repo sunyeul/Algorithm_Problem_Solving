{
 "cells": [
  {
   "cell_type": "code",
   "execution_count": 65,
   "metadata": {},
   "outputs": [],
   "source": [
    "f = open('input,in')\n",
    "input = f.readline"
   ]
  },
  {
   "cell_type": "code",
   "execution_count": 66,
   "metadata": {},
   "outputs": [
    {
     "name": "stdout",
     "output_type": "stream",
     "text": [
      "1\n",
      "2\n",
      "2\n",
      "0\n",
      "1\n",
      "2\n",
      "-1\n",
      "0\n",
      "1\n",
      "-1\n",
      "0\n",
      "3\n"
     ]
    }
   ],
   "source": [
    "from collections import deque\n",
    "\n",
    "def BOJ_18258():\n",
    "    n=int(input())\n",
    "    dq = deque()\n",
    "    for cmd in map(str.split, f):\n",
    "        empty = (len(dq)==0)\n",
    "        if cmd[0]=='push':\n",
    "            dq.append(int(cmd[1]))\n",
    "        elif cmd[0]==\"pop\":\n",
    "            if not empty:print(dq.popleft())\n",
    "            else:print(-1)\n",
    "        elif cmd[0]=='size':\n",
    "            print(len(dq))\n",
    "        elif cmd[0]=='empty':\n",
    "            if empty: print(1)\n",
    "            else: print(0)\n",
    "        elif cmd[0]=='front':\n",
    "            if not empty : print(dq[0])\n",
    "            else: print(-1)\n",
    "        elif cmd[0]=='back':\n",
    "            if not empty: print(dq[-1])\n",
    "            else: print(-1)\n",
    "BOJ_18258()"
   ]
  },
  {
   "cell_type": "code",
   "execution_count": null,
   "metadata": {},
   "outputs": [],
   "source": []
  }
 ],
 "metadata": {
  "kernelspec": {
   "display_name": "Python 3",
   "language": "python",
   "name": "python3"
  },
  "language_info": {
   "codemirror_mode": {
    "name": "ipython",
    "version": 3
   },
   "file_extension": ".py",
   "mimetype": "text/x-python",
   "name": "python",
   "nbconvert_exporter": "python",
   "pygments_lexer": "ipython3",
   "version": "3.6.10"
  }
 },
 "nbformat": 4,
 "nbformat_minor": 4
}
