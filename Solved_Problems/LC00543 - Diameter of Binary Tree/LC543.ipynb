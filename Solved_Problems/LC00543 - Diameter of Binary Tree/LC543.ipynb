{
 "cells": [
  {
   "cell_type": "code",
   "execution_count": 10,
   "metadata": {},
   "outputs": [],
   "source": [
    "from typing import List\n",
    "f = open(\"input.in\")\n",
    "input = f.readline"
   ]
  },
  {
   "cell_type": "code",
   "execution_count": 6,
   "metadata": {},
   "outputs": [],
   "source": [
    "class TreeNode:\n",
    "    def __init__(self, x):\n",
    "        self.val = x\n",
    "        self.left = None\n",
    "        self.right = None"
   ]
  },
  {
   "cell_type": "code",
   "execution_count": 12,
   "metadata": {},
   "outputs": [],
   "source": [
    "def List_to_Tree(nums: List[int], idx: int) -> TreeNode :\n",
    "    n = len(nums)-1\n",
    "    root = TreeNode(nums[idx])\n",
    "    if 2*idx+1 <= n:\n",
    "        root.left = List_to_Tree(nums, 2*idx+1)\n",
    "    if 2*idx+2 <= n:\n",
    "        root.right = List_to_Tree(nums, 2*idx+2)\n",
    "    return root"
   ]
  },
  {
   "cell_type": "code",
   "execution_count": 15,
   "metadata": {},
   "outputs": [],
   "source": [
    "nums = list(map(int,input().split()))\n",
    "root = List_to_Tree(nums, 0)"
   ]
  },
  {
   "cell_type": "code",
   "execution_count": 7,
   "metadata": {},
   "outputs": [],
   "source": [
    "class Solution:\n",
    "    def diameterOfBinaryTree(self, root: TreeNode) -> int:\n",
    "        self.res = 0\n",
    "        def depthIs(node:TreeNode) -> int:\n",
    "            if node is None or (node.left is None and node.right is None):\n",
    "                return 0\n",
    "            L = depthIs(node.left)+1 if node.left!=None else 0\n",
    "            R = depthIs(node.right)+1 if node.right!=None else 0\n",
    "            self.res = max(self.res, L+R)\n",
    "            return max(L, R)\n",
    "        \n",
    "        depthIs(root)\n",
    "        return self.res"
   ]
  },
  {
   "cell_type": "code",
   "execution_count": 19,
   "metadata": {},
   "outputs": [
    {
     "data": {
      "text/plain": [
       "3"
      ]
     },
     "execution_count": 19,
     "metadata": {},
     "output_type": "execute_result"
    }
   ],
   "source": [
    "Solution().diameterOfBinaryTree(root)"
   ]
  }
 ],
 "metadata": {
  "kernelspec": {
   "display_name": "Python 3",
   "language": "python",
   "name": "python3"
  },
  "language_info": {
   "codemirror_mode": {
    "name": "ipython",
    "version": 3
   },
   "file_extension": ".py",
   "mimetype": "text/x-python",
   "name": "python",
   "nbconvert_exporter": "python",
   "pygments_lexer": "ipython3",
   "version": "3.7.6"
  }
 },
 "nbformat": 4,
 "nbformat_minor": 4
}
