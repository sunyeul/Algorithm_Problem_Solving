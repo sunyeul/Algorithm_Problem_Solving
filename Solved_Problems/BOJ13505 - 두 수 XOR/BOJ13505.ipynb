{
 "cells": [
  {
   "cell_type": "code",
   "execution_count": 7,
   "metadata": {},
   "outputs": [],
   "source": [
    "f = open(\"input.in\")\n",
    "input = f.readline"
   ]
  },
  {
   "cell_type": "code",
   "execution_count": 8,
   "metadata": {},
   "outputs": [
    {
     "name": "stdout",
     "output_type": "stream",
     "text": [
      "1073741824\n",
      "536870912\n",
      "268435456\n",
      "134217728\n",
      "67108864\n",
      "33554432\n",
      "16777216\n",
      "8388608\n",
      "4194304\n",
      "2097152\n",
      "1048576\n",
      "524288\n",
      "262144\n",
      "131072\n",
      "65536\n",
      "32768\n",
      "16384\n",
      "8192\n",
      "4096\n",
      "2048\n",
      "1024\n",
      "512\n",
      "256\n",
      "128\n",
      "64\n",
      "32\n",
      "16\n",
      "8\n",
      "4\n",
      "6\n",
      "5\n",
      "5\n"
     ]
    }
   ],
   "source": [
    "def BOJ13505():\n",
    "    n = int(input())\n",
    "    nums = list(map(int, input().split()))\n",
    "    \n",
    "    maxx = 0\n",
    "    mask = 0\n",
    "\n",
    "    se = set()\n",
    "\n",
    "    for i in range(30,-1,-1):\n",
    "        mask |= (1 << i)\n",
    "        newMaxx = maxx | (1 << i)\n",
    "\n",
    "        for i in range(n):\n",
    "            se.add(nums[i] & mask)\n",
    "\n",
    "        for prefix in se:\n",
    "            if (newMaxx ^ prefix) in se:\n",
    "                maxx = newMaxx\n",
    "                break\n",
    "        se.clear()\n",
    "    print(maxx)\n",
    "    return\n",
    "\n",
    "BOJ13505()"
   ]
  },
  {
   "cell_type": "code",
   "execution_count": null,
   "metadata": {},
   "outputs": [],
   "source": []
  }
 ],
 "metadata": {
  "kernelspec": {
   "display_name": "Python 3",
   "language": "python",
   "name": "python3"
  },
  "language_info": {
   "codemirror_mode": {
    "name": "ipython",
    "version": 3
   },
   "file_extension": ".py",
   "mimetype": "text/x-python",
   "name": "python",
   "nbconvert_exporter": "python",
   "pygments_lexer": "ipython3",
   "version": "3.7.7"
  }
 },
 "nbformat": 4,
 "nbformat_minor": 4
}
