{
 "cells": [
  {
   "cell_type": "code",
   "execution_count": 39,
   "metadata": {},
   "outputs": [],
   "source": [
    "f = open(\"input.in\")\n",
    "input = f.readline"
   ]
  },
  {
   "cell_type": "code",
   "execution_count": 40,
   "metadata": {},
   "outputs": [
    {
     "name": "stdout",
     "output_type": "stream",
     "text": [
      "28\n"
     ]
    }
   ],
   "source": [
    "def BOJ13505():\n",
    "    n = int(input())\n",
    "    nums = list(map(int, input().split()))\n",
    "    \n",
    "    maxx = 0\n",
    "    mask = 0\n",
    "\n",
    "    se = set()\n",
    "\n",
    "    for i in range(30,-1,-1):\n",
    "        mask |= (1 << i)\n",
    "        newMaxx = maxx | (1 << i)\n",
    "\n",
    "        for i in range(n):\n",
    "            se.add(nums[i] & mask)\n",
    "\n",
    "        for prefix in se:\n",
    "            if (newMaxx ^ prefix) in se:\n",
    "                maxx = newMaxx\n",
    "                break\n",
    "        se.clear()\n",
    "    print(maxx)\n",
    "    return\n",
    "\n",
    "BOJ13505()"
   ]
  }
 ],
 "metadata": {
  "kernelspec": {
   "display_name": "Python 3",
   "language": "python",
   "name": "python3"
  },
  "language_info": {
   "codemirror_mode": {
    "name": "ipython",
    "version": 3
   },
   "file_extension": ".py",
   "mimetype": "text/x-python",
   "name": "python",
   "nbconvert_exporter": "python",
   "pygments_lexer": "ipython3",
   "version": "3.7.7"
  }
 },
 "nbformat": 4,
 "nbformat_minor": 4
}
