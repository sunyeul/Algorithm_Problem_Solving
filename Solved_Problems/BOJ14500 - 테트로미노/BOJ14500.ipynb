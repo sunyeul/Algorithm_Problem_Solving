{
 "cells": [
  {
   "cell_type": "code",
   "execution_count": 1,
   "metadata": {},
   "outputs": [],
   "source": [
    "f=open('input.in')\n",
    "input=f.readline"
   ]
  },
  {
   "cell_type": "code",
   "execution_count": 2,
   "metadata": {},
   "outputs": [],
   "source": [
    "def f(arr,n,m):\n",
    "    res = 0\n",
    "    for i in range(n):\n",
    "        for j in range(m):\n",
    "            if m-j>=4:\n",
    "                a11, a12, a13, a14= arr[i][j], arr[i][j+1], arr[i][j+2], arr[i][j+3]\n",
    "                if a11+a12+a13+a14> res:\n",
    "                    res = a11+a12+a13+a14\n",
    "            if m-j>=3 and n-i>=2:\n",
    "                a11, a12, a13 = arr[i][j], arr[i][j+1], arr[i][j+2]\n",
    "                a21, a22, a23 = arr[i+1][j],arr[i+1][j+1],arr[i+1][j+2]\n",
    "                if a11+a12+a13+a21 > res:\n",
    "                    res = a11+a12+a13+a21\n",
    "                if a11+a12+a13+a23 > res:\n",
    "                    res = a11+a12+a13+a23\n",
    "                if a11+a21+a22+a23 > res:\n",
    "                    res = a11+a21+a22+a23\n",
    "                if a13+a21+a22+a23 > res:\n",
    "                    res = a13+a21+a22+a23\n",
    "                if a12+a13+a21+a22 > res:\n",
    "                    res = a12+a13+a21+a22\n",
    "                if a11+a12+a22+a23 > res:\n",
    "                    res = a11+a12+a22+a23\n",
    "                if a11+a12+a13+a22 > res:\n",
    "                    res = a11+a12+a13+a22\n",
    "                if a12+a21+a22+a23 > res:\n",
    "                    res = a12+a21+a22+a23\n",
    "            if m-j>=2 and n-i>=2:\n",
    "                a11, a12 = arr[i][j], arr[i][j+1]\n",
    "                a21, a22 = arr[i+1][j], arr[i+1][j+1]\n",
    "                if a11 + a12 + a21 + a22 > res:\n",
    "                    res = a11 + a12 + a21 + a22\n",
    "    return res"
   ]
  },
  {
   "cell_type": "code",
   "execution_count": 3,
   "metadata": {},
   "outputs": [
    {
     "name": "stdout",
     "output_type": "stream",
     "text": [
      "7\n"
     ]
    }
   ],
   "source": [
    "def BOJ_14500():\n",
    "    n,m = map(int,input().split())\n",
    "    p = [[0]*m for _ in range(n)]\n",
    "    p_t = [[0]*n for _ in range(m)]\n",
    "    for i in range(n):\n",
    "        s = list(map(int,input().split()))\n",
    "        for j in range(m):\n",
    "            p[i][j]=s[j]\n",
    "            p_t[j][i]=s[j]\n",
    "\n",
    "    print(max(f(p,n,m),f(p_t,m,n)))\n",
    "BOJ_14500()"
   ]
  },
  {
   "cell_type": "code",
   "execution_count": 18,
   "metadata": {},
   "outputs": [],
   "source": [
    "f=open('input.in')\n",
    "input=f.readline"
   ]
  },
  {
   "cell_type": "code",
   "execution_count": 19,
   "metadata": {},
   "outputs": [],
   "source": [
    "def f(arr,n,m):\n",
    "    res=0\n",
    "    for i in range(1,n+1):\n",
    "        for j in range(1, m):\n",
    "            subs=[arr[i-1][j],arr[i-1][j+1],arr[i][j-1],arr[i][j+2],arr[i+1][j],arr[i+1][j+1]]\n",
    "            subs.sort(reverse=True)\n",
    "            tmp = arr[i][j]+arr[i][j+1]+subs[0]+subs[1]\n",
    "            if tmp > res:\n",
    "                res=tmp\n",
    "    for i in range(1,n):\n",
    "        for j in range(1, m+1):\n",
    "            subs=[arr[i-1][j],arr[i][j-1],arr[i][j+1],arr[i+1][j-1],arr[i+1][j+1],arr[i+2][j]]\n",
    "            subs.sort(reverse=True)\n",
    "            tmp = arr[i][j]+arr[i+1][j]+subs[0]+subs[1]\n",
    "            if tmp > res:\n",
    "                res=tmp\n",
    "    return res"
   ]
  },
  {
   "cell_type": "code",
   "execution_count": 20,
   "metadata": {},
   "outputs": [
    {
     "name": "stdout",
     "output_type": "stream",
     "text": [
      "7\n"
     ]
    }
   ],
   "source": [
    "def BOJ_14500():\n",
    "    n,m = map(int,input().split())\n",
    "    p = [[0]*(m+2) for _ in range(n+2)]\n",
    "    for i in range(1,n+1):\n",
    "        s = list(map(int,input().split()))\n",
    "        for j in range(1,m+1):\n",
    "            p[i][j]=s[j-1]\n",
    "    print(f(p,n,m))\n",
    "BOJ_14500()"
   ]
  },
  {
   "cell_type": "code",
   "execution_count": null,
   "metadata": {},
   "outputs": [],
   "source": []
  }
 ],
 "metadata": {
  "kernelspec": {
   "display_name": "Python 3",
   "language": "python",
   "name": "python3"
  },
  "language_info": {
   "codemirror_mode": {
    "name": "ipython",
    "version": 3
   },
   "file_extension": ".py",
   "mimetype": "text/x-python",
   "name": "python",
   "nbconvert_exporter": "python",
   "pygments_lexer": "ipython3",
   "version": "3.6.10"
  }
 },
 "nbformat": 4,
 "nbformat_minor": 4
}
