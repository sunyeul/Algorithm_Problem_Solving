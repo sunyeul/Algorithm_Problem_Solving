{
 "cells": [
  {
   "cell_type": "code",
   "execution_count": 125,
   "metadata": {},
   "outputs": [],
   "source": [
    "f = open('input.in')\n",
    "input = f.readline"
   ]
  },
  {
   "cell_type": "code",
   "execution_count": 122,
   "metadata": {},
   "outputs": [
    {
     "name": "stdout",
     "output_type": "stream",
     "text": [
      "10\n",
      "12\n",
      "11\n"
     ]
    }
   ],
   "source": [
    "def add(tuple1, tuple2):\n",
    "    return tuple(x + y for x, y in zip(tuple1, tuple2))\n",
    "\n",
    "\n",
    "def BOJ_1780():\n",
    "    n = int(input())\n",
    "    data = [list(map(int, input().split())) for _ in range(n)]\n",
    "\n",
    "    def func(data):\n",
    "        n = len(data)\n",
    "\n",
    "        if n == 3:\n",
    "            temp = []\n",
    "            for x in data:\n",
    "                temp.extend(x)\n",
    "            u, v = temp.count(-1), temp.count(0)\n",
    "            w = 9 - u - v\n",
    "        else:\n",
    "            base = (0, 0, 0)\n",
    "            for i in range(0, n, n // 3):\n",
    "                for j in range(0, n, n // 3):\n",
    "                    temp = [x[j : j + n // 3] for x in data[i : i + n // 3]]\n",
    "                    base = add(base, func(temp))\n",
    "            u, v, w = base\n",
    "\n",
    "        if not any([v, w]):\n",
    "            return (1, 0, 0)\n",
    "        elif not any([u, w]):\n",
    "            return (0, 1, 0)\n",
    "        elif not any([u, v]):\n",
    "            return (0, 0, 1)\n",
    "        else:\n",
    "            return (u, v, w)\n",
    "\n",
    "    u, v, w = func(data)\n",
    "    print(\"{}\\n{}\\n{}\".format(u, v, w))\n",
    "\n",
    "\n",
    "BOJ_1780()"
   ]
  },
  {
   "cell_type": "code",
   "execution_count": null,
   "metadata": {},
   "outputs": [],
   "source": []
  }
 ],
 "metadata": {
  "kernelspec": {
   "display_name": "Python 3",
   "language": "python",
   "name": "python3"
  },
  "language_info": {
   "codemirror_mode": {
    "name": "ipython",
    "version": 3
   },
   "file_extension": ".py",
   "mimetype": "text/x-python",
   "name": "python",
   "nbconvert_exporter": "python",
   "pygments_lexer": "ipython3",
   "version": "3.6.10"
  }
 },
 "nbformat": 4,
 "nbformat_minor": 4
}
