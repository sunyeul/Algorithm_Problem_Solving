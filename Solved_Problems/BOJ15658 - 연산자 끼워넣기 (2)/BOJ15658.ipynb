{
 "cells": [
  {
   "cell_type": "code",
   "execution_count": 1,
   "metadata": {},
   "outputs": [],
   "source": [
    "def calc(n, nums, op1, op2, op3, op4):\n",
    "    res=set()\n",
    "    if n==2:\n",
    "        if op1:res.add(nums[0] +nums[1])\n",
    "        if op2:res.add(nums[0] -nums[1])\n",
    "        if op3:res.add(nums[0] *nums[1])\n",
    "        if op4:res.add(nums[0]//nums[1])\n",
    "        return res\n",
    "    if op1:\n",
    "        for i in calc(n-1,nums[:-1],op1-1,op2,op3,op4):\n",
    "            res.add(i+nums[-1])\n",
    "    if op2:\n",
    "        for i in calc(n-1,nums[:-1],op1, op2-1, op3, op4):\n",
    "            res.add(i-nums[-1])\n",
    "    if op3:\n",
    "        for i in calc(n-1,nums[:-1],op1, op2, op3-1, op4):\n",
    "            res.add(i*nums[-1])\n",
    "    if op4:\n",
    "        for i in calc(n-1,nums[:-1],op1, op2, op3, op4-1):\n",
    "            if i>0:res.add(i//nums[-1])\n",
    "            else:res.add(-((-i)//nums[-1]))\n",
    "    return res"
   ]
  },
  {
   "cell_type": "code",
   "execution_count": 2,
   "metadata": {},
   "outputs": [],
   "source": [
    "f=open('input.in')\n",
    "input=f.readline\n",
    "\n",
    "def BOJ_15658():\n",
    "    n = int(input())\n",
    "    nums = list(map(int,input().split()))\n",
    "    op1,op2,op3,op4 = map(int,input().split())\n",
    "\n",
    "    res=calc(n, nums, op1,op2,op3,op4)\n",
    "    print(res)\n",
    "BOJ_15658()"
   ]
  },
  {
   "cell_type": "code",
   "execution_count": null,
   "metadata": {},
   "outputs": [],
   "source": []
  }
 ],
 "metadata": {
  "kernelspec": {
   "display_name": "Python 3",
   "language": "python",
   "name": "python3"
  },
  "language_info": {
   "codemirror_mode": {
    "name": "ipython",
    "version": 3
   },
   "file_extension": ".py",
   "mimetype": "text/x-python",
   "name": "python",
   "nbconvert_exporter": "python",
   "pygments_lexer": "ipython3",
   "version": "3.6.10"
  }
 },
 "nbformat": 4,
 "nbformat_minor": 4
}
