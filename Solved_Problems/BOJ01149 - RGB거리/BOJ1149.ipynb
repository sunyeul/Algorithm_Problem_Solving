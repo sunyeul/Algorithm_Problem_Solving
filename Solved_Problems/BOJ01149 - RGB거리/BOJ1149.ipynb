{
 "cells": [
  {
   "cell_type": "code",
   "execution_count": 1,
   "metadata": {},
   "outputs": [],
   "source": [
    "f = open('input.in')\n",
    "input = f.readline"
   ]
  },
  {
   "cell_type": "code",
   "execution_count": 2,
   "metadata": {},
   "outputs": [
    {
     "name": "stdout",
     "output_type": "stream",
     "text": [
      "[96, 172, 185]\n"
     ]
    }
   ],
   "source": [
    "def BOJ_1149():\n",
    "    n = int(input())\n",
    "    \n",
    "    cost = list(map(int,input().split()))\n",
    "    \n",
    "    for _ in range(n-1):\n",
    "        cost_copy = cost.copy()\n",
    "        \n",
    "        r,g,b = map(int,input().split())\n",
    "        \n",
    "        cost[0] = min(cost_copy[1] + r, cost_copy[2] + r)\n",
    "        cost[1] = min(cost_copy[0] + g, cost_copy[2] + g)\n",
    "        cost[2] = min(cost_copy[0] + b, cost_copy[1] + b)\n",
    "        \n",
    "    print(cost)\n",
    "    \n",
    "BOJ_1149()"
   ]
  },
  {
   "cell_type": "code",
   "execution_count": null,
   "metadata": {},
   "outputs": [],
   "source": []
  }
 ],
 "metadata": {
  "kernelspec": {
   "display_name": "Python 3",
   "language": "python",
   "name": "python3"
  },
  "language_info": {
   "codemirror_mode": {
    "name": "ipython",
    "version": 3
   },
   "file_extension": ".py",
   "mimetype": "text/x-python",
   "name": "python",
   "nbconvert_exporter": "python",
   "pygments_lexer": "ipython3",
   "version": "3.6.10"
  }
 },
 "nbformat": 4,
 "nbformat_minor": 4
}
