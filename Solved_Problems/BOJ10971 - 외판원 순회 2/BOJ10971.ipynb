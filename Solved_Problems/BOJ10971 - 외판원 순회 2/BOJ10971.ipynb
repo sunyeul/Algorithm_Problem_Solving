{
 "cells": [
  {
   "cell_type": "markdown",
   "metadata": {},
   "source": [
    "## Approach #1 Brute force"
   ]
  },
  {
   "cell_type": "code",
   "execution_count": 42,
   "metadata": {},
   "outputs": [],
   "source": [
    "def travelling(N:int, W:list, prev:int=0, visited:bin=1) -> int:\n",
    "    if visited == (1<<N)-1 and W[prev][0] != 0:\n",
    "        return W[prev][0]\n",
    "    \n",
    "    res = None\n",
    "    for i in range(1,N):\n",
    "        if not (visited >> i)%2 and W[prev][i] != 0:\n",
    "            cost = travelling(N, W, i, visited + (1 << i))\n",
    "            if cost:\n",
    "                tmp = W[prev][i] + cost\n",
    "                if res is None:\n",
    "                    res = tmp\n",
    "                elif tmp and tmp < res:\n",
    "                    res = tmp\n",
    "    return res"
   ]
  },
  {
   "cell_type": "code",
   "execution_count": 43,
   "metadata": {},
   "outputs": [
    {
     "name": "stdout",
     "output_type": "stream",
     "text": [
      "35\n"
     ]
    }
   ],
   "source": [
    "f = open(\"input.in\")\n",
    "input = f.readline\n",
    "\n",
    "def BOJ10971():\n",
    "    N = int(input())\n",
    "    W = [list(map(int,input().split())) for _ in range(N)]\n",
    "    res = travelling(N,W)\n",
    "    print(res)\n",
    "BOJ10971()"
   ]
  },
  {
   "cell_type": "markdown",
   "metadata": {},
   "source": [
    "## Approach #2 Memoization"
   ]
  },
  {
   "cell_type": "code",
   "execution_count": 30,
   "metadata": {},
   "outputs": [],
   "source": [
    "import sys\n",
    "inf = sys.maxsize"
   ]
  },
  {
   "cell_type": "code",
   "execution_count": 31,
   "metadata": {},
   "outputs": [],
   "source": [
    "def travelling(N:int, W:list, memo:list=None, prev:int=0, visited:bin=1) -> int:\n",
    "    if memo is None:\n",
    "        memo = [[0]*(1<<N) for _ in range(N)]\n",
    "    \n",
    "    # minimum cost after passing visited and prev\n",
    "    if memo[prev][visited]:\n",
    "        return memo[prev][visited]\n",
    "    \n",
    "    # if all cities are visited and current city is connected to starting city.\n",
    "    if (visited == (1<<N)-1):\n",
    "        return W[prev][0] if W[prev][0] != 0 else inf\n",
    "    \n",
    "    res=inf\n",
    "    for i in range(1,N):\n",
    "        # if not visited and connected\n",
    "        if not (visited >> i)%2 and W[prev][i] != 0:\n",
    "            cost = travelling(N, W, memo, i, visited + (1 << i))\n",
    "            res = min(res, W[prev][i]+cost)\n",
    "    memo[prev][visited] = res\n",
    "    return res"
   ]
  },
  {
   "cell_type": "code",
   "execution_count": 32,
   "metadata": {},
   "outputs": [
    {
     "name": "stdout",
     "output_type": "stream",
     "text": [
      "35\n"
     ]
    }
   ],
   "source": [
    "f = open(\"input.in\")\n",
    "input = f.readline\n",
    "\n",
    "def BOJ10971():\n",
    "    N = int(input())\n",
    "    W = [list(map(int,input().split())) for _ in range(N)]\n",
    "    res = travelling(N,W)\n",
    "    print(res)\n",
    "BOJ10971()"
   ]
  },
  {
   "cell_type": "code",
   "execution_count": 27,
   "metadata": {},
   "outputs": [
    {
     "data": {
      "text/plain": [
       "int"
      ]
     },
     "execution_count": 27,
     "metadata": {},
     "output_type": "execute_result"
    }
   ],
   "source": [
    "import sys\n",
    "type(sys.maxsize)"
   ]
  },
  {
   "cell_type": "code",
   "execution_count": null,
   "metadata": {},
   "outputs": [],
   "source": []
  }
 ],
 "metadata": {
  "kernelspec": {
   "display_name": "Python 3",
   "language": "python",
   "name": "python3"
  },
  "language_info": {
   "codemirror_mode": {
    "name": "ipython",
    "version": 3
   },
   "file_extension": ".py",
   "mimetype": "text/x-python",
   "name": "python",
   "nbconvert_exporter": "python",
   "pygments_lexer": "ipython3",
   "version": "3.6.10"
  }
 },
 "nbformat": 4,
 "nbformat_minor": 4
}
