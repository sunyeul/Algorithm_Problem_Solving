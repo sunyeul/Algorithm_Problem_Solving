{
 "cells": [
  {
   "cell_type": "markdown",
   "metadata": {},
   "source": [
    "# [LC678] Valid Parenthesis String\n",
    "\n",
    "## Problem\n",
    "\n",
    "Given a string containing only three types of characters: '(', ')' and '*', write a function to check whether this string is valid. We define the validity of a string by these rules:\n",
    "\n",
    "1. Any left parenthesis '(' must have a corresponding right parenthesis ')'.\n",
    "2. Any right parenthesis ')' must have a corresponding left parenthesis '('.\n",
    "3. Left parenthesis '(' must go before the corresponding right parenthesis ')'.\n",
    "4. '*' could be treated as a single right parenthesis ')' or a single left parenthesis '(' or an empty string.\n",
    "5. An empty string is also valid.\n",
    "\n",
    "**Example 1:**\n",
    "```\n",
    "Input: \"()\"\n",
    "Output: True\n",
    "```\n",
    "\n",
    "**Example 2:**\n",
    "```\n",
    "Input: \"(*)\"\n",
    "Output: True\n",
    "```\n",
    "\n",
    "**Example 3:**\n",
    "```\n",
    "Input: \"(*))\"\n",
    "Output: True\n",
    "```\n",
    "\n",
    "**Note:**\n",
    "The string size will be in the range [1, 100]."
   ]
  },
  {
   "cell_type": "code",
   "execution_count": 1,
   "metadata": {},
   "outputs": [],
   "source": [
    "f = open(\"input.in\")\n",
    "input = f.readline"
   ]
  },
  {
   "cell_type": "markdown",
   "metadata": {},
   "source": [
    "## Approach Greedy"
   ]
  },
  {
   "cell_type": "code",
   "execution_count": 2,
   "metadata": {},
   "outputs": [],
   "source": [
    "s = input()"
   ]
  },
  {
   "cell_type": "code",
   "execution_count": 3,
   "metadata": {},
   "outputs": [],
   "source": [
    "class Solution:\n",
    "    def checkValidString(self, s: str) -> bool:\n",
    "        n = len(s)\n",
    "        if n == 0:\n",
    "            return True\n",
    "        \n",
    "        lo, hi = 0, 0\n",
    "        for p in s:\n",
    "            lo += 1 if p==\"(\" else -1\n",
    "            hi += 1 if p!=\")\" else -1\n",
    "            \n",
    "            if hi<0:\n",
    "                break\n",
    "            lo = max(lo, 0)\n",
    "            \n",
    "        return lo == 0"
   ]
  },
  {
   "cell_type": "code",
   "execution_count": 4,
   "metadata": {},
   "outputs": [
    {
     "data": {
      "text/plain": [
       "True"
      ]
     },
     "execution_count": 4,
     "metadata": {},
     "output_type": "execute_result"
    }
   ],
   "source": [
    "Solution().checkValidString(s)"
   ]
  },
  {
   "cell_type": "code",
   "execution_count": null,
   "metadata": {},
   "outputs": [],
   "source": []
  }
 ],
 "metadata": {
  "kernelspec": {
   "display_name": "Python 3",
   "language": "python",
   "name": "python3"
  },
  "language_info": {
   "codemirror_mode": {
    "name": "ipython",
    "version": 3
   },
   "file_extension": ".py",
   "mimetype": "text/x-python",
   "name": "python",
   "nbconvert_exporter": "python",
   "pygments_lexer": "ipython3",
   "version": "3.7.6"
  }
 },
 "nbformat": 4,
 "nbformat_minor": 4
}
