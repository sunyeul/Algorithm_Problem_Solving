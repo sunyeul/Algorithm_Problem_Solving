{
 "cells": [
  {
   "cell_type": "code",
   "execution_count": 1,
   "metadata": {},
   "outputs": [],
   "source": [
    "f = open('input.in')\n",
    "input = f.readline"
   ]
  },
  {
   "cell_type": "code",
   "execution_count": 2,
   "metadata": {},
   "outputs": [
    {
     "name": "stdout",
     "output_type": "stream",
     "text": [
      "V:5\n",
      "E:6\n",
      "K:1\n",
      "G:[{}, {2: 2, 3: 3}, {3: 4, 4: 5}, {4: 6}, {}, {1: 1}]\n"
     ]
    }
   ],
   "source": [
    "V, E = map(int, input().split())\n",
    "K = int(input())\n",
    "print(\"V:{}\\nE:{}\\nK:{}\".format(V,E,K))\n",
    "\n",
    "G = [dict() for _ in range(V+1)]\n",
    "for _ in range(E):\n",
    "    u,v,w = map(int, input().split())\n",
    "    if v in G[u]:\n",
    "        G[u][v] = min(G[u][v], w)\n",
    "    else:\n",
    "        G[u][v] = w\n",
    "    \n",
    "print(\"G:{}\".format(G))"
   ]
  },
  {
   "cell_type": "markdown",
   "metadata": {},
   "source": [
    "### Dijkstra algorithm 1"
   ]
  },
  {
   "cell_type": "code",
   "execution_count": 9,
   "metadata": {},
   "outputs": [
    {
     "name": "stdout",
     "output_type": "stream",
     "text": [
      "[inf, 0, 2, inf, inf, inf]\n",
      "[inf, 0, 2, 3, inf, inf]\n",
      "[inf, 0, 2, 3, 7, inf]\n",
      "0\n",
      "2\n",
      "3\n",
      "7\n",
      "INF\n"
     ]
    }
   ],
   "source": [
    "# distance from K\n",
    "inf = float('inf')\n",
    "dist = [inf for _ in range(V+1)]\n",
    "dist[K] = 0\n",
    "\n",
    "# priority queue\n",
    "pq = [(0,K)]\n",
    "while pq:\n",
    "    d1, v1 = heappop(pq)\n",
    "    for v2, d2 in G[v1].items():\n",
    "        if dist[v1]+d2 < dist[v2]:\n",
    "            dist[v2] = dist[v1]+d2\n",
    "            heappush(pq, (dist[v2],v2))\n",
    "\n",
    "for i in dist[1:]:\n",
    "    print(i if i < inf else 'INF')"
   ]
  },
  {
   "cell_type": "markdown",
   "metadata": {},
   "source": [
    "### Dijkstra algorithm 2"
   ]
  },
  {
   "cell_type": "code",
   "execution_count": 8,
   "metadata": {},
   "outputs": [
    {
     "name": "stdout",
     "output_type": "stream",
     "text": [
      "0\n",
      "2\n",
      "3\n",
      "7\n",
      "INF\n"
     ]
    }
   ],
   "source": [
    "# distance from K\n",
    "dist = [-1 for _ in range(V+1)]\n",
    "\n",
    "# priority queue\n",
    "pq = [(0,K)]\n",
    "while pq:\n",
    "    d1, v1 = heappop(pq)\n",
    "    if dist[v1] != -1:\n",
    "        continue\n",
    "    dist[v1] = d1\n",
    "    for v2, d2 in G[v1].items():\n",
    "        heappush(pq, (dist[v1]+d2,v2))\n",
    "\n",
    "for i in dist[1:]:\n",
    "    print('INF' if i == -1 else i)"
   ]
  }
 ],
 "metadata": {
  "kernelspec": {
   "display_name": "Python 3",
   "language": "python",
   "name": "python3"
  },
  "language_info": {
   "codemirror_mode": {
    "name": "ipython",
    "version": 3
   },
   "file_extension": ".py",
   "mimetype": "text/x-python",
   "name": "python",
   "nbconvert_exporter": "python",
   "pygments_lexer": "ipython3",
   "version": "3.6.10"
  }
 },
 "nbformat": 4,
 "nbformat_minor": 4
}
