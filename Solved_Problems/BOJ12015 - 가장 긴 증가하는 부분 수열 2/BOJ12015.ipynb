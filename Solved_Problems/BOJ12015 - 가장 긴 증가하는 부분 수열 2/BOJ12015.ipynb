{
 "cells": [
  {
   "cell_type": "code",
   "execution_count": 164,
   "metadata": {},
   "outputs": [],
   "source": [
    "f = open('input.in')\n",
    "input = f.readline"
   ]
  },
  {
   "cell_type": "code",
   "execution_count": 165,
   "metadata": {},
   "outputs": [],
   "source": [
    "def binary_left(a,v,lo=0,hi=None):\n",
    "    if lo < 0:\n",
    "        raise ValueError(\"low must be non-negative\")\n",
    "    if hi == None:\n",
    "        hi = len(a)\n",
    "    while lo<hi:\n",
    "        mid=(lo+hi)//2\n",
    "        if a[mid]<v:lo=mid+1\n",
    "        else:hi=mid\n",
    "    return lo"
   ]
  },
  {
   "cell_type": "code",
   "execution_count": 166,
   "metadata": {},
   "outputs": [
    {
     "name": "stdout",
     "output_type": "stream",
     "text": [
      "6\n"
     ]
    }
   ],
   "source": [
    "def BOJ_12015():\n",
    "    N = int(input())\n",
    "    A = map(int,input().split())\n",
    "    LIS = [next(A)]\n",
    "    for a in A:\n",
    "        if LIS[-1] < a:\n",
    "            LIS.append(a)\n",
    "        else:\n",
    "            idx = binary_left(LIS,a)\n",
    "            LIS[idx] = a\n",
    "    print(len(LIS))\n",
    "BOJ_12015()"
   ]
  },
  {
   "cell_type": "code",
   "execution_count": null,
   "metadata": {},
   "outputs": [],
   "source": []
  }
 ],
 "metadata": {
  "kernelspec": {
   "display_name": "Python 3",
   "language": "python",
   "name": "python3"
  },
  "language_info": {
   "codemirror_mode": {
    "name": "ipython",
    "version": 3
   },
   "file_extension": ".py",
   "mimetype": "text/x-python",
   "name": "python",
   "nbconvert_exporter": "python",
   "pygments_lexer": "ipython3",
   "version": "3.6.10"
  }
 },
 "nbformat": 4,
 "nbformat_minor": 4
}
