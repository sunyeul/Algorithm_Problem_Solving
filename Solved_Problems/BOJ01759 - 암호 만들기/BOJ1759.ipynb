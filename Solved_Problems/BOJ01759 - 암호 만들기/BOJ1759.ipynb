{
 "cells": [
  {
   "cell_type": "code",
   "execution_count": 4,
   "metadata": {},
   "outputs": [],
   "source": [
    "import sys\n",
    "f = open(\"input.in\")\n",
    "input = f.readline\n",
    "print = sys.stdout.write"
   ]
  },
  {
   "cell_type": "code",
   "execution_count": 5,
   "metadata": {},
   "outputs": [],
   "source": [
    "def isGood(s):\n",
    "    cnt=0\n",
    "    for e in s:\n",
    "        if e in vowels:\n",
    "            cnt+=1\n",
    "    if cnt > 0 and len(s)-cnt >1:\n",
    "        return True\n",
    "    return False\n",
    "\n",
    "def password(k, l, arr, s=\"\"):\n",
    "    if k == l and isGood(s):\n",
    "        print(s+\"\\n\")\n",
    "        return\n",
    "    c = len(arr)\n",
    "    for i in range(c):\n",
    "        a = arr[i]\n",
    "        if len(s) == 0:\n",
    "            password(k+1, l, arr[i+1:], s+a)\n",
    "        elif ord(s[-1]) < ord(a):\n",
    "            password(k+1, l, arr[i+1:], s+a)"
   ]
  },
  {
   "cell_type": "code",
   "execution_count": 6,
   "metadata": {},
   "outputs": [
    {
     "name": "stdout",
     "output_type": "stream",
     "text": [
      "acis\n",
      "acit\n",
      "aciw\n",
      "acst\n",
      "acsw\n",
      "actw\n",
      "aist\n",
      "aisw\n",
      "aitw\n",
      "astw\n",
      "cist\n",
      "cisw\n",
      "citw\n",
      "istw\n"
     ]
    }
   ],
   "source": [
    "def BOJ1759():\n",
    "    L, C = map(int, input().split())\n",
    "    letters = input().split()\n",
    "    letters.sort()\n",
    "\n",
    "    vowels = ['a','e','i','o','u']\n",
    "\n",
    "    password(0,L,letters)\n",
    "BOJ1759()"
   ]
  },
  {
   "cell_type": "code",
   "execution_count": null,
   "metadata": {},
   "outputs": [],
   "source": []
  }
 ],
 "metadata": {
  "kernelspec": {
   "display_name": "Python 3",
   "language": "python",
   "name": "python3"
  },
  "language_info": {
   "codemirror_mode": {
    "name": "ipython",
    "version": 3
   },
   "file_extension": ".py",
   "mimetype": "text/x-python",
   "name": "python",
   "nbconvert_exporter": "python",
   "pygments_lexer": "ipython3",
   "version": "3.7.6"
  }
 },
 "nbformat": 4,
 "nbformat_minor": 4
}
