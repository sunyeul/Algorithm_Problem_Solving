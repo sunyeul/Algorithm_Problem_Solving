{
 "cells": [
  {
   "cell_type": "markdown",
   "metadata": {},
   "source": [
    "# [BOJ11723] 집합\n",
    "\n",
    "## 문제\n",
    "\n",
    "비어있는 공집합 S가 주어졌을 때, 아래 연산을 수행하는 프로그램을 작성하시오.\n",
    "\n",
    "* add x: S에 x를 추가한다. (1 ≤ x ≤ 20) S에 x가 이미 있는 경우에는 연산을 무시한다.\n",
    "* remove x: S에서 x를 제거한다. (1 ≤ x ≤ 20) S에 x가 없는 경우에는 연산을 무시한다.\n",
    "* check x: S에 x가 있으면 1을, 없으면 0을 출력한다.\n",
    "* toggle x: S에 x가 있으면 x를 제거하고, 없으면 x를 추가한다. (1 ≤ x ≤ 20)\n",
    "* all: S를 {1, 2, ..., 20} 으로 바꾼다.\n",
    "* empty: S를 공집합으로 바꾼다. "
   ]
  },
  {
   "cell_type": "code",
   "execution_count": 35,
   "metadata": {},
   "outputs": [
    {
     "name": "stdout",
     "output_type": "stream",
     "text": [
      "1\n",
      "1\n",
      "0\n",
      "1\n",
      "0\n",
      "1\n",
      "0\n",
      "1\n",
      "0\n",
      "1\n",
      "1\n",
      "0\n",
      "0\n",
      "0\n",
      "1\n",
      "0\n"
     ]
    }
   ],
   "source": [
    "import sys\n",
    "f = open(\"input.in\")\n",
    "input = f.readline\n",
    "print = sys.stdout.write\n",
    "\n",
    "def BOJ11723():\n",
    "    S = 0\n",
    "    N = int(input())\n",
    "    for s in f:\n",
    "        s = s.split()\n",
    "        order = s[0]\n",
    "        if len(s)>1:\n",
    "            x = int(s[1])\n",
    "        if order == \"add\":\n",
    "            S += 1 << x\n",
    "        elif order == \"remove\":\n",
    "            if (S >> x) % 2:\n",
    "                S -= 1<<x\n",
    "        elif order == \"check\":\n",
    "            print(\"{}\\n\".format(\"01\"[(S >> x) % 2]))\n",
    "        elif order == \"toggle\":\n",
    "            if (S >> x) % 2:\n",
    "                S -= 1 << x\n",
    "            else:\n",
    "                S += 1 << x\n",
    "        elif order == \"all\":\n",
    "            S = (1 << 21) - 1\n",
    "        elif order == \"empty\":\n",
    "            S = 0\n",
    "BOJ11723()"
   ]
  },
  {
   "cell_type": "code",
   "execution_count": null,
   "metadata": {},
   "outputs": [],
   "source": []
  }
 ],
 "metadata": {
  "kernelspec": {
   "display_name": "Python 3",
   "language": "python",
   "name": "python3"
  },
  "language_info": {
   "codemirror_mode": {
    "name": "ipython",
    "version": 3
   },
   "file_extension": ".py",
   "mimetype": "text/x-python",
   "name": "python",
   "nbconvert_exporter": "python",
   "pygments_lexer": "ipython3",
   "version": "3.7.6"
  }
 },
 "nbformat": 4,
 "nbformat_minor": 4
}
