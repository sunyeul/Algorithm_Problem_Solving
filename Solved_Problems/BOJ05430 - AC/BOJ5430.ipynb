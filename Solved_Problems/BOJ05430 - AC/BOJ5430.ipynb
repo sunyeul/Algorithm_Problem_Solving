{
 "cells": [
  {
   "cell_type": "code",
   "execution_count": 1,
   "metadata": {},
   "outputs": [],
   "source": [
    "f = open('input.in')\n",
    "input = f.readline"
   ]
  },
  {
   "cell_type": "code",
   "execution_count": 2,
   "metadata": {},
   "outputs": [
    {
     "name": "stdout",
     "output_type": "stream",
     "text": [
      "[2,1]\n",
      "error\n",
      "[1,2,3,5,8]]\n",
      "error\n"
     ]
    }
   ],
   "source": [
    "def BOJ_5430():\n",
    "    for _ in range(int(input())):\n",
    "        p = input().replace('RR', '')\n",
    "        n = int(input())\n",
    "        i, j, is_reverse = 0, 0, False\n",
    "\n",
    "        for f in p:\n",
    "            if f == \"R\":\n",
    "                is_reverse = not is_reverse\n",
    "            elif f == \"D\":\n",
    "                if not is_reverse:\n",
    "                    i += 1\n",
    "                else:\n",
    "                    j += 1\n",
    "\n",
    "        dq = input()[1:-1].split(',')[i:n-j]\n",
    "        \n",
    "        if i+j <= n:\n",
    "            if not is_reverse:\n",
    "                print('['+','.join(dq)+']')\n",
    "            else:\n",
    "                print('['+','.join(dq[::-1])+']')\n",
    "        else:\n",
    "            print(\"error\")\n",
    "BOJ_5430()"
   ]
  },
  {
   "cell_type": "code",
   "execution_count": null,
   "metadata": {},
   "outputs": [],
   "source": []
  }
 ],
 "metadata": {
  "kernelspec": {
   "display_name": "Python 3",
   "language": "python",
   "name": "python3"
  },
  "language_info": {
   "codemirror_mode": {
    "name": "ipython",
    "version": 3
   },
   "file_extension": ".py",
   "mimetype": "text/x-python",
   "name": "python",
   "nbconvert_exporter": "python",
   "pygments_lexer": "ipython3",
   "version": "3.6.10"
  }
 },
 "nbformat": 4,
 "nbformat_minor": 4
}
