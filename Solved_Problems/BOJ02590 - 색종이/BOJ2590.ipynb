{
 "cells": [
  {
   "cell_type": "code",
   "execution_count": 159,
   "metadata": {},
   "outputs": [],
   "source": [
    "f = open('input.in')\n",
    "input = f.readline"
   ]
  },
  {
   "cell_type": "code",
   "execution_count": 160,
   "metadata": {},
   "outputs": [
    {
     "name": "stdout",
     "output_type": "stream",
     "text": [
      "110\n"
     ]
    }
   ],
   "source": [
    "def BOJ_2590():\n",
    "    p1,p2,p3,p4,p5,p6 = [int(input()) for _ in range(6)]\n",
    "    empty = [0, 0, 0, 0]\n",
    "\n",
    "    cnt = p6 + p5 + p4 \n",
    "    empty[1] = p5 * 11\n",
    "    empty[2] = p4 * 5\n",
    "    p6,p5,p4 = 0,0,0\n",
    "\n",
    "    cnt += (p3+3) // 4\n",
    "    p3 %= 4\n",
    "\n",
    "    if p3:\n",
    "        empty[2] += (4 - p3) * 2 - 1\n",
    "        empty[1] += 4 + (4 - p3)\n",
    "\n",
    "    if p2 > empty[2]:\n",
    "        p2 -= empty[2]\n",
    "        empty[2] = 0\n",
    "        cnt += (p2+8) // 9\n",
    "        p2 %= 9\n",
    "        empty[2] = 9 - p2 if p2 else 0\n",
    "    elif p2 <= empty[2]:\n",
    "        empty[2] -= p2\n",
    "        p2 = 0\n",
    "\n",
    "    empty[1] += empty[2] * 4\n",
    "    empty[2] = 0\n",
    "\n",
    "    if p1 > empty[1]:\n",
    "        p1 -= empty[1]\n",
    "        empty[1] = 0\n",
    "        cnt += (p1 + 35) // 36\n",
    "    print(cnt)\n",
    "BOJ_2590()"
   ]
  }
 ],
 "metadata": {
  "kernelspec": {
   "display_name": "Python 3",
   "language": "python",
   "name": "python3"
  },
  "language_info": {
   "codemirror_mode": {
    "name": "ipython",
    "version": 3
   },
   "file_extension": ".py",
   "mimetype": "text/x-python",
   "name": "python",
   "nbconvert_exporter": "python",
   "pygments_lexer": "ipython3",
   "version": "3.6.10"
  }
 },
 "nbformat": 4,
 "nbformat_minor": 4
}
