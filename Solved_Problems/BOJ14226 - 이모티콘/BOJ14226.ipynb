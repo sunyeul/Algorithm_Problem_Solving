{
 "cells": [
  {
   "cell_type": "code",
   "execution_count": 32,
   "metadata": {},
   "outputs": [
    {
     "name": "stdout",
     "output_type": "stream",
     "text": [
      "8\n"
     ]
    }
   ],
   "source": [
    "f = open(\"input.in\")\n",
    "input = f.readline\n",
    "\n",
    "def BOJ14226():\n",
    "    S = int(input())\n",
    "\n",
    "    q = [(1,0,0)]\n",
    "    v = set()\n",
    "    while q:\n",
    "        s,c,t = q.pop(0)\n",
    "        \n",
    "        # 최대 S회 ((1)*1 + (2)*(S-1))\n",
    "        if t > S:\n",
    "            continue\n",
    "\n",
    "        if s == S:\n",
    "            print(t)\n",
    "            break\n",
    "\n",
    "        if (s,s) not in v:\n",
    "            v.add((s,s))\n",
    "            q.append((s,s,t+1))\n",
    "\n",
    "        if c != 0 and (s+c,c) not in v:\n",
    "            v.add((s+c,c))\n",
    "            q.append((s+c,c,t+1))\n",
    "\n",
    "        if s-1>=0 and (s-1,c) not in v:\n",
    "            v.add((s-1,c))\n",
    "            q.append((s-1,c,t+1))\n",
    "BOJ14226()"
   ]
  },
  {
   "cell_type": "code",
   "execution_count": null,
   "metadata": {},
   "outputs": [],
   "source": []
  }
 ],
 "metadata": {
  "kernelspec": {
   "display_name": "Python 3",
   "language": "python",
   "name": "python3"
  },
  "language_info": {
   "codemirror_mode": {
    "name": "ipython",
    "version": 3
   },
   "file_extension": ".py",
   "mimetype": "text/x-python",
   "name": "python",
   "nbconvert_exporter": "python",
   "pygments_lexer": "ipython3",
   "version": "3.7.6"
  }
 },
 "nbformat": 4,
 "nbformat_minor": 4
}
