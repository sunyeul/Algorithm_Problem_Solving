{
 "cells": [
  {
   "cell_type": "markdown",
   "metadata": {},
   "source": [
    "상태\n",
    "0: 벽 없음\n",
    "1: 벽 있음\n",
    "2: 벽 부수고 방문\n",
    "3: 벽 부수지 않고 방문"
   ]
  },
  {
   "cell_type": "code",
   "execution_count": 45,
   "metadata": {},
   "outputs": [
    {
     "name": "stdout",
     "output_type": "stream",
     "text": [
      "15\n"
     ]
    }
   ],
   "source": [
    "f = open(\"input.in\")\n",
    "input = f.readline\n",
    "\n",
    "def BOJ2206():\n",
    "    n, m = map(int, input().split())\n",
    "    MAP = []\n",
    "    for _ in range(n):\n",
    "        row = list(input().strip())\n",
    "        MAP.append(row)\n",
    "    move = [[-1,0], [1,0], [0,-1], [0,1]]\n",
    "    cnt = 1\n",
    "    queue = {(0,0):False}\n",
    "    MAP[0][0] = 3\n",
    "    \n",
    "    while queue:\n",
    "        queue, prev_queue = {}, queue\n",
    "        for i,j in prev_queue:\n",
    "            brokeWall = prev_queue[(i,j)]\n",
    "            if i==n-1 and j==m-1:\n",
    "                print(cnt)\n",
    "                return\n",
    "            for di, dj in move:\n",
    "                ii, jj = i+di, j+dj\n",
    "                if not (0 <= ii < n and 0 <= jj < m):\n",
    "                    continue\n",
    "                \n",
    "                if MAP[ii][jj] == '0':\n",
    "                    if not brokeWall:\n",
    "                        queue[(ii,jj)] = False\n",
    "                        MAP[ii][jj] = 3\n",
    "                    else:\n",
    "                        queue[(ii,jj)] = True\n",
    "                        MAP[ii][jj] = 2\n",
    "                \n",
    "                elif MAP[ii][jj] == '1':\n",
    "                    if not brokeWall:\n",
    "                        queue[(ii,jj)] = True\n",
    "                        MAP[ii][jj] = 3\n",
    "                    \n",
    "                elif MAP[ii][jj] == 2:\n",
    "                    if not brokeWall:\n",
    "                        queue[(ii,jj)] = False\n",
    "                        MAP[ii][jj] = 3\n",
    "                        \n",
    "        cnt += 1\n",
    "    print(-1)\n",
    "    return\n",
    "BOJ2206()"
   ]
  },
  {
   "cell_type": "code",
   "execution_count": null,
   "metadata": {},
   "outputs": [],
   "source": []
  }
 ],
 "metadata": {
  "kernelspec": {
   "display_name": "Python 3",
   "language": "python",
   "name": "python3"
  },
  "language_info": {
   "codemirror_mode": {
    "name": "ipython",
    "version": 3
   },
   "file_extension": ".py",
   "mimetype": "text/x-python",
   "name": "python",
   "nbconvert_exporter": "python",
   "pygments_lexer": "ipython3",
   "version": "3.7.7"
  }
 },
 "nbformat": 4,
 "nbformat_minor": 4
}
