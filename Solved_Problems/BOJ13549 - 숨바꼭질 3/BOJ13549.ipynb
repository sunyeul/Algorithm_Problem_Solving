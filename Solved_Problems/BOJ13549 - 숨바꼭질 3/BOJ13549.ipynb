{
 "cells": [
  {
   "cell_type": "markdown",
   "metadata": {},
   "source": [
    "### Approach #3 BFS"
   ]
  },
  {
   "cell_type": "code",
   "execution_count": 23,
   "metadata": {},
   "outputs": [
    {
     "name": "stdout",
     "output_type": "stream",
     "text": [
      "2\n"
     ]
    }
   ],
   "source": [
    "f = open(\"input.in\")\n",
    "input = f.readline\n",
    "from collections import deque\n",
    "\n",
    "def BOJ13549():\n",
    "    n,k = map(int,input().split())\n",
    "    \n",
    "    if n>=k:\n",
    "        print(n-k)\n",
    "        return \n",
    "    \n",
    "    queue, visited = deque([(n,0)]), [0]*100001\n",
    "    visited[n] = 1\n",
    "    while queue:\n",
    "        u, cnt = queue.popleft()\n",
    "        if u == k:\n",
    "            print(cnt)\n",
    "            return\n",
    "        \n",
    "        # cnt가 안 늘어나기때문에 같은 depth로 취급한다.\n",
    "        if 2 * u <= 100000 and not visited[2*u]:\n",
    "            visited[2*u] = 1\n",
    "            queue.appendleft((2*u,cnt))\n",
    "            \n",
    "        if u - 1 >= 0 and not visited[u-1]:\n",
    "            visited[u-1] = 1\n",
    "            queue.append((u-1, cnt+1))\n",
    "\n",
    "        if u + 1 <= 100000 and not visited[u+1]:\n",
    "            visited[u+1] = 1\n",
    "            queue.append((u+1,cnt+1))\n",
    "BOJ13549()"
   ]
  },
  {
   "cell_type": "markdown",
   "metadata": {},
   "source": [
    "### Approach #2 Recursion"
   ]
  },
  {
   "cell_type": "code",
   "execution_count": 20,
   "metadata": {},
   "outputs": [
    {
     "name": "stdout",
     "output_type": "stream",
     "text": [
      "2\n"
     ]
    }
   ],
   "source": [
    "f = open(\"input.in\")\n",
    "input = f.readline\n",
    "\n",
    "def BOJ13549():\n",
    "    def c(n,k):\n",
    "        if n>= k:\n",
    "            return n-k\n",
    "        elif k == 1:\n",
    "            return 1\n",
    "        elif k % 2:\n",
    "            return 1 + min(c(n,k-1),c(n, k+1))\n",
    "        else: # k%2 == 0\n",
    "            return min(k-n, c(n,k//2))\n",
    "    n, k = map(int,input().split())\n",
    "    print(c(n,k))\n",
    "BOJ13549()"
   ]
  },
  {
   "cell_type": "code",
   "execution_count": null,
   "metadata": {},
   "outputs": [],
   "source": []
  }
 ],
 "metadata": {
  "kernelspec": {
   "display_name": "Python 3",
   "language": "python",
   "name": "python3"
  },
  "language_info": {
   "codemirror_mode": {
    "name": "ipython",
    "version": 3
   },
   "file_extension": ".py",
   "mimetype": "text/x-python",
   "name": "python",
   "nbconvert_exporter": "python",
   "pygments_lexer": "ipython3",
   "version": "3.7.6"
  }
 },
 "nbformat": 4,
 "nbformat_minor": 4
}
