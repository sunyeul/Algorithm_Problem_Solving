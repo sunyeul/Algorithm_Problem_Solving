{
 "cells": [
  {
   "cell_type": "markdown",
   "metadata": {},
   "source": [
    "# [BOJ13549] 숨바꼭질 3\n",
    "\n",
    "## 문제\n",
    "\n",
    "수빈이는 동생과 숨바꼭질을 하고 있다. 수빈이는 현재 점 N(0 ≤ N ≤ 100,000)에 있고, 동생은 점 K(0 ≤ K ≤ 100,000)에 있다. 수빈이는 걷거나 순간이동을 할 수 있다. 만약, 수빈이의 위치가 X일 때 걷는다면 1초 후에 X-1 또는 X+1로 이동하게 된다. 순간이동을 하는 경우에는 0초 후에 2*X의 위치로 이동하게 된다.\n",
    "\n",
    "수빈이와 동생의 위치가 주어졌을 때, 수빈이가 동생을 찾을 수 있는 가장 빠른 시간이 몇 초 후인지 구하는 프로그램을 작성하시오."
   ]
  },
  {
   "cell_type": "markdown",
   "metadata": {},
   "source": [
    "### Approach #3 BFS"
   ]
  },
  {
   "cell_type": "code",
   "execution_count": 23,
   "metadata": {},
   "outputs": [
    {
     "name": "stdout",
     "output_type": "stream",
     "text": [
      "2\n"
     ]
    }
   ],
   "source": [
    "f = open(\"input.in\")\n",
    "input = f.readline\n",
    "from collections import deque\n",
    "\n",
    "def BOJ13549():\n",
    "    n,k = map(int,input().split())\n",
    "    \n",
    "    if n>=k:\n",
    "        print(n-k)\n",
    "        return \n",
    "    \n",
    "    queue, visited = deque([(n,0)]), [0]*100001\n",
    "    visited[n] = 1\n",
    "    while queue:\n",
    "        u, cnt = queue.popleft()\n",
    "        if u == k:\n",
    "            print(cnt)\n",
    "            return\n",
    "        \n",
    "        if 2 * u <= 100000 and not visited[2*u]:\n",
    "            visited[2*u] = 1\n",
    "            queue.appendleft((2*u,cnt))\n",
    "            \n",
    "        if u - 1 >= 0 and not visited[u-1]:\n",
    "            visited[u-1] = 1\n",
    "            queue.append((u-1, cnt+1))\n",
    "\n",
    "        if u + 1 <= 100000 and not visited[u+1]:\n",
    "            visited[u+1] = 1\n",
    "            queue.append((u+1,cnt+1))\n",
    "BOJ13549()"
   ]
  },
  {
   "cell_type": "markdown",
   "metadata": {},
   "source": [
    "### Approach #2 Recursion"
   ]
  },
  {
   "cell_type": "code",
   "execution_count": 20,
   "metadata": {},
   "outputs": [
    {
     "name": "stdout",
     "output_type": "stream",
     "text": [
      "2\n"
     ]
    }
   ],
   "source": [
    "f = open(\"input.in\")\n",
    "input = f.readline\n",
    "\n",
    "def BOJ13549():\n",
    "    def c(n,k):\n",
    "        if n>= k:\n",
    "            return n-k\n",
    "        elif k == 1:\n",
    "            return 1\n",
    "        elif k % 2:\n",
    "            return 1 + min(c(n,k-1),c(n, k+1))\n",
    "        else: # k%2 == 0\n",
    "            return min(k-n, c(n,k//2))\n",
    "    n, k = map(int,input().split())\n",
    "    print(c(n,k))\n",
    "BOJ13549()"
   ]
  },
  {
   "cell_type": "code",
   "execution_count": null,
   "metadata": {},
   "outputs": [],
   "source": []
  }
 ],
 "metadata": {
  "kernelspec": {
   "display_name": "Python 3",
   "language": "python",
   "name": "python3"
  },
  "language_info": {
   "codemirror_mode": {
    "name": "ipython",
    "version": 3
   },
   "file_extension": ".py",
   "mimetype": "text/x-python",
   "name": "python",
   "nbconvert_exporter": "python",
   "pygments_lexer": "ipython3",
   "version": "3.7.6"
  }
 },
 "nbformat": 4,
 "nbformat_minor": 4
}
