{
 "cells": [
  {
   "cell_type": "markdown",
   "metadata": {},
   "source": [
    "# #1 CASE"
   ]
  },
  {
   "cell_type": "code",
   "execution_count": 148,
   "metadata": {},
   "outputs": [],
   "source": [
    "def shift(board):\n",
    "    res = []\n",
    "    # left\n",
    "    left_board=deepcopy(board)\n",
    "    dq = deque()\n",
    "    for i in range(N):\n",
    "        for j in range(N):\n",
    "            if left_board[i][j]:\n",
    "                dq.append(left_board[i][j])\n",
    "            left_board[i][j]=0\n",
    "        idx = 0\n",
    "        while dq:\n",
    "            data = dq.popleft()\n",
    "            if left_board[i][idx] == 0:\n",
    "                left_board[i][idx] = data\n",
    "            elif left_board[i][idx] == data:\n",
    "                left_board[i][idx] *= 2\n",
    "                idx+=1\n",
    "            else:\n",
    "                idx+=1\n",
    "                left_board[i][idx]= data\n",
    "    if left_board != board:\n",
    "        res.append(left_board)\n",
    "\n",
    "    # right\n",
    "    right_board=deepcopy(board)\n",
    "    dq = deque()\n",
    "    for i in range(N):\n",
    "        for j in range(N-1,-1,-1):\n",
    "            if right_board[i][j]:\n",
    "                dq.appendleft(right_board[i][j])\n",
    "            right_board[i][j]=0\n",
    "        idx = N-1\n",
    "        while dq:\n",
    "            data = dq.pop()\n",
    "            if right_board[i][idx] == 0:\n",
    "                right_board[i][idx] = data\n",
    "            elif right_board[i][idx] == data:\n",
    "                right_board[i][idx] *= 2\n",
    "                idx-=1\n",
    "            else:\n",
    "                idx-=1\n",
    "                right_board[i][idx]= data\n",
    "    if right_board != board:\n",
    "        res.append(right_board)\n",
    "\n",
    "    # up\n",
    "    up_board=deepcopy(board)\n",
    "    dq = deque()\n",
    "    for j in range(N):\n",
    "        for i in range(N):\n",
    "            if up_board[i][j]:\n",
    "                dq.append(up_board[i][j])\n",
    "            up_board[i][j]=0\n",
    "        idx = 0\n",
    "        while dq:\n",
    "            data = dq.popleft()\n",
    "            if up_board[idx][j] == 0:\n",
    "                up_board[idx][j] = data\n",
    "            elif up_board[idx][j] == data:\n",
    "                up_board[idx][j] *= 2\n",
    "                idx+=1\n",
    "            else:\n",
    "                idx+=1\n",
    "                up_board[idx][j]= data\n",
    "    if up_board != board:\n",
    "        res.append(up_board)\n",
    "\n",
    "    # down\n",
    "    down_board=deepcopy(board)\n",
    "    dq = deque()\n",
    "    for j in range(N):\n",
    "        for i in range(N-1,-1,-1):\n",
    "            if down_board[i][j]:\n",
    "                dq.append(down_board[i][j])\n",
    "            down_board[i][j]=0\n",
    "        idx = N-1\n",
    "        while dq:\n",
    "            data = dq.popleft()\n",
    "            if down_board[idx][j] == 0:\n",
    "                down_board[idx][j] = data\n",
    "            elif down_board[idx][j] == data:\n",
    "                down_board[idx][j] *= 2\n",
    "                idx-=1\n",
    "            else:\n",
    "                idx-=1\n",
    "                down_board[idx][j]= data\n",
    "    if down_board != board:\n",
    "        res.append(down_board)\n",
    "    \n",
    "    return res"
   ]
  },
  {
   "cell_type": "code",
   "execution_count": 149,
   "metadata": {},
   "outputs": [],
   "source": [
    "def DFS(board, cnt=5):\n",
    "    if cnt == 0:\n",
    "        res=0\n",
    "        for i in board:\n",
    "            for j in i:\n",
    "                if j > res:\n",
    "                    res=j\n",
    "        return res\n",
    "    \n",
    "    res = shift(board)\n",
    "    if res:\n",
    "        return max([DFS(tmp, cnt-1) for tmp in res])\n",
    "    else:\n",
    "        res=0\n",
    "        for i in board:\n",
    "            for j in i:\n",
    "                if j > res:\n",
    "                    res=j\n",
    "        return res"
   ]
  },
  {
   "cell_type": "code",
   "execution_count": 150,
   "metadata": {},
   "outputs": [],
   "source": [
    "from collections import deque\n",
    "from copy import deepcopy"
   ]
  },
  {
   "cell_type": "code",
   "execution_count": 152,
   "metadata": {},
   "outputs": [],
   "source": [
    "f=open('input.in')\n",
    "input=f.readline"
   ]
  },
  {
   "cell_type": "code",
   "execution_count": 153,
   "metadata": {},
   "outputs": [],
   "source": [
    "N = int(input())\n",
    "if N == 1:\n",
    "    print(int(input()))\n",
    "else:\n",
    "    board = []\n",
    "    for _ in range(N):\n",
    "        board.append(list(map(int,input().split())))"
   ]
  },
  {
   "cell_type": "code",
   "execution_count": 155,
   "metadata": {},
   "outputs": [
    {
     "data": {
      "text/plain": [
       "2048"
      ]
     },
     "execution_count": 155,
     "metadata": {},
     "output_type": "execute_result"
    }
   ],
   "source": [
    "DFS(board)"
   ]
  },
  {
   "cell_type": "markdown",
   "metadata": {},
   "source": [
    "# #2 CASE"
   ]
  },
  {
   "cell_type": "code",
   "execution_count": 142,
   "metadata": {},
   "outputs": [],
   "source": [
    "f=open('input.in')\n",
    "input=f.readline"
   ]
  },
  {
   "cell_type": "code",
   "execution_count": 143,
   "metadata": {},
   "outputs": [],
   "source": [
    "n = int(input())\n",
    "r_q = [[] for _ in range(n)]\n",
    "c_q = [[] for _ in range(n)]\n",
    "\n",
    "for r in range(n):\n",
    "    s = [*map(int, input().split())]\n",
    "    for c in range(n):\n",
    "        tmp = s[c]\n",
    "        if tmp != 0:\n",
    "            r_q[r].append(tmp)\n",
    "            c_q[c].append(tmp)"
   ]
  },
  {
   "cell_type": "code",
   "execution_count": 146,
   "metadata": {},
   "outputs": [
    {
     "name": "stdout",
     "output_type": "stream",
     "text": [
      "2048\n"
     ]
    }
   ],
   "source": [
    "def move(o, t= 1, b= True, n= n):\n",
    "    o_r = []\n",
    "    node = False\n",
    "\n",
    "    for i in o:\n",
    "        o_r.append(i.copy())\n",
    "        k = 0\n",
    "        while True:\n",
    "            try:\n",
    "                if i[k] == i[k+1]:\n",
    "                    node = True\n",
    "                    i[k] += i.pop(k+1)\n",
    "                k += 1\n",
    "            except: break\n",
    "\n",
    "    if t == 5 or (node == False and b == False):\n",
    "        tmp = 0\n",
    "        for i in o:\n",
    "            for j in i:\n",
    "                if j > tmp:\n",
    "                    tmp = j\n",
    "        return tmp\n",
    "\n",
    "    new_c = [[] for _ in range(n)]\n",
    "    new_c_r = [[] for _ in range(n)]\n",
    "\n",
    "    for i in o:\n",
    "        k = 0\n",
    "        for j in i:\n",
    "            new_c[k].append(j)\n",
    "            k += 1\n",
    "\n",
    "    if node == False:\n",
    "        for i in o:\n",
    "            k = -1\n",
    "            for j in i[::-1]:\n",
    "                new_c_r[k].append(j)\n",
    "                k -= 1\n",
    "\n",
    "        return max(move(new_c, t+1, node),move(new_c_r, t+1, node))\n",
    "\n",
    "    for i in o_r:\n",
    "        k = -1\n",
    "        while True:\n",
    "            try:\n",
    "                if i[k] == i[k-1]:\n",
    "                    i[k] += i.pop(k-1)\n",
    "                k -= 1\n",
    "            except: break\n",
    "\n",
    "    for i in o_r:\n",
    "        k = -1\n",
    "        for j in i[::-1]:\n",
    "            new_c_r[k].append(j)\n",
    "            k -= 1\n",
    "\n",
    "    return max(move(o, t+1),move(o_r, t+1),move(new_c, t+1),move(new_c_r, t+1))\n",
    "\n",
    "print(max(move(r_q), move(c_q)))"
   ]
  },
  {
   "cell_type": "markdown",
   "metadata": {},
   "source": [
    "# #3 CASE"
   ]
  },
  {
   "cell_type": "code",
   "execution_count": 157,
   "metadata": {},
   "outputs": [],
   "source": [
    "def rotate(arr):\n",
    "    n = len(arr)\n",
    "    res = [[] for _ in range(n)]\n",
    "    for i in arr:\n",
    "        k=0\n",
    "        for j in i:\n",
    "            res[k].append(j)\n",
    "            k+=1\n",
    "    return res"
   ]
  },
  {
   "cell_type": "code",
   "execution_count": 156,
   "metadata": {},
   "outputs": [],
   "source": [
    "def LR(board):\n",
    "    res = []\n",
    "    # left\n",
    "    left_board=deepcopy(board)\n",
    "    dq = deque()\n",
    "    for i in range(N):\n",
    "        for j in range(N):\n",
    "            if left_board[i][j]:\n",
    "                dq.append(left_board[i][j])\n",
    "            left_board[i][j]=0\n",
    "        idx = 0\n",
    "        while dq:\n",
    "            data = dq.popleft()\n",
    "            if left_board[i][idx] == 0:\n",
    "                left_board[i][idx] = data\n",
    "            elif left_board[i][idx] == data:\n",
    "                left_board[i][idx] *= 2\n",
    "                idx+=1\n",
    "            else:\n",
    "                idx+=1\n",
    "                left_board[i][idx]= data\n",
    "    if left_board != board:\n",
    "        res.append(left_board)\n",
    "\n",
    "    # right\n",
    "    right_board=deepcopy(board)\n",
    "    dq = deque()\n",
    "    for i in range(N):\n",
    "        for j in range(N-1,-1,-1):\n",
    "            if right_board[i][j]:\n",
    "                dq.appendleft(right_board[i][j])\n",
    "            right_board[i][j]=0\n",
    "        idx = N-1\n",
    "        while dq:\n",
    "            data = dq.pop()\n",
    "            if right_board[i][idx] == 0:\n",
    "                right_board[i][idx] = data\n",
    "            elif right_board[i][idx] == data:\n",
    "                right_board[i][idx] *= 2\n",
    "                idx-=1\n",
    "            else:\n",
    "                idx-=1\n",
    "                right_board[i][idx]= data\n",
    "    if right_board != board:\n",
    "        res.append(right_board)\n",
    "    return res"
   ]
  },
  {
   "cell_type": "code",
   "execution_count": 149,
   "metadata": {},
   "outputs": [],
   "source": [
    "def DFS(board, cnt=5):\n",
    "    if cnt == 0:\n",
    "        res=0\n",
    "        for i in board:\n",
    "            for j in i:\n",
    "                if j > res:\n",
    "                    res=j\n",
    "        return res\n",
    "    \n",
    "    res = shift(board)\n",
    "    if res:\n",
    "        return max([DFS(tmp, cnt-1) for tmp in res])\n",
    "    else:\n",
    "        res=0\n",
    "        for i in board:\n",
    "            for j in i:\n",
    "                if j > res:\n",
    "                    res=j\n",
    "        return res"
   ]
  },
  {
   "cell_type": "code",
   "execution_count": 150,
   "metadata": {},
   "outputs": [],
   "source": [
    "from collections import deque\n",
    "from copy import deepcopy"
   ]
  },
  {
   "cell_type": "code",
   "execution_count": 158,
   "metadata": {},
   "outputs": [],
   "source": [
    "f=open('input.in')\n",
    "input=f.readline"
   ]
  },
  {
   "cell_type": "code",
   "execution_count": 159,
   "metadata": {},
   "outputs": [],
   "source": [
    "N = int(input())\n",
    "board = []\n",
    "for _ in range(N):\n",
    "    board.append(list(map(int,input().split())))"
   ]
  },
  {
   "cell_type": "code",
   "execution_count": 163,
   "metadata": {},
   "outputs": [
    {
     "name": "stdout",
     "output_type": "stream",
     "text": [
      "[0, 16, 512]\n",
      "[16, 512, 256]\n",
      "[0, 0, 1024]\n"
     ]
    }
   ],
   "source": [
    "print(*rotate(board), sep='\\n')"
   ]
  },
  {
   "cell_type": "code",
   "execution_count": 155,
   "metadata": {},
   "outputs": [
    {
     "data": {
      "text/plain": [
       "2048"
      ]
     },
     "execution_count": 155,
     "metadata": {},
     "output_type": "execute_result"
    }
   ],
   "source": [
    "DFS(board)"
   ]
  }
 ],
 "metadata": {
  "kernelspec": {
   "display_name": "Python 3",
   "language": "python",
   "name": "python3"
  },
  "language_info": {
   "codemirror_mode": {
    "name": "ipython",
    "version": 3
   },
   "file_extension": ".py",
   "mimetype": "text/x-python",
   "name": "python",
   "nbconvert_exporter": "python",
   "pygments_lexer": "ipython3",
   "version": "3.6.10"
  }
 },
 "nbformat": 4,
 "nbformat_minor": 4
}
