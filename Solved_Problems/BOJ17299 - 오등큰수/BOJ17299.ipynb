{
 "cells": [
  {
   "cell_type": "code",
   "execution_count": 18,
   "metadata": {},
   "outputs": [],
   "source": [
    "f=open('input.in')\n",
    "input=f.readline"
   ]
  },
  {
   "cell_type": "code",
   "execution_count": 19,
   "metadata": {},
   "outputs": [
    {
     "name": "stdout",
     "output_type": "stream",
     "text": [
      "-1 -1 1 2 2 1 -1\n"
     ]
    }
   ],
   "source": [
    "from collections import deque\n",
    "def BOJ_17299():\n",
    "    N = int(input())\n",
    "    A = list(map(int, input().split()))\n",
    "    cnt = [0]*(10**6+1)\n",
    "    for a in A:\n",
    "        cnt[a]+=1\n",
    "    stack = deque([])\n",
    "    NGF = [-1]*N\n",
    "    for idx, a in enumerate(A):\n",
    "        while stack and cnt[stack[0][-1]] < cnt[a]:\n",
    "            NGF[stack.popleft()[0]] = a\n",
    "        stack.appendleft((idx,a))\n",
    "    print(*NGF)\n",
    "BOJ_17299()"
   ]
  },
  {
   "cell_type": "code",
   "execution_count": null,
   "metadata": {},
   "outputs": [],
   "source": []
  }
 ],
 "metadata": {
  "kernelspec": {
   "display_name": "Python 3",
   "language": "python",
   "name": "python3"
  },
  "language_info": {
   "codemirror_mode": {
    "name": "ipython",
    "version": 3
   },
   "file_extension": ".py",
   "mimetype": "text/x-python",
   "name": "python",
   "nbconvert_exporter": "python",
   "pygments_lexer": "ipython3",
   "version": "3.6.10"
  }
 },
 "nbformat": 4,
 "nbformat_minor": 4
}
