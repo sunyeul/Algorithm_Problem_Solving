{
 "cells": [
  {
   "cell_type": "code",
   "execution_count": 113,
   "metadata": {},
   "outputs": [],
   "source": [
    "import sys\n",
    "f = open('input.in')\n",
    "input = f.readline\n",
    "print = sys.stdout.write"
   ]
  },
  {
   "cell_type": "code",
   "execution_count": 114,
   "metadata": {},
   "outputs": [],
   "source": [
    "def GoodSeq(k, n, arr=''):\n",
    "    for i in range(1, k//2+1):\n",
    "        if arr[-i*2:-i] == arr[-i:]:\n",
    "            return False\n",
    "        \n",
    "    if k == n and len(arr)==n:\n",
    "        print(arr)\n",
    "        return True\n",
    "        \n",
    "    for i in ['1','2','3']:\n",
    "        arr+=i\n",
    "        if GoodSeq(k+1,n,arr):\n",
    "                return True\n",
    "        arr=arr[:-1]"
   ]
  },
  {
   "cell_type": "code",
   "execution_count": 115,
   "metadata": {},
   "outputs": [
    {
     "name": "stdout",
     "output_type": "stream",
     "text": [
      "1213121"
     ]
    }
   ],
   "source": [
    "def BOJ2661():\n",
    "    N = int(input())\n",
    "    GoodSeq(0,N)\n",
    "BOJ2661()"
   ]
  },
  {
   "cell_type": "code",
   "execution_count": null,
   "metadata": {},
   "outputs": [],
   "source": []
  }
 ],
 "metadata": {
  "kernelspec": {
   "display_name": "Python 3",
   "language": "python",
   "name": "python3"
  },
  "language_info": {
   "codemirror_mode": {
    "name": "ipython",
    "version": 3
   },
   "file_extension": ".py",
   "mimetype": "text/x-python",
   "name": "python",
   "nbconvert_exporter": "python",
   "pygments_lexer": "ipython3",
   "version": "3.7.6"
  }
 },
 "nbformat": 4,
 "nbformat_minor": 4
}
