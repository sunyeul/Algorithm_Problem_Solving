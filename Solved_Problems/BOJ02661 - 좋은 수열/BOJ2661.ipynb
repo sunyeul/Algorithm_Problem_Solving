{
 "cells": [
  {
   "cell_type": "code",
   "execution_count": 8,
   "metadata": {},
   "outputs": [],
   "source": [
    "import sys\n",
    "f = open('input.in')\n",
    "input = f.readline\n",
    "print = sys.stdout.write"
   ]
  },
  {
   "cell_type": "code",
   "execution_count": 11,
   "metadata": {},
   "outputs": [],
   "source": [
    "def GoodSeq(k, n, arr=''):\n",
    "    for i in range(1, k//2+1):\n",
    "        if arr[-i*2:-i] == arr[-i:]:\n",
    "            return False\n",
    "        \n",
    "    if k == n and len(arr)==n:\n",
    "        print(arr)\n",
    "        return True\n",
    "        \n",
    "    for i in ['1','2','3']:\n",
    "        arr+=i\n",
    "        if GoodSeq(k+1,n,arr):\n",
    "                return True\n",
    "        arr=arr[:-1]"
   ]
  },
  {
   "cell_type": "code",
   "execution_count": 81,
   "metadata": {},
   "outputs": [],
   "source": [
    "def isGoodSeq(arr):\n",
    "    k = len(arr)\n",
    "    for i in range(1, k//2+1):\n",
    "        if arr[-i*2:-i] == arr[-i:]:\n",
    "            return False\n",
    "    return True\n",
    "\n",
    "def GoodSeq(k, n, arr=''):\n",
    "    global stop\n",
    "    if k == n:\n",
    "        print(arr)\n",
    "        stop = True\n",
    "        return\n",
    "    for i in ['1','2','3']:\n",
    "        tmp = arr+i\n",
    "        if isGoodSeq(tmp):\n",
    "            GoodSeq(k+1, n, arr+i)\n",
    "        if stop:\n",
    "            return\n",
    "    return"
   ]
  },
  {
   "cell_type": "code",
   "execution_count": 88,
   "metadata": {},
   "outputs": [
    {
     "name": "stdout",
     "output_type": "stream",
     "text": [
      "12131231321231213123132131213212312131231321231213212313213121321231213123132123\n"
     ]
    }
   ],
   "source": [
    "N = int(input())\n",
    "stop=False\n",
    "GoodSeq(0,N)"
   ]
  },
  {
   "cell_type": "code",
   "execution_count": null,
   "metadata": {},
   "outputs": [],
   "source": []
  }
 ],
 "metadata": {
  "kernelspec": {
   "display_name": "Python 3",
   "language": "python",
   "name": "python3"
  },
  "language_info": {
   "codemirror_mode": {
    "name": "ipython",
    "version": 3
   },
   "file_extension": ".py",
   "mimetype": "text/x-python",
   "name": "python",
   "nbconvert_exporter": "python",
   "pygments_lexer": "ipython3",
   "version": "3.7.6"
  }
 },
 "nbformat": 4,
 "nbformat_minor": 4
}
