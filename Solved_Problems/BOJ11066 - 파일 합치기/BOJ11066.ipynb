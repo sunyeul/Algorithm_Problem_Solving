{
 "cells": [
  {
   "cell_type": "code",
   "execution_count": 1,
   "metadata": {},
   "outputs": [],
   "source": [
    "f = open(\"input.in\")\n",
    "input = f.readline"
   ]
  },
  {
   "cell_type": "code",
   "execution_count": null,
   "metadata": {},
   "outputs": [],
   "source": [
    "def BOJ_11066():\n",
    "    for _ in range(int(input())):\n",
    "        n = int(input())\n",
    "        data = list(map(int, input().split()))\n",
    "\n",
    "        A = [[0]*n for _ in range(n)]\n",
    "        for i in range(n):\n",
    "            A[i][i] = i\n",
    "\n",
    "        dp = [[0]*n for _ in range(n)]\n",
    "\n",
    "        for i in range(1, n): # 간격\n",
    "            for x in range(n-i): # 시작 위치\n",
    "                y = x + i\n",
    "                if i > 1:\n",
    "                    temp = [dp[x][k] + dp[k+1][y] for k in range(A[x][y-1], A[x+1][y]+1)]\n",
    "                else:\n",
    "                    temp = [dp[x][k] + dp[k+1][y] for k in range(A[x][y-1], A[x+1][y])]\n",
    "                dp[x][y] = min(temp, default=0) + sum(data[x:y+1])\n",
    "                A[x][y] = A[x][y-1] + temp.index(min(temp))\n",
    "        print(dp[0][-1])\n",
    "BOJ_11066()"
   ]
  }
 ],
 "metadata": {
  "kernelspec": {
   "display_name": "Python 3",
   "language": "python",
   "name": "python3"
  },
  "language_info": {
   "codemirror_mode": {
    "name": "ipython",
    "version": 3
   },
   "file_extension": ".py",
   "mimetype": "text/x-python",
   "name": "python",
   "nbconvert_exporter": "python",
   "pygments_lexer": "ipython3",
   "version": "3.6.10"
  }
 },
 "nbformat": 4,
 "nbformat_minor": 4
}
