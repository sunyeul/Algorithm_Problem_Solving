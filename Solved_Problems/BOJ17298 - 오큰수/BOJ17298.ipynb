{
 "cells": [
  {
   "cell_type": "code",
   "execution_count": 64,
   "metadata": {},
   "outputs": [],
   "source": [
    "f=open('input.in')\n",
    "input=f.readline"
   ]
  },
  {
   "cell_type": "code",
   "execution_count": 48,
   "metadata": {},
   "outputs": [
    {
     "name": "stdout",
     "output_type": "stream",
     "text": [
      "5 7 7 -1\n"
     ]
    }
   ],
   "source": [
    "from collections import deque\n",
    "def BOJ_17298():\n",
    "    N = int(input())\n",
    "    A = enumerate(map(int, input().split()))\n",
    "\n",
    "    stack = deque([])\n",
    "    NGE = [-1]*N\n",
    "    \n",
    "    for idx, a in A:\n",
    "        while stack and stack[0][-1] < a:\n",
    "            NGE[stack.popleft()[0]] = a\n",
    "        stack.appendleft((idx,a))\n",
    "    print(*NGE)\n",
    "BOJ_17298()"
   ]
  },
  {
   "cell_type": "code",
   "execution_count": null,
   "metadata": {},
   "outputs": [],
   "source": []
  }
 ],
 "metadata": {
  "kernelspec": {
   "display_name": "Python 3",
   "language": "python",
   "name": "python3"
  },
  "language_info": {
   "codemirror_mode": {
    "name": "ipython",
    "version": 3
   },
   "file_extension": ".py",
   "mimetype": "text/x-python",
   "name": "python",
   "nbconvert_exporter": "python",
   "pygments_lexer": "ipython3",
   "version": "3.6.10"
  }
 },
 "nbformat": 4,
 "nbformat_minor": 4
}
