{
 "cells": [
  {
   "cell_type": "markdown",
   "metadata": {},
   "source": [
    "# [BOJ11724] 연결 요소의 개수\n",
    "\n",
    "## 문제\n",
    "\n",
    "방향 없는 그래프가 주어졌을 때, 연결 요소 (Connected Component)의 개수를 구하는 프로그램을 작성하시오."
   ]
  },
  {
   "cell_type": "code",
   "execution_count": 1,
   "metadata": {},
   "outputs": [
    {
     "name": "stdout",
     "output_type": "stream",
     "text": [
      "1\n"
     ]
    }
   ],
   "source": [
    "f = open(\"input.in\")\n",
    "input = f.readline\n",
    "\n",
    "from collections import deque\n",
    "\n",
    "def making_graph(n,m):\n",
    "    graph = {}\n",
    "    for i in range(1, n+1):\n",
    "        graph[i] = set([])\n",
    "\n",
    "    for _ in range(m):\n",
    "        u,v = map(int, input().split())\n",
    "        graph[u].add(v)\n",
    "        graph[v].add(u)\n",
    "    return graph\n",
    "\n",
    "def BFS(start, graph):\n",
    "    visited= set([])\n",
    "    queue = deque([start])\n",
    "    while queue:\n",
    "        curr = queue.popleft()\n",
    "        if curr not in visited:\n",
    "            visited.add(curr)\n",
    "            queue.extend(graph[curr] - visited)\n",
    "    return visited\n",
    "\n",
    "def count(graph, func=BFS):\n",
    "    cnt,n = 0, len(graph)\n",
    "    unvisited=set([i for i in range(1,n+1)])\n",
    "    while unvisited:\n",
    "        start = unvisited.pop()\n",
    "        unvisited -= func(start, graph)\n",
    "        cnt+=1\n",
    "    return cnt\n",
    "    \n",
    "def BOJ11724():\n",
    "    n,m = map(int,input().split())\n",
    "    graph = making_graph(n,m)\n",
    "    \n",
    "    cnt = count(graph, BFS)\n",
    "    print(cnt)\n",
    "BOJ11724()"
   ]
  },
  {
   "cell_type": "code",
   "execution_count": 2,
   "metadata": {},
   "outputs": [],
   "source": []
  },
  {
   "cell_type": "code",
   "execution_count": 1,
   "metadata": {},
   "outputs": [
    {
     "name": "stdout",
     "output_type": "stream",
     "text": [
      "1\n"
     ]
    }
   ],
   "source": [
    "f = open(\"input.in\")\n",
    "input = f.readline\n",
    "\n",
    "from collections import deque\n",
    "\n",
    "def making_graph(n,m):\n",
    "    graph = {}\n",
    "    for i in range(1, n+1):\n",
    "        graph[i] = set([])\n",
    "\n",
    "    for _ in range(m):\n",
    "        u,v = map(int, input().split())\n",
    "        graph[u].add(v)\n",
    "        graph[v].add(u)\n",
    "    return graph\n",
    "\n",
    "def BFS(start, graph):\n",
    "    visited= set([])\n",
    "    queue = deque([start])\n",
    "    while queue:\n",
    "        curr = queue.popleft()\n",
    "        if curr not in visited:\n",
    "            visited.add(curr)\n",
    "            queue.extend(graph[curr] - visited)\n",
    "    return visited\n",
    "\n",
    "def DFS(start, graph):\n",
    "    visited= set([])\n",
    "    queue = deque([start])\n",
    "    while queue:\n",
    "        curr = queue.pop()\n",
    "        if curr not in visited:\n",
    "            visited.add(curr)\n",
    "            queue.extend(graph[curr] - visited)\n",
    "    return visited\n",
    "\n",
    "def count(graph, func=BFS):\n",
    "    cnt,n = 0, len(graph)\n",
    "    unvisited=set([i for i in range(1,n+1)])\n",
    "    while unvisited:\n",
    "        start = unvisited.pop()\n",
    "        unvisited -= func(start, graph)\n",
    "        cnt+=1\n",
    "    return cnt\n",
    "    \n",
    "def BOJ11724():\n",
    "    n,m = map(int,input().split())\n",
    "    graph = making_graph(n,m)\n",
    "    \n",
    "    cnt = count(graph, DFS)\n",
    "    print(cnt)\n",
    "BOJ11724()"
   ]
  },
  {
   "cell_type": "code",
   "execution_count": null,
   "metadata": {},
   "outputs": [],
   "source": []
  },
  {
   "cell_type": "code",
   "execution_count": null,
   "metadata": {},
   "outputs": [],
   "source": []
  }
 ],
 "metadata": {
  "kernelspec": {
   "display_name": "Python 3",
   "language": "python",
   "name": "python3"
  },
  "language_info": {
   "codemirror_mode": {
    "name": "ipython",
    "version": 3
   },
   "file_extension": ".py",
   "mimetype": "text/x-python",
   "name": "python",
   "nbconvert_exporter": "python",
   "pygments_lexer": "ipython3",
   "version": "3.7.6"
  }
 },
 "nbformat": 4,
 "nbformat_minor": 4
}
