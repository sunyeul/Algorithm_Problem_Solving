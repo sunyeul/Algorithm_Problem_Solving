{
 "cells": [
  {
   "cell_type": "code",
   "execution_count": 56,
   "metadata": {},
   "outputs": [
    {
     "name": "stdout",
     "output_type": "stream",
     "text": [
      "6\n"
     ]
    }
   ],
   "source": [
    "f = open(\"input.in\")\n",
    "input = f.readline\n",
    "\n",
    "def count(x):\n",
    "    cnt=0\n",
    "    for i in range(1,N+1):\n",
    "        tmp = x//i\n",
    "        cnt += N if tmp > N else tmp\n",
    "    return cnt\n",
    "\n",
    "def binary_left(func,v,lo,hi):\n",
    "    while lo<hi:\n",
    "        mid = (lo+hi)//2\n",
    "        if func(mid) < v : lo = mid+1\n",
    "        else: hi = mid\n",
    "    return lo\n",
    "\n",
    "def BOJ_1300():\n",
    "    global N\n",
    "    N, k = int(input()), int(input())\n",
    "    print(binary_left(count,k,1,k))\n",
    "BOJ_1300()"
   ]
  },
  {
   "cell_type": "code",
   "execution_count": null,
   "metadata": {},
   "outputs": [],
   "source": []
  }
 ],
 "metadata": {
  "kernelspec": {
   "display_name": "Python 3",
   "language": "python",
   "name": "python3"
  },
  "language_info": {
   "codemirror_mode": {
    "name": "ipython",
    "version": 3
   },
   "file_extension": ".py",
   "mimetype": "text/x-python",
   "name": "python",
   "nbconvert_exporter": "python",
   "pygments_lexer": "ipython3",
   "version": "3.6.10"
  }
 },
 "nbformat": 4,
 "nbformat_minor": 4
}
