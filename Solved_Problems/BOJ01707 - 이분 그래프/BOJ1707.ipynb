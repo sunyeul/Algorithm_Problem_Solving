{
 "cells": [
  {
   "cell_type": "markdown",
   "metadata": {},
   "source": [
    "## Approach #1 : iterative DFS"
   ]
  },
  {
   "cell_type": "code",
   "execution_count": 1,
   "metadata": {},
   "outputs": [
    {
     "name": "stdout",
     "output_type": "stream",
     "text": [
      "YES\n",
      "NO\n"
     ]
    }
   ],
   "source": [
    "f = open(\"input.in\")\n",
    "input = f.readline\n",
    "\n",
    "def BOJ1707():    \n",
    "    def DFS(start):\n",
    "        stack = [start]\n",
    "        grouped[start] = 1\n",
    "        while stack:\n",
    "            curr = stack.pop()\n",
    "            group = grouped[curr]\n",
    "            for nbhd in G[curr]:\n",
    "                if grouped[nbhd]:\n",
    "                    if grouped[nbhd] == group:\n",
    "                        return False\n",
    "                    continue\n",
    "                grouped[nbhd] = -group\n",
    "                stack.append(nbhd)\n",
    "        return True\n",
    "\n",
    "    k = int(input())\n",
    "    for _ in range(k):\n",
    "        v,e = map(int, input().split())\n",
    "        G = {i:[] for i in range(1,v+1)}\n",
    "        for _ in range(e):\n",
    "            i,j = map(int,input().split())\n",
    "            G[i].append(j)\n",
    "            G[j].append(i)\n",
    "\n",
    "        grouped = [0]*(v+1)\n",
    "        for start in range(1,v+1):\n",
    "            if not grouped[start]:\n",
    "                if not DFS(start):\n",
    "                    print(\"NO\")\n",
    "                    break\n",
    "        else:\n",
    "            print(\"YES\")\n",
    "BOJ1707()"
   ]
  },
  {
   "cell_type": "markdown",
   "metadata": {},
   "source": [
    "## Approach #2 : recursive DFS"
   ]
  },
  {
   "cell_type": "code",
   "execution_count": 36,
   "metadata": {},
   "outputs": [
    {
     "name": "stdout",
     "output_type": "stream",
     "text": [
      "YES\n",
      "NO\n"
     ]
    }
   ],
   "source": [
    "f = open(\"input.in\")\n",
    "input = f.readline\n",
    "\n",
    "def BOJ1707():    \n",
    "    def DFS(curr, depth=1):\n",
    "        for nbhd in G[curr]:\n",
    "            if grouped[nbhd]:\n",
    "                if grouped[nbhd] == grouped[curr]:\n",
    "                    return False\n",
    "                continue\n",
    "            grouped[nbhd] = -grouped[curr]\n",
    "            if DFS(nbhd, depth+1): return True\n",
    "        if depth == v:\n",
    "            return True\n",
    "\n",
    "    k = int(input())\n",
    "    for _ in range(k):\n",
    "        v,e = map(int, input().split())\n",
    "        G = {i:[] for i in range(1,v+1)}\n",
    "        for _ in range(e):\n",
    "            i,j = map(int,input().split())\n",
    "            G[i].append(j)\n",
    "            G[j].append(i)\n",
    "\n",
    "        grouped = [0]*(v+1)\n",
    "        for start in range(1,v+1):\n",
    "            if not grouped[start]:\n",
    "                grouped[start] = 1\n",
    "                if not DFS(start):\n",
    "                    print(\"NO\")\n",
    "                    break\n",
    "        else:\n",
    "            print(\"YES\")\n",
    "BOJ1707()"
   ]
  },
  {
   "cell_type": "markdown",
   "metadata": {},
   "source": [
    "## Approach #3 : BFS"
   ]
  },
  {
   "cell_type": "code",
   "execution_count": 37,
   "metadata": {},
   "outputs": [
    {
     "name": "stdout",
     "output_type": "stream",
     "text": [
      "YES\n",
      "NO\n"
     ]
    }
   ],
   "source": [
    "from collections import deque\n",
    "f = open(\"input.in\")\n",
    "input = f.readline\n",
    "\n",
    "def BOJ1707():    \n",
    "    def BFS(start):\n",
    "        queue = deque([start])\n",
    "        grouped[start] = 1\n",
    "        while queue:\n",
    "            curr = queue.popleft()\n",
    "            group = grouped[curr]\n",
    "            for nbhd in G[curr]:\n",
    "                if grouped[nbhd]:\n",
    "                    if grouped[nbhd] == group:\n",
    "                        return False\n",
    "                    continue\n",
    "                grouped[nbhd] = -group\n",
    "                queue.append(nbhd)\n",
    "        return True\n",
    "\n",
    "    k = int(input())\n",
    "    for _ in range(k):\n",
    "        v,e = map(int, input().split())\n",
    "        G = {i:[] for i in range(1,v+1)}\n",
    "        for _ in range(e):\n",
    "            i,j = map(int,input().split())\n",
    "            G[i].append(j)\n",
    "            G[j].append(i)\n",
    "\n",
    "        grouped = [0]*(v+1)\n",
    "        for start in range(1,v+1):\n",
    "            if not grouped[start]:\n",
    "                if not BFS(start):\n",
    "                    print(\"NO\")\n",
    "                    break\n",
    "        else:\n",
    "            print(\"YES\")\n",
    "BOJ1707()"
   ]
  },
  {
   "cell_type": "code",
   "execution_count": null,
   "metadata": {},
   "outputs": [],
   "source": []
  }
 ],
 "metadata": {
  "kernelspec": {
   "display_name": "Python 3",
   "language": "python",
   "name": "python3"
  },
  "language_info": {
   "codemirror_mode": {
    "name": "ipython",
    "version": 3
   },
   "file_extension": ".py",
   "mimetype": "text/x-python",
   "name": "python",
   "nbconvert_exporter": "python",
   "pygments_lexer": "ipython3",
   "version": "3.7.6"
  }
 },
 "nbformat": 4,
 "nbformat_minor": 4
}
