{
 "cells": [
  {
   "cell_type": "code",
   "execution_count": 11,
   "metadata": {},
   "outputs": [],
   "source": [
    "f = open(\"input.in\")\n",
    "input = f.readline"
   ]
  },
  {
   "cell_type": "code",
   "execution_count": 64,
   "metadata": {},
   "outputs": [],
   "source": [
    "def BFS(start:tuple, end:tuple, size:tuple, arr:list):\n",
    "    n,m = size\n",
    "    queue = [start]\n",
    "    move = [(-1,0),(1,0),(0,-1),(0,1)]\n",
    "    cnt = 1\n",
    "    while True:\n",
    "        tmp = []\n",
    "        for i,j in queue:\n",
    "            arr[i][j]=0\n",
    "            for di, dj in move:\n",
    "                if 0 <= i + di < n and 0 <= j + dj < m and arr[i+di][j+dj]:\n",
    "                    if (i+di,j+dj) == end:\n",
    "                        print(cnt+1)\n",
    "                        return \n",
    "                    tmp.append((i+di, j+dj))\n",
    "                    arr[i+di][j+dj] = 0\n",
    "        queue = tmp\n",
    "        cnt+=1"
   ]
  },
  {
   "cell_type": "code",
   "execution_count": 12,
   "metadata": {},
   "outputs": [
    {
     "name": "stdout",
     "output_type": "stream",
     "text": [
      "13\n"
     ]
    }
   ],
   "source": [
    "def BOJ2178():\n",
    "    n,m = map(int, input().split())\n",
    "    maze = [[int(s) for s in input().split()[0]] for _ in range(n)]\n",
    "    res = BFS(n,m, arr=maze)\n",
    "    print(res)\n",
    "BOJ2178()"
   ]
  },
  {
   "cell_type": "code",
   "execution_count": null,
   "metadata": {},
   "outputs": [],
   "source": []
  }
 ],
 "metadata": {
  "kernelspec": {
   "display_name": "Python 3",
   "language": "python",
   "name": "python3"
  },
  "language_info": {
   "codemirror_mode": {
    "name": "ipython",
    "version": 3
   },
   "file_extension": ".py",
   "mimetype": "text/x-python",
   "name": "python",
   "nbconvert_exporter": "python",
   "pygments_lexer": "ipython3",
   "version": "3.7.6"
  }
 },
 "nbformat": 4,
 "nbformat_minor": 4
}
