{
 "cells": [
  {
   "cell_type": "code",
   "execution_count": 1,
   "id": "varying-vehicle",
   "metadata": {},
   "outputs": [],
   "source": [
    "from typing import *"
   ]
  },
  {
   "cell_type": "code",
   "execution_count": 2,
   "id": "desirable-vatican",
   "metadata": {},
   "outputs": [],
   "source": [
    "class Solution:\n",
    "    def maxScore(self, nums: List[int]) -> int:\n",
    "        def getBit(mask, i):\n",
    "            return (mask >> i) & 1\n",
    "        \n",
    "        def setBit(mask, i):\n",
    "            return (1 << i) | mask\n",
    "        \n",
    "        @lru_cache(None)\n",
    "        def gcd(x, y):\n",
    "            while y > 0:\n",
    "                x, y = y, x % y\n",
    "            return x\n",
    "        \n",
    "        @lru_cache(None)\n",
    "        def dp(op, mask):\n",
    "            if op == 0:\n",
    "                return 0\n",
    "            \n",
    "            ans = 0\n",
    "            for i in range(2 * n):\n",
    "                if getBit(mask, i) == 1:\n",
    "                    continue\n",
    "                \n",
    "                for j in range(i+1, 2 * n):\n",
    "                    if getBit(mask, j) == 1:\n",
    "                        continue\n",
    "                        \n",
    "                    newMask = setBit(setBit(mask, i), j)\n",
    "                    \n",
    "                    ans = max(ans, dp(op-1, newMask) + op * gcd(nums[i], nums[j]))\n",
    "            return ans\n",
    "        \n",
    "        n = len(nums) // 2\n",
    "        return dp(n, 0)"
   ]
  },
  {
   "cell_type": "code",
   "execution_count": null,
   "id": "considered-assignment",
   "metadata": {},
   "outputs": [],
   "source": []
  }
 ],
 "metadata": {
  "kernelspec": {
   "display_name": "Python 3",
   "language": "python",
   "name": "python3"
  },
  "language_info": {
   "codemirror_mode": {
    "name": "ipython",
    "version": 3
   },
   "file_extension": ".py",
   "mimetype": "text/x-python",
   "name": "python",
   "nbconvert_exporter": "python",
   "pygments_lexer": "ipython3",
   "version": "3.9.1"
  }
 },
 "nbformat": 4,
 "nbformat_minor": 5
}
