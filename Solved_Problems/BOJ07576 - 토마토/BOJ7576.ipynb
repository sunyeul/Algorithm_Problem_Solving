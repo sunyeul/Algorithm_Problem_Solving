{
 "cells": [
  {
   "cell_type": "code",
   "execution_count": 6,
   "metadata": {},
   "outputs": [],
   "source": [
    "from collections import deque"
   ]
  },
  {
   "cell_type": "code",
   "execution_count": 27,
   "metadata": {},
   "outputs": [],
   "source": [
    "f = open(\"input.in\")\n",
    "input = f.readline"
   ]
  },
  {
   "cell_type": "code",
   "execution_count": 28,
   "metadata": {},
   "outputs": [
    {
     "name": "stdout",
     "output_type": "stream",
     "text": [
      "14\n"
     ]
    }
   ],
   "source": [
    "def TOMATO(m:int, n:int):\n",
    "    tomato, start = [], []\n",
    "    for i in range(n):\n",
    "        row = list(map(int,input().split()))\n",
    "        for j in range(m):\n",
    "            if row[j] == 1:\n",
    "                start.append((i,j))\n",
    "        tomato.append(row)\n",
    "    return tomato, start\n",
    "\n",
    "def BFS(m:int, n:int, start:list, arr:list):\n",
    "    queue = start\n",
    "    time = 0\n",
    "    while True:\n",
    "        next_queue = []\n",
    "        for i,j in queue:\n",
    "            if 0<i and arr[i-1][j]==0:\n",
    "                arr[i-1][j] = 1\n",
    "                next_queue.append((i-1,j))\n",
    "            if i<n-1 and arr[i+1][j]==0:\n",
    "                arr[i+1][j] = 1\n",
    "                next_queue.append((i+1,j))\n",
    "            if 0<j and arr[i][j-1]==0:\n",
    "                arr[i][j-1] = 1\n",
    "                next_queue.append((i,j-1))\n",
    "            if j<m-1 and arr[i][j+1]==0:\n",
    "                arr[i][j+1] = 1\n",
    "                next_queue.append((i,j+1))\n",
    "        if not next_queue:\n",
    "            break\n",
    "        queue = next_queue\n",
    "        time += 1\n",
    "\n",
    "    for row in arr:\n",
    "        for col in row:\n",
    "            if col==0:\n",
    "                return -1\n",
    "    return time\n",
    "\n",
    "def BOJ7576():\n",
    "    m,n = map(int,input().split())\n",
    "    tomato, start = TOMATO(m,n)\n",
    "\n",
    "    res = BFS(m,n,start,tomato)\n",
    "    print(res)\n",
    "BOJ7576()"
   ]
  },
  {
   "cell_type": "code",
   "execution_count": null,
   "metadata": {},
   "outputs": [],
   "source": []
  }
 ],
 "metadata": {
  "kernelspec": {
   "display_name": "Python 3",
   "language": "python",
   "name": "python3"
  },
  "language_info": {
   "codemirror_mode": {
    "name": "ipython",
    "version": 3
   },
   "file_extension": ".py",
   "mimetype": "text/x-python",
   "name": "python",
   "nbconvert_exporter": "python",
   "pygments_lexer": "ipython3",
   "version": "3.7.9"
  }
 },
 "nbformat": 4,
 "nbformat_minor": 4
}
