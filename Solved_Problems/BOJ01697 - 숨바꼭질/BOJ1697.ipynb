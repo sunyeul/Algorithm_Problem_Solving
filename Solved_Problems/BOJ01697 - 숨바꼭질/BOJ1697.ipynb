{
 "cells": [
  {
   "cell_type": "markdown",
   "metadata": {},
   "source": [
    "## Approach #1 BFS"
   ]
  },
  {
   "cell_type": "code",
   "execution_count": 1,
   "metadata": {},
   "outputs": [
    {
     "name": "stdout",
     "output_type": "stream",
     "text": [
      "4\n"
     ]
    }
   ],
   "source": [
    "import sys\n",
    "f = open(\"input.in\")\n",
    "input = f.readline\n",
    "\n",
    "def BOJ1697():\n",
    "    n, k = map(int,input().split())\n",
    "    \n",
    "    if n >= k:\n",
    "        print(n-k)\n",
    "        return\n",
    "    \n",
    "    stack, visited = [n], [0]*(10**5+1)\n",
    "    visited[n] = 1\n",
    "    cnt=0\n",
    "    while stack:\n",
    "        stack, prev_stack = [], stack\n",
    "        for curr in prev_stack:\n",
    "            if curr == k:\n",
    "                print(cnt)\n",
    "                return\n",
    "            if curr <= k and not visited[curr+1]:\n",
    "                visited[curr+1]=1\n",
    "                stack.append(curr+1)\n",
    "            if curr > 0 and not visited[curr-1]:\n",
    "                visited[curr-1]=1\n",
    "                stack.append(curr-1)\n",
    "            if 2 * curr <= k+1:\n",
    "                visited[2*curr]=1\n",
    "                stack.append(2*curr)\n",
    "        cnt += 1\n",
    "    print(cnt)\n",
    "BOJ1697()"
   ]
  },
  {
   "cell_type": "markdown",
   "metadata": {},
   "source": [
    "## Approach #2 Recursion"
   ]
  },
  {
   "cell_type": "code",
   "execution_count": 39,
   "metadata": {},
   "outputs": [
    {
     "name": "stdout",
     "output_type": "stream",
     "text": [
      "4\n"
     ]
    }
   ],
   "source": [
    "def BOJ1697():\n",
    "    def c(n,k):\n",
    "        if n>=k:\n",
    "            return n-k\n",
    "        elif k == 1:\n",
    "            return 1\n",
    "        elif k%2:\n",
    "            return 1+min(c(n,k-1),c(n,k+1))\n",
    "        else:\n",
    "            return min(k-n, 1+c(n,k//2))\n",
    "\n",
    "    n, k = map(int,input().split())\n",
    "    print(c(n,k))\n",
    "BOJ1697()"
   ]
  }
 ],
 "metadata": {
  "kernelspec": {
   "display_name": "Python 3",
   "language": "python",
   "name": "python3"
  },
  "language_info": {
   "codemirror_mode": {
    "name": "ipython",
    "version": 3
   },
   "file_extension": ".py",
   "mimetype": "text/x-python",
   "name": "python",
   "nbconvert_exporter": "python",
   "pygments_lexer": "ipython3",
   "version": "3.7.6"
  }
 },
 "nbformat": 4,
 "nbformat_minor": 4
}
