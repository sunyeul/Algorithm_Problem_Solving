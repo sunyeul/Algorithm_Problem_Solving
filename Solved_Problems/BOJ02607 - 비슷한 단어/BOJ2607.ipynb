{
 "cells": [
  {
   "cell_type": "code",
   "execution_count": 1,
   "metadata": {},
   "outputs": [],
   "source": [
    "f = open(\"input.in\")\n",
    "input = f.readline"
   ]
  },
  {
   "cell_type": "code",
   "execution_count": 2,
   "metadata": {},
   "outputs": [
    {
     "name": "stdout",
     "output_type": "stream",
     "text": [
      "3\n"
     ]
    }
   ],
   "source": [
    "def convert(str):\n",
    "    str = str.replace('\\n','')\n",
    "    res = [0]*26\n",
    "    for i in str:\n",
    "        res[ord(i)-ord('A')]+=1\n",
    "    return res\n",
    "\n",
    "def diff(str1,str2):\n",
    "    diff = [str1[i]-str2[i] for i in range(26)]\n",
    "    u,v,w = diff.count(-1), diff.count(1), diff.count(0)\n",
    "    return u+v+w==26 and u<=1 and v<=1\n",
    "\n",
    "def BOJ_2607():\n",
    "    n = int(input())\n",
    "    src = convert(input())\n",
    "    res = 0\n",
    "    for _ in range(n-1):\n",
    "        target = convert(input())\n",
    "        res+=diff(src, target)\n",
    "    print(res)\n",
    "BOJ_2607()"
   ]
  },
  {
   "cell_type": "code",
   "execution_count": null,
   "metadata": {},
   "outputs": [],
   "source": []
  }
 ],
 "metadata": {
  "kernelspec": {
   "display_name": "Python 3",
   "language": "python",
   "name": "python3"
  },
  "language_info": {
   "codemirror_mode": {
    "name": "ipython",
    "version": 3
   },
   "file_extension": ".py",
   "mimetype": "text/x-python",
   "name": "python",
   "nbconvert_exporter": "python",
   "pygments_lexer": "ipython3",
   "version": "3.6.10"
  }
 },
 "nbformat": 4,
 "nbformat_minor": 4
}
