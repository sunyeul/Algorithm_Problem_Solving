{
 "cells": [
  {
   "cell_type": "code",
   "execution_count": 60,
   "metadata": {},
   "outputs": [
    {
     "name": "stdout",
     "output_type": "stream",
     "text": [
      "[0, 0, 0, 0, 0]\n",
      "[3, 0, 0, 0, 0]\n",
      "1\n"
     ]
    }
   ],
   "source": [
    "def ADJ(n,m):\n",
    "    adj = [[] for _ in range(n)]\n",
    "    for _ in range(m):\n",
    "        u,v = map(int,input().split())\n",
    "        adj[u].append(v)\n",
    "        adj[v].append(u)\n",
    "    return adj\n",
    "\n",
    "def DFS(n, arr):\n",
    "    def dfs(start, curr, arr, visited, depth=0):\n",
    "        if depth == 4:\n",
    "            return True\n",
    "        if depth > max_depth[start]:\n",
    "            max_depth[start] = depth\n",
    "        for v in arr[curr]:\n",
    "            if not (visited >> v) & 1:\n",
    "                if max_depth[v] and depth+max_depth[v]+1 < 4:\n",
    "                    continue\n",
    "                if dfs(start, v, arr,visited+(1<<v), depth+1):\n",
    "                    return True\n",
    "        return False\n",
    "                \n",
    "    max_depth = [0] * n\n",
    "    for u in range(n):\n",
    "        if dfs(u,u,arr,1<<u):\n",
    "            return 1\n",
    "    return 0\n",
    "\n",
    "f = open(\"input.in\")\n",
    "input = f.readline\n",
    "\n",
    "def BOJ13023():\n",
    "    n,m = map(int, input().split())\n",
    "    adj = ADJ(n,m)\n",
    "\n",
    "    res = DFS(n, adj)\n",
    "    print(res)\n",
    "BOJ13023()"
   ]
  },
  {
   "cell_type": "code",
   "execution_count": null,
   "metadata": {},
   "outputs": [],
   "source": []
  }
 ],
 "metadata": {
  "kernelspec": {
   "display_name": "Python 3",
   "language": "python",
   "name": "python3"
  },
  "language_info": {
   "codemirror_mode": {
    "name": "ipython",
    "version": 3
   },
   "file_extension": ".py",
   "mimetype": "text/x-python",
   "name": "python",
   "nbconvert_exporter": "python",
   "pygments_lexer": "ipython3",
   "version": "3.6.10"
  }
 },
 "nbformat": 4,
 "nbformat_minor": 4
}
