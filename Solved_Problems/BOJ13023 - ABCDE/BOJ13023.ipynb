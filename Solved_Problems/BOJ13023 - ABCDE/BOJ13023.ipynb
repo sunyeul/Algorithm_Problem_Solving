{
 "cells": [
  {
   "cell_type": "code",
   "execution_count": 1,
   "metadata": {},
   "outputs": [
    {
     "name": "stdout",
     "output_type": "stream",
     "text": [
      "1\n"
     ]
    }
   ],
   "source": [
    "f = open(\"input.in\")\n",
    "input = f.readline\n",
    "\n",
    "def BOJ13023():\n",
    "    n,m = map(int, input().split())\n",
    "    visited = [0]*n\n",
    "    maxDepth = [0]*n\n",
    "    \n",
    "    adj = [[] for _ in range(n)]\n",
    "    for _ in range(m):\n",
    "        u,v = map(int,input().split())\n",
    "        adj[u].append(v)\n",
    "        adj[v].append(u)\n",
    "    \n",
    "    def dfs(o, u, depth=0):\n",
    "        if depth == 4:\n",
    "            return True\n",
    "        if depth > maxDepth[o]:\n",
    "            maxDepth[o] = depth\n",
    "            \n",
    "        visited[u]=1\n",
    "        for v in adj[u]:\n",
    "            if visited[v]==1:\n",
    "                continue\n",
    "            if maxDepth[v] and depth+1+maxDepth[v] < 4:\n",
    "                continue\n",
    "            if dfs(o,v, depth+1):\n",
    "                return True\n",
    "        visited[u]=0\n",
    "        return False\n",
    "    \n",
    "    for u in range(n):\n",
    "        if dfs(u,u):\n",
    "            print(1)\n",
    "            return\n",
    "    print(0)\n",
    "BOJ13023()"
   ]
  },
  {
   "cell_type": "code",
   "execution_count": null,
   "metadata": {},
   "outputs": [],
   "source": []
  }
 ],
 "metadata": {
  "kernelspec": {
   "display_name": "Python 3",
   "language": "python",
   "name": "python3"
  },
  "language_info": {
   "codemirror_mode": {
    "name": "ipython",
    "version": 3
   },
   "file_extension": ".py",
   "mimetype": "text/x-python",
   "name": "python",
   "nbconvert_exporter": "python",
   "pygments_lexer": "ipython3",
   "version": "3.6.10"
  }
 },
 "nbformat": 4,
 "nbformat_minor": 4
}
