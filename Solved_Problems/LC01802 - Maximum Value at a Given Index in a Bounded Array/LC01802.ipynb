{
 "cells": [
  {
   "cell_type": "code",
   "execution_count": 1,
   "id": "classified-black",
   "metadata": {},
   "outputs": [],
   "source": [
    "f = open(\"input.in\")\n",
    "input = f.readline"
   ]
  },
  {
   "cell_type": "code",
   "execution_count": 3,
   "id": "fluid-cuisine",
   "metadata": {},
   "outputs": [],
   "source": [
    "class Solution:\n",
    "    def maxValue(self, n:int, index:int, maxSum:int) -> int:\n",
    "        def seqSum(start, end):\n",
    "            return (start + end) * (end - start + 1) // 2\n",
    "        \n",
    "        def check(num):\n",
    "            left = max(num - index, 0)\n",
    "            right =max(num - (n - 1 - index), 0)\n",
    "            return seqSum(left, num) + seqSum(right, num) - num\n",
    "        \n",
    "        maxSum -= n\n",
    "        l, r = 0, maxSum\n",
    "        while l < r:\n",
    "            min = (l + r + 1) // 2\n",
    "            if check(mid) <= maxSum:\n",
    "                l = mid\n",
    "            else:\n",
    "                r = mid - 1\n",
    "        \n",
    "        return"
   ]
  },
  {
   "cell_type": "code",
   "execution_count": null,
   "id": "young-graduation",
   "metadata": {},
   "outputs": [],
   "source": []
  }
 ],
 "metadata": {
  "kernelspec": {
   "display_name": "Python 3",
   "language": "python",
   "name": "python3"
  },
  "language_info": {
   "codemirror_mode": {
    "name": "ipython",
    "version": 3
   },
   "file_extension": ".py",
   "mimetype": "text/x-python",
   "name": "python",
   "nbconvert_exporter": "python",
   "pygments_lexer": "ipython3",
   "version": "3.9.1"
  }
 },
 "nbformat": 4,
 "nbformat_minor": 5
}
