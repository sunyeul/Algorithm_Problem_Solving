{
 "cells": [
  {
   "cell_type": "markdown",
   "metadata": {},
   "source": [
    "## Approach #1 Using combinations"
   ]
  },
  {
   "cell_type": "markdown",
   "metadata": {},
   "source": [
    "### Approach #1-1"
   ]
  },
  {
   "cell_type": "code",
   "execution_count": 90,
   "metadata": {},
   "outputs": [],
   "source": [
    "f = open(\"input.in\")\n",
    "input = f.readline"
   ]
  },
  {
   "cell_type": "code",
   "execution_count": 91,
   "metadata": {},
   "outputs": [
    {
     "name": "stdout",
     "output_type": "stream",
     "text": [
      "CPU times: user 2 µs, sys: 0 ns, total: 2 µs\n",
      "Wall time: 4.29 µs\n",
      "1\n"
     ]
    }
   ],
   "source": [
    "def func(arr, n, s, k=0, p=0):\n",
    "    global cnt\n",
    "    if k == n and p == s:\n",
    "        cnt += 1\n",
    "        return\n",
    "    l = len(arr)\n",
    "    for i in range(l):\n",
    "        func(arr[i+1:], n, s, k+1, p+arr[i])\n",
    "\n",
    "n, s = map(int, input().split())\n",
    "nums = list(map(int,input().split()))\n",
    "cnt = 0\n",
    "\n",
    "for i in range(1, n+1):\n",
    "    func(nums, i, s)\n",
    "print(cnt)"
   ]
  },
  {
   "cell_type": "markdown",
   "metadata": {},
   "source": [
    "### Approach #1-2"
   ]
  },
  {
   "cell_type": "code",
   "execution_count": 165,
   "metadata": {},
   "outputs": [],
   "source": [
    "f = open(\"input.in\")\n",
    "input = f.readline"
   ]
  },
  {
   "cell_type": "code",
   "execution_count": 87,
   "metadata": {},
   "outputs": [
    {
     "name": "stdout",
     "output_type": "stream",
     "text": [
      "CPU times: user 2 µs, sys: 1e+03 ns, total: 3 µs\n",
      "Wall time: 4.05 µs\n",
      "1\n"
     ]
    }
   ],
   "source": [
    "from itertools import combinations\n",
    "\n",
    "n, s = map(int, input().split())\n",
    "nums = list(map(int,input().split()))\n",
    "\n",
    "cnt = 0\n",
    "for i in range(1,n+1):\n",
    "    for a in map(sum,combinations(nums,i)):\n",
    "        if a == s:\n",
    "            cnt+=1\n",
    "print(cnt)"
   ]
  },
  {
   "cell_type": "markdown",
   "metadata": {},
   "source": [
    "## Approach #2 Power set"
   ]
  },
  {
   "cell_type": "markdown",
   "metadata": {},
   "source": [
    "### Approach #2-1"
   ]
  },
  {
   "cell_type": "code",
   "execution_count": 221,
   "metadata": {},
   "outputs": [],
   "source": [
    "f = open(\"input.in\")\n",
    "input = f.readline"
   ]
  },
  {
   "cell_type": "code",
   "execution_count": 222,
   "metadata": {},
   "outputs": [],
   "source": [
    "def func(n:int, s:int, l:list, k:int=0, sum_:int=0):\n",
    "global cnt\n",
    "if k == n:\n",
    "    if sum_ == s:\n",
    "        cnt+=1\n",
    "    return\n",
    "func(n, s, l, k+1, sum_)\n",
    "func(n, s, l, k+1, sum_+l[k])"
   ]
  },
  {
   "cell_type": "code",
   "execution_count": 223,
   "metadata": {},
   "outputs": [
    {
     "name": "stdout",
     "output_type": "stream",
     "text": [
      "1\n"
     ]
    }
   ],
   "source": [
    "n, s = map(int, input().split())\n",
    "nums = list(map(int,input().split()))\n",
    "\n",
    "cnt = 0\n",
    "func(n, s, nums)\n",
    "if s==0:\n",
    "    cnt-=1\n",
    "print(cnt)"
   ]
  },
  {
   "cell_type": "markdown",
   "metadata": {},
   "source": [
    "### Approach #2-2"
   ]
  },
  {
   "cell_type": "code",
   "execution_count": 175,
   "metadata": {},
   "outputs": [],
   "source": [
    "f = open(\"input.in\")\n",
    "input = f.readline"
   ]
  },
  {
   "cell_type": "code",
   "execution_count": 176,
   "metadata": {},
   "outputs": [],
   "source": [
    "def func(n:int, l:list, cnt:dict, k:int=0, sum_:int=0):\n",
    "    if k == n:\n",
    "        cnt[sum_] = cnt.get(sum_,0) + 1\n",
    "        return\n",
    "    func(n, l, cnt, k+1, sum_)\n",
    "    func(n, l, cnt, k+1, sum_+l[k])"
   ]
  },
  {
   "cell_type": "code",
   "execution_count": 174,
   "metadata": {},
   "outputs": [
    {
     "name": "stdout",
     "output_type": "stream",
     "text": [
      "1\n"
     ]
    }
   ],
   "source": [
    "def BOJ1182():\n",
    "    n, s = map(int, input().split())\n",
    "    nums = list(map(int,input().split()))\n",
    "    count = {} # {sum:cnt}\n",
    "\n",
    "    func(n, nums, count)\n",
    "\n",
    "    count[0]-=1\n",
    "\n",
    "    print(count.get(s,0))\n",
    "BOJ1182()"
   ]
  },
  {
   "cell_type": "markdown",
   "metadata": {},
   "source": [
    "### Approach #2-3 Divide and Conquer"
   ]
  },
  {
   "cell_type": "code",
   "execution_count": 257,
   "metadata": {},
   "outputs": [],
   "source": [
    "f = open(\"input.in\")\n",
    "input = f.readline"
   ]
  },
  {
   "cell_type": "code",
   "execution_count": 255,
   "metadata": {},
   "outputs": [],
   "source": [
    "def func(n:int, l:list, cnt:dict, k:int=0, sum_:int=0):\n",
    "    if k == n:\n",
    "        cnt[sum_] = cnt.get(sum_,0) + 1\n",
    "        return\n",
    "    func(n, l, cnt, k+1, sum_)\n",
    "    func(n, l, cnt, k+1, sum_+l[k])"
   ]
  },
  {
   "cell_type": "code",
   "execution_count": 256,
   "metadata": {},
   "outputs": [
    {
     "name": "stdout",
     "output_type": "stream",
     "text": [
      "1\n"
     ]
    }
   ],
   "source": [
    "def BOJ1182():\n",
    "    n, s = map(int, input().split())\n",
    "    nums = list(map(int,input().split()))\n",
    "    left, right = nums[:n//2], nums[n//2:]\n",
    "    left_cnt,right_cnt = {},{} # {sum:cnt}\n",
    "\n",
    "    func(len(left), left, left_cnt)\n",
    "    func(len(right), right, right_cnt)\n",
    "\n",
    "    left_cnt[0]-=1\n",
    "    right_cnt[0]-=1\n",
    "\n",
    "    ans = left_cnt.get(s,0)+right_cnt.get(s,0)\n",
    "    for i in left_cnt:\n",
    "        if s-i in right_cnt:\n",
    "            ans+=left_cnt[i]*right_cnt[s-i]\n",
    "    print(ans)\n",
    "BOJ1182()"
   ]
  },
  {
   "cell_type": "markdown",
   "metadata": {},
   "source": [
    "### Approach #2-4 Divide and Conquer & Nested Function"
   ]
  },
  {
   "cell_type": "code",
   "execution_count": 32,
   "metadata": {},
   "outputs": [],
   "source": [
    "f = open(\"input.in\")\n",
    "input = f.readline"
   ]
  },
  {
   "cell_type": "code",
   "execution_count": 33,
   "metadata": {},
   "outputs": [],
   "source": [
    "def func(n:int, s:int, l:list):\n",
    "    left, right = l[:n//2], l[n//2:]\n",
    "    left_cnt, right_cnt = {}, {} # {sum:cnt}\n",
    "    def inner_func(n_:int, l_:list, cnt:dict, k:int=0, sum_:int=0):\n",
    "        if k == n_:\n",
    "            cnt[sum_] = cnt.get(sum_,0) + 1\n",
    "            return\n",
    "        inner_func(n_, l_, cnt, k+1, sum_)\n",
    "        inner_func(n_, l_, cnt, k+1, sum_+l_[k])\n",
    "        \n",
    "    inner_func(len(left), left, left_cnt)\n",
    "    inner_func(len(right), right, right_cnt)\n",
    "    \n",
    "    left_cnt[0]-=1\n",
    "    right_cnt[0]-=1\n",
    "    ans = left_cnt.get(s,0)+right_cnt.get(s,0)\n",
    "    for i in left_cnt:\n",
    "        if s-i in right_cnt:\n",
    "            ans+=left_cnt[i]*right_cnt[s-i]\n",
    "            \n",
    "    return ans"
   ]
  },
  {
   "cell_type": "code",
   "execution_count": 34,
   "metadata": {},
   "outputs": [
    {
     "name": "stdout",
     "output_type": "stream",
     "text": [
      "1\n"
     ]
    }
   ],
   "source": [
    "def BOJ1182():\n",
    "    n, s = map(int, input().split())\n",
    "    nums = list(map(int,input().split()))\n",
    "    ans = func(n, s, nums)\n",
    "    print(ans)\n",
    "BOJ1182()"
   ]
  },
  {
   "cell_type": "code",
   "execution_count": null,
   "metadata": {},
   "outputs": [],
   "source": []
  }
 ],
 "metadata": {
  "kernelspec": {
   "display_name": "Python 3",
   "language": "python",
   "name": "python3"
  },
  "language_info": {
   "codemirror_mode": {
    "name": "ipython",
    "version": 3
   },
   "file_extension": ".py",
   "mimetype": "text/x-python",
   "name": "python",
   "nbconvert_exporter": "python",
   "pygments_lexer": "ipython3",
   "version": "3.6.10"
  }
 },
 "nbformat": 4,
 "nbformat_minor": 4
}
