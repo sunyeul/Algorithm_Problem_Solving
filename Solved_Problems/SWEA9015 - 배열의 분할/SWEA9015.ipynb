{
 "cells": [
  {
   "cell_type": "code",
   "execution_count": 1,
   "metadata": {},
   "outputs": [],
   "source": [
    "f=open('input.in')\n",
    "input=f.readline"
   ]
  },
  {
   "cell_type": "code",
   "execution_count": 2,
   "metadata": {},
   "outputs": [
    {
     "name": "stdout",
     "output_type": "stream",
     "text": [
      "#1 1\n",
      "#2 2\n",
      "#3 5\n"
     ]
    }
   ],
   "source": [
    "from collections import deque\n",
    "T = int(input())\n",
    "for i in range(1, T+1):\n",
    "    n = int(input())\n",
    "    A = deque(map(int,input().split()))\n",
    "    cnt = 1\n",
    "    stack = []\n",
    "    status = ''\n",
    "    while A:\n",
    "        a = A.popleft()\n",
    "        if not stack:\n",
    "            stack.append(a)\n",
    "        else: \n",
    "            if a > stack[-1]:\n",
    "                if status == 'dec':\n",
    "                    cnt+=1\n",
    "                    stack=[a]\n",
    "                    status = ''\n",
    "                else:\n",
    "                    stack.append(a)\n",
    "                    status = 'inc'\n",
    "            elif a < stack[-1]:\n",
    "                if status == 'inc':\n",
    "                    cnt+=1\n",
    "                    stack=[a]\n",
    "                    status = ''\n",
    "                else:\n",
    "                    stack.append(a)\n",
    "                    status = 'dec'\n",
    "            else:\n",
    "                stack.append(a)\n",
    "    print('#{} {}'.format(i, cnt))"
   ]
  },
  {
   "cell_type": "code",
   "execution_count": null,
   "metadata": {},
   "outputs": [],
   "source": []
  }
 ],
 "metadata": {
  "kernelspec": {
   "display_name": "Python 3",
   "language": "python",
   "name": "python3"
  },
  "language_info": {
   "codemirror_mode": {
    "name": "ipython",
    "version": 3
   },
   "file_extension": ".py",
   "mimetype": "text/x-python",
   "name": "python",
   "nbconvert_exporter": "python",
   "pygments_lexer": "ipython3",
   "version": "3.6.10"
  }
 },
 "nbformat": 4,
 "nbformat_minor": 4
}
