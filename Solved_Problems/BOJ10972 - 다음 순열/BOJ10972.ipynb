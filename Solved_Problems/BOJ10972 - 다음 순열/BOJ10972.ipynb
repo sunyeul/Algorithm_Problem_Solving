{
 "cells": [
  {
   "cell_type": "code",
   "execution_count": 24,
   "metadata": {},
   "outputs": [],
   "source": [
    "import sys\n",
    "f = open(\"input.in\")\n",
    "input = f.readline\n",
    "print = sys.stdout.write"
   ]
  },
  {
   "cell_type": "code",
   "execution_count": 21,
   "metadata": {},
   "outputs": [],
   "source": [
    "def next_permutation(a):\n",
    "    n = len(a) - 1\n",
    "    i = n\n",
    "    while i > 0 and a[i-1] >= a[i]:\n",
    "        i -= 1\n",
    "    if i == 0:\n",
    "        return False\n",
    "    j=n\n",
    "    while a[i-1] >= a[j]:\n",
    "        j -= 1\n",
    "    a[i-1], a[j] = a[j], a[i-1]\n",
    "    j=n\n",
    "    while i < j:\n",
    "        a[i], a[j] = a[j], a[i]\n",
    "        i += 1\n",
    "        j -= 1\n",
    "    return True"
   ]
  },
  {
   "cell_type": "code",
   "execution_count": 22,
   "metadata": {},
   "outputs": [
    {
     "name": "stdout",
     "output_type": "stream",
     "text": [
      "1 2 4 3"
     ]
    }
   ],
   "source": [
    "def BOJ10972():\n",
    "    n = int(input())\n",
    "    arr = list(map(int,input().split()))\n",
    "    if next_permutation(arr):\n",
    "        print(\" \".join(map(str,arr)))\n",
    "    else:\n",
    "        print(\"{}\".format(-1))\n",
    "BOJ10972()"
   ]
  },
  {
   "cell_type": "code",
   "execution_count": null,
   "metadata": {},
   "outputs": [],
   "source": []
  }
 ],
 "metadata": {
  "kernelspec": {
   "display_name": "Python 3",
   "language": "python",
   "name": "python3"
  },
  "language_info": {
   "codemirror_mode": {
    "name": "ipython",
    "version": 3
   },
   "file_extension": ".py",
   "mimetype": "text/x-python",
   "name": "python",
   "nbconvert_exporter": "python",
   "pygments_lexer": "ipython3",
   "version": "3.6.10"
  }
 },
 "nbformat": 4,
 "nbformat_minor": 4
}
