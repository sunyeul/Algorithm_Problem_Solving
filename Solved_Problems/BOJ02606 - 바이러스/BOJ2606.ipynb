{
 "cells": [
  {
   "cell_type": "code",
   "execution_count": 15,
   "metadata": {},
   "outputs": [],
   "source": [
    "f = open(\"input.in\")\n",
    "input = f.readline"
   ]
  },
  {
   "cell_type": "code",
   "execution_count": 16,
   "metadata": {},
   "outputs": [
    {
     "name": "stdout",
     "output_type": "stream",
     "text": [
      "[2, 5, 1, 6, 3]\n"
     ]
    }
   ],
   "source": [
    "def BOJ_2606():\n",
    "    node = int(input())\n",
    "    edge = int(input())\n",
    "    G=[[0]*(node+1) for _ in range(node+1)]\n",
    "    \n",
    "    for _ in range(edge):\n",
    "        a, b = map(int,input().split())\n",
    "        G[a][b]=1\n",
    "        G[b][a]=1\n",
    "\n",
    "    stack = [1]\n",
    "    infected = []\n",
    "    \n",
    "    while stack:\n",
    "        p = stack.pop()\n",
    "        for x in range(1,node+1):\n",
    "            if G[p][x]==1 and x not in stack and x not in infected:\n",
    "                stack.append(x)\n",
    "                infected.append(x)\n",
    "    print(len(infected)-1)\n",
    "\n",
    "BOJ_2606()"
   ]
  },
  {
   "cell_type": "code",
   "execution_count": 14,
   "metadata": {},
   "outputs": [
    {
     "name": "stdout",
     "output_type": "stream",
     "text": [
      "a:1,b:2,t1:1,t2:2\n",
      "a:2,b:3,t1:1,t2:3\n",
      "a:1,b:5,t1:1,t2:5\n",
      "a:5,b:2,t1:1,t2:1\n",
      "a:5,b:6,t1:1,t2:6\n",
      "a:4,b:7,t1:4,t2:7\n",
      "4\n"
     ]
    }
   ],
   "source": [
    "def unionfind(i):\n",
    "    if cl[i][0]:\n",
    "        cl[i][0] = unionfind(cl[i][0])\n",
    "        return cl[i][0]\n",
    "    return i\n",
    "\n",
    "N = int(input())\n",
    "cl = [[0, 1] for _ in range(N+1)]\n",
    "M = int(input())\n",
    "for _ in range(M):\n",
    "    a, b = map(int, input().split())\n",
    "    t1, t2 = unionfind(a), unionfind(b)\n",
    "    print(\"a:{},b:{},t1:{},t2:{}\".format(a,b,t1,t2))\n",
    "    if t1 != t2:\n",
    "        if t1 > t2:\n",
    "            t1, t2 = t2, t1\n",
    "        cl[t2][0] = t1\n",
    "        cl[t1][1] += cl[t2][1]\n",
    "print(cl[1][1]-1)"
   ]
  },
  {
   "cell_type": "code",
   "execution_count": null,
   "metadata": {},
   "outputs": [],
   "source": []
  }
 ],
 "metadata": {
  "kernelspec": {
   "display_name": "Python 3",
   "language": "python",
   "name": "python3"
  },
  "language_info": {
   "codemirror_mode": {
    "name": "ipython",
    "version": 3
   },
   "file_extension": ".py",
   "mimetype": "text/x-python",
   "name": "python",
   "nbconvert_exporter": "python",
   "pygments_lexer": "ipython3",
   "version": "3.6.10"
  }
 },
 "nbformat": 4,
 "nbformat_minor": 4
}
