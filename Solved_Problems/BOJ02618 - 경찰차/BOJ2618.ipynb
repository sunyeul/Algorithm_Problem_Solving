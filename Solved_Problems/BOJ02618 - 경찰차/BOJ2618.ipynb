{
 "cells": [
  {
   "cell_type": "code",
   "execution_count": 203,
   "metadata": {},
   "outputs": [],
   "source": [
    "f = open(\"input.in\")\n",
    "input = f.readline"
   ]
  },
  {
   "cell_type": "code",
   "execution_count": 204,
   "metadata": {},
   "outputs": [
    {
     "name": "stdout",
     "output_type": "stream",
     "text": [
      "9\n",
      "2\n",
      "2\n",
      "1\n"
     ]
    }
   ],
   "source": [
    "def dist(x1, x2):\n",
    "    return abs(x1[0]-x2[0])+abs(x1[1]-x2[1])\n",
    "\n",
    "def DP_TR():\n",
    "    d = [[dist(x1,x2) for x2 in W] for x1 in W]\n",
    "    dp = [[0]]\n",
    "    tr = [[1,2]]\n",
    "    for i in range(1,w+1):\n",
    "        dp.append([])\n",
    "        m = 1e10\n",
    "        for k in range(i):\n",
    "            t = dp[i-1][k] + d[i-k-1][i+1]\n",
    "            if t<m:\n",
    "                m=t\n",
    "                k0=i-k-1\n",
    "        tr.append(tr[k0]+[tr[k0][-1]]*(i-k0-1))\n",
    "        tr[i].append(3-tr[i][-1])\n",
    "        dp[i].append(m)\n",
    "        for j in range(1,i+1):\n",
    "            dp[i].append(dp[i-1][j-1] + d[i][i+1])\n",
    "\n",
    "def output():\n",
    "    m=1e10\n",
    "    for i in range(w+1):\n",
    "        t = dp[-1][i]\n",
    "        if t < m:\n",
    "            m=t\n",
    "            k=w-i\n",
    "    print(m)\n",
    "    for tr1 in (tr[k]+[tr[k][-1]]*(w-k))[2:]: \n",
    "        print(tr1)\n",
    "    \n",
    "def BOJ_2618():\n",
    "    n,w = int(input()), int(input())\n",
    "    W  = [(1,1),(n,n)]+[tuple(map(int,input().split())) for _ in range(w)]\n",
    "    DP_TR()\n",
    "    output()\n",
    "BOJ_2618()"
   ]
  },
  {
   "cell_type": "code",
   "execution_count": null,
   "metadata": {},
   "outputs": [],
   "source": []
  }
 ],
 "metadata": {
  "kernelspec": {
   "display_name": "Python 3",
   "language": "python",
   "name": "python3"
  },
  "language_info": {
   "codemirror_mode": {
    "name": "ipython",
    "version": 3
   },
   "file_extension": ".py",
   "mimetype": "text/x-python",
   "name": "python",
   "nbconvert_exporter": "python",
   "pygments_lexer": "ipython3",
   "version": "3.6.10"
  }
 },
 "nbformat": 4,
 "nbformat_minor": 4
}
