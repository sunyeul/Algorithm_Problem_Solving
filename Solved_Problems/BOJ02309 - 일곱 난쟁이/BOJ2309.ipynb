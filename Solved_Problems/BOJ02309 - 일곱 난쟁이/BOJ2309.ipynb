{
 "cells": [
  {
   "cell_type": "code",
   "execution_count": 101,
   "metadata": {},
   "outputs": [],
   "source": [
    "f = open(\"input.in\")\n",
    "input = f.readline"
   ]
  },
  {
   "cell_type": "code",
   "execution_count": 102,
   "metadata": {},
   "outputs": [
    {
     "name": "stdout",
     "output_type": "stream",
     "text": [
      "7\n",
      "8\n",
      "10\n",
      "13\n",
      "19\n",
      "20\n",
      "23\n"
     ]
    }
   ],
   "source": [
    "def BOJ_2309():\n",
    "    num=[int(input()) for _ in range(9)]\n",
    "    obj=sum(num)-100\n",
    "    for i in range(8):\n",
    "        for j in range(i+1,9):\n",
    "            if num[i]+num[j]==obj:\n",
    "                num.pop(i);num.pop(j-1)\n",
    "                break\n",
    "        else:continue\n",
    "        break\n",
    "    num.sort()\n",
    "    print(*num,sep=\"\\n\")\n",
    "BOJ_2309()"
   ]
  },
  {
   "cell_type": "code",
   "execution_count": null,
   "metadata": {},
   "outputs": [],
   "source": []
  }
 ],
 "metadata": {
  "kernelspec": {
   "display_name": "Python 3",
   "language": "python",
   "name": "python3"
  },
  "language_info": {
   "codemirror_mode": {
    "name": "ipython",
    "version": 3
   },
   "file_extension": ".py",
   "mimetype": "text/x-python",
   "name": "python",
   "nbconvert_exporter": "python",
   "pygments_lexer": "ipython3",
   "version": "3.6.10"
  }
 },
 "nbformat": 4,
 "nbformat_minor": 4
}
