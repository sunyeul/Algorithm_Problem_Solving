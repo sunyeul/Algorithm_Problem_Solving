{
 "cells": [
  {
   "cell_type": "markdown",
   "metadata": {},
   "source": [
    "1. import sys 활용\n",
    "\n",
    "2. def BOJ_***() : 함수로 감싸기\n",
    "\n",
    "3. for i in range(n) $\\Rightarrow$ for i in list : 인덱스로 호출하기 보다는 list의 요소를 그대로 호출\n",
    "\n",
    "4. for x in map(int, sys.stdin) : 입력이 여러 줄일 때\n",
    "\n",
    "5.  if (condition) : continue :불필요한 계산 스킵\n",
    "\n",
    "6. A=map(int,input().split()), next(A) : iter() (반복자), next() (생성자) 활용\n",
    "\n",
    "7. 함수 모듈화"
   ]
  },
  {
   "cell_type": "code",
   "execution_count": null,
   "metadata": {},
   "outputs": [],
   "source": []
  }
 ],
 "metadata": {
  "kernelspec": {
   "display_name": "Python 3",
   "language": "python",
   "name": "python3"
  },
  "language_info": {
   "codemirror_mode": {
    "name": "ipython",
    "version": 3
   },
   "file_extension": ".py",
   "mimetype": "text/x-python",
   "name": "python",
   "nbconvert_exporter": "python",
   "pygments_lexer": "ipython3",
   "version": "3.6.10"
  }
 },
 "nbformat": 4,
 "nbformat_minor": 4
}
